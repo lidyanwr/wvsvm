{
 "cells": [
  {
   "cell_type": "code",
   "execution_count": 32,
   "metadata": {},
   "outputs": [],
   "source": [
    "import pandas as pd\n",
    "from bs4 import BeautifulSoup\n",
    "import re\n",
    "import nltk \n",
    "import string \n",
    "import sys\n",
    "import numpy as np\n",
    "import linalg\n",
    "from sklearn import preprocessing\n",
    "from sklearn.decomposition import TruncatedSVD"
   ]
  },
  {
   "cell_type": "code",
   "execution_count": 33,
   "metadata": {},
   "outputs": [],
   "source": [
    "from sklearn.feature_extraction.text import TfidfVectorizer\n",
    "from sklearn.feature_extraction.text import CountVectorizer\n",
    "from sklearn.pipeline import make_pipeline\n",
    "from sklearn.preprocessing import Normalizer"
   ]
  },
  {
   "cell_type": "code",
   "execution_count": 34,
   "metadata": {},
   "outputs": [
    {
     "data": {
      "text/plain": [
       "(5195, 11)"
      ]
     },
     "execution_count": 34,
     "metadata": {},
     "output_type": "execute_result"
    }
   ],
   "source": [
    "all_data = pd.read_csv(\"DataReady.csv\")\n",
    "all_data.shape"
   ]
  },
  {
   "cell_type": "code",
   "execution_count": 35,
   "metadata": {},
   "outputs": [
    {
     "data": {
      "text/html": [
       "<div>\n",
       "<style scoped>\n",
       "    .dataframe tbody tr th:only-of-type {\n",
       "        vertical-align: middle;\n",
       "    }\n",
       "\n",
       "    .dataframe tbody tr th {\n",
       "        vertical-align: top;\n",
       "    }\n",
       "\n",
       "    .dataframe thead th {\n",
       "        text-align: right;\n",
       "    }\n",
       "</style>\n",
       "<table border=\"1\" class=\"dataframe\">\n",
       "  <thead>\n",
       "    <tr style=\"text-align: right;\">\n",
       "      <th></th>\n",
       "      <th>Link</th>\n",
       "      <th>Data</th>\n",
       "      <th>Category</th>\n",
       "      <th>CategoryIndex</th>\n",
       "      <th>Keyword</th>\n",
       "      <th>VarKeyword</th>\n",
       "      <th>TotalFreqKeyword</th>\n",
       "      <th>TotalWord</th>\n",
       "      <th>TermRatio</th>\n",
       "      <th>interval</th>\n",
       "      <th>AVGInterval</th>\n",
       "    </tr>\n",
       "  </thead>\n",
       "  <tbody>\n",
       "    <tr>\n",
       "      <th>5085</th>\n",
       "      <td>https://www.cia.gov/library/publications/the-w...</td>\n",
       "      <td>central america bahamas world factbook central...</td>\n",
       "      <td>Kids</td>\n",
       "      <td>1.0</td>\n",
       "      <td>['cat', 'animal', 'tree', 'christmas', 'color'...</td>\n",
       "      <td>1123</td>\n",
       "      <td>5923</td>\n",
       "      <td>8547</td>\n",
       "      <td>0.692992</td>\n",
       "      <td>1553</td>\n",
       "      <td>0.0</td>\n",
       "    </tr>\n",
       "    <tr>\n",
       "      <th>1729</th>\n",
       "      <td>http://www.internet-colleges.net/</td>\n",
       "      <td>error page display contact service provider de...</td>\n",
       "      <td>General</td>\n",
       "      <td>-1.0</td>\n",
       "      <td>['page', 'detail', 'service', 'provider', 'con...</td>\n",
       "      <td>6</td>\n",
       "      <td>6</td>\n",
       "      <td>7</td>\n",
       "      <td>0.857143</td>\n",
       "      <td>1579</td>\n",
       "      <td>263.0</td>\n",
       "    </tr>\n",
       "    <tr>\n",
       "      <th>3929</th>\n",
       "      <td>http://www.iidc.indiana.edu/cedir/kidsweb/fpwd...</td>\n",
       "      <td>cedir famous people disability skip navigation...</td>\n",
       "      <td>Kids</td>\n",
       "      <td>1.0</td>\n",
       "      <td>['free', 'activity', 'word', 'music', 'learn',...</td>\n",
       "      <td>497</td>\n",
       "      <td>1080</td>\n",
       "      <td>1498</td>\n",
       "      <td>0.720961</td>\n",
       "      <td>1447</td>\n",
       "      <td>1.0</td>\n",
       "    </tr>\n",
       "    <tr>\n",
       "      <th>1052</th>\n",
       "      <td>http://www.bakingbites.com/</td>\n",
       "      <td>bake bite award win food bake blog feature rec...</td>\n",
       "      <td>General</td>\n",
       "      <td>-1.0</td>\n",
       "      <td>['free', 'food', 'school', 'read', 'spell', 'p...</td>\n",
       "      <td>138</td>\n",
       "      <td>383</td>\n",
       "      <td>532</td>\n",
       "      <td>0.719925</td>\n",
       "      <td>1372</td>\n",
       "      <td>4.0</td>\n",
       "    </tr>\n",
       "    <tr>\n",
       "      <th>3780</th>\n",
       "      <td>http://www.kidsfreesouls.com/</td>\n",
       "      <td>kidsfreesouls newspaper kid resource parent te...</td>\n",
       "      <td>Kids</td>\n",
       "      <td>1.0</td>\n",
       "      <td>['christmas', 'color', 'page', 'sheet', 'free'...</td>\n",
       "      <td>244</td>\n",
       "      <td>817</td>\n",
       "      <td>1511</td>\n",
       "      <td>0.540702</td>\n",
       "      <td>1608</td>\n",
       "      <td>2.0</td>\n",
       "    </tr>\n",
       "    <tr>\n",
       "      <th>2643</th>\n",
       "      <td>http://www.sportinglife.com/golf/news/</td>\n",
       "      <td>european tour pga tour bet preview tip news re...</td>\n",
       "      <td>General</td>\n",
       "      <td>-1.0</td>\n",
       "      <td>['page', 'autumn', 'game', 'story', 'book', 'r...</td>\n",
       "      <td>133</td>\n",
       "      <td>279</td>\n",
       "      <td>532</td>\n",
       "      <td>0.524436</td>\n",
       "      <td>2133</td>\n",
       "      <td>8.0</td>\n",
       "    </tr>\n",
       "    <tr>\n",
       "      <th>3335</th>\n",
       "      <td>http://hea-www.harvard.edu/ECT/the_book/index....</td>\n",
       "      <td>eye sky foot grind collection child online ast...</td>\n",
       "      <td>Kids</td>\n",
       "      <td>1.0</td>\n",
       "      <td>['page', 'activity', 'learn', 'teacher', 'site...</td>\n",
       "      <td>54</td>\n",
       "      <td>71</td>\n",
       "      <td>84</td>\n",
       "      <td>0.845238</td>\n",
       "      <td>946</td>\n",
       "      <td>13.0</td>\n",
       "    </tr>\n",
       "    <tr>\n",
       "      <th>162</th>\n",
       "      <td>http://www.stanford.edu/group/SHR/</td>\n",
       "      <td>stanford humanity review issn update april not...</td>\n",
       "      <td>General</td>\n",
       "      <td>-1.0</td>\n",
       "      <td>['page', 'draw', 'science', 'site', 'productio...</td>\n",
       "      <td>201</td>\n",
       "      <td>304</td>\n",
       "      <td>482</td>\n",
       "      <td>0.630705</td>\n",
       "      <td>1162</td>\n",
       "      <td>4.0</td>\n",
       "    </tr>\n",
       "    <tr>\n",
       "      <th>1086</th>\n",
       "      <td>http://www.diyonline.com/</td>\n",
       "      <td>diyonline</td>\n",
       "      <td>General</td>\n",
       "      <td>-1.0</td>\n",
       "      <td>[]</td>\n",
       "      <td>0</td>\n",
       "      <td>0</td>\n",
       "      <td>1</td>\n",
       "      <td>0.000000</td>\n",
       "      <td>0</td>\n",
       "      <td>NaN</td>\n",
       "    </tr>\n",
       "    <tr>\n",
       "      <th>714</th>\n",
       "      <td>http://greenethorne.tripod.com/</td>\n",
       "      <td>plaidscape find tripod site redirect click red...</td>\n",
       "      <td>General</td>\n",
       "      <td>-1.0</td>\n",
       "      <td>['site', 'find', 'click']</td>\n",
       "      <td>3</td>\n",
       "      <td>3</td>\n",
       "      <td>7</td>\n",
       "      <td>0.428571</td>\n",
       "      <td>989</td>\n",
       "      <td>330.0</td>\n",
       "    </tr>\n",
       "  </tbody>\n",
       "</table>\n",
       "</div>"
      ],
      "text/plain": [
       "                                                   Link  \\\n",
       "5085  https://www.cia.gov/library/publications/the-w...   \n",
       "1729                  http://www.internet-colleges.net/   \n",
       "3929  http://www.iidc.indiana.edu/cedir/kidsweb/fpwd...   \n",
       "1052                        http://www.bakingbites.com/   \n",
       "3780                      http://www.kidsfreesouls.com/   \n",
       "2643             http://www.sportinglife.com/golf/news/   \n",
       "3335  http://hea-www.harvard.edu/ECT/the_book/index....   \n",
       "162                  http://www.stanford.edu/group/SHR/   \n",
       "1086                          http://www.diyonline.com/   \n",
       "714                     http://greenethorne.tripod.com/   \n",
       "\n",
       "                                                   Data Category  \\\n",
       "5085  central america bahamas world factbook central...     Kids   \n",
       "1729  error page display contact service provider de...  General   \n",
       "3929  cedir famous people disability skip navigation...     Kids   \n",
       "1052  bake bite award win food bake blog feature rec...  General   \n",
       "3780  kidsfreesouls newspaper kid resource parent te...     Kids   \n",
       "2643  european tour pga tour bet preview tip news re...  General   \n",
       "3335  eye sky foot grind collection child online ast...     Kids   \n",
       "162   stanford humanity review issn update april not...  General   \n",
       "1086                                          diyonline  General   \n",
       "714   plaidscape find tripod site redirect click red...  General   \n",
       "\n",
       "      CategoryIndex                                            Keyword  \\\n",
       "5085            1.0  ['cat', 'animal', 'tree', 'christmas', 'color'...   \n",
       "1729           -1.0  ['page', 'detail', 'service', 'provider', 'con...   \n",
       "3929            1.0  ['free', 'activity', 'word', 'music', 'learn',...   \n",
       "1052           -1.0  ['free', 'food', 'school', 'read', 'spell', 'p...   \n",
       "3780            1.0  ['christmas', 'color', 'page', 'sheet', 'free'...   \n",
       "2643           -1.0  ['page', 'autumn', 'game', 'story', 'book', 'r...   \n",
       "3335            1.0  ['page', 'activity', 'learn', 'teacher', 'site...   \n",
       "162            -1.0  ['page', 'draw', 'science', 'site', 'productio...   \n",
       "1086           -1.0                                                 []   \n",
       "714            -1.0                          ['site', 'find', 'click']   \n",
       "\n",
       "      VarKeyword  TotalFreqKeyword  TotalWord  TermRatio  interval  \\\n",
       "5085        1123              5923       8547   0.692992      1553   \n",
       "1729           6                 6          7   0.857143      1579   \n",
       "3929         497              1080       1498   0.720961      1447   \n",
       "1052         138               383        532   0.719925      1372   \n",
       "3780         244               817       1511   0.540702      1608   \n",
       "2643         133               279        532   0.524436      2133   \n",
       "3335          54                71         84   0.845238       946   \n",
       "162          201               304        482   0.630705      1162   \n",
       "1086           0                 0          1   0.000000         0   \n",
       "714            3                 3          7   0.428571       989   \n",
       "\n",
       "      AVGInterval  \n",
       "5085          0.0  \n",
       "1729        263.0  \n",
       "3929          1.0  \n",
       "1052          4.0  \n",
       "3780          2.0  \n",
       "2643          8.0  \n",
       "3335         13.0  \n",
       "162           4.0  \n",
       "1086          NaN  \n",
       "714         330.0  "
      ]
     },
     "execution_count": 35,
     "metadata": {},
     "output_type": "execute_result"
    }
   ],
   "source": [
    "all_data.sample(10)"
   ]
  },
  {
   "cell_type": "code",
   "execution_count": 36,
   "metadata": {},
   "outputs": [
    {
     "data": {
      "text/plain": [
       "Link                 0\n",
       "Data                 0\n",
       "Category             0\n",
       "CategoryIndex        0\n",
       "Keyword              0\n",
       "VarKeyword           0\n",
       "TotalFreqKeyword     0\n",
       "TotalWord            0\n",
       "TermRatio            0\n",
       "interval             0\n",
       "AVGInterval         48\n",
       "dtype: int64"
      ]
     },
     "execution_count": 36,
     "metadata": {},
     "output_type": "execute_result"
    }
   ],
   "source": [
    "all_data.isnull().sum()"
   ]
  },
  {
   "cell_type": "code",
   "execution_count": 37,
   "metadata": {},
   "outputs": [
    {
     "data": {
      "text/plain": [
       "Link                0\n",
       "Data                0\n",
       "Category            0\n",
       "CategoryIndex       0\n",
       "Keyword             0\n",
       "VarKeyword          0\n",
       "TotalFreqKeyword    0\n",
       "TotalWord           0\n",
       "TermRatio           0\n",
       "interval            0\n",
       "AVGInterval         0\n",
       "dtype: int64"
      ]
     },
     "execution_count": 37,
     "metadata": {},
     "output_type": "execute_result"
    }
   ],
   "source": [
    "clean_data = all_data\n",
    "clean_data[\"AVGInterval\"] = clean_data['AVGInterval'].replace(np.nan, 0)\n",
    "clean_data.isnull().sum()"
   ]
  },
  {
   "cell_type": "code",
   "execution_count": 38,
   "metadata": {},
   "outputs": [
    {
     "data": {
      "text/html": [
       "<div>\n",
       "<style scoped>\n",
       "    .dataframe tbody tr th:only-of-type {\n",
       "        vertical-align: middle;\n",
       "    }\n",
       "\n",
       "    .dataframe tbody tr th {\n",
       "        vertical-align: top;\n",
       "    }\n",
       "\n",
       "    .dataframe thead th {\n",
       "        text-align: right;\n",
       "    }\n",
       "</style>\n",
       "<table border=\"1\" class=\"dataframe\">\n",
       "  <thead>\n",
       "    <tr style=\"text-align: right;\">\n",
       "      <th></th>\n",
       "      <th>Link</th>\n",
       "      <th>Data</th>\n",
       "      <th>Category</th>\n",
       "      <th>CategoryIndex</th>\n",
       "      <th>Keyword</th>\n",
       "      <th>VarKeyword</th>\n",
       "      <th>TotalFreqKeyword</th>\n",
       "      <th>TotalWord</th>\n",
       "      <th>TermRatio</th>\n",
       "      <th>interval</th>\n",
       "      <th>AVGInterval</th>\n",
       "    </tr>\n",
       "  </thead>\n",
       "  <tbody>\n",
       "    <tr>\n",
       "      <th>0</th>\n",
       "      <td>http://benjah.free.fr/</td>\n",
       "      <td>benjah free rvb notv contrat creative common</td>\n",
       "      <td>General</td>\n",
       "      <td>-1.0</td>\n",
       "      <td>['free', 'creative', 'common']</td>\n",
       "      <td>3</td>\n",
       "      <td>3</td>\n",
       "      <td>7</td>\n",
       "      <td>0.428571</td>\n",
       "      <td>1598</td>\n",
       "      <td>533.0</td>\n",
       "    </tr>\n",
       "    <tr>\n",
       "      <th>1</th>\n",
       "      <td>http://www.paaw.com/</td>\n",
       "      <td>perform art artist worldwide perform art artis...</td>\n",
       "      <td>General</td>\n",
       "      <td>-1.0</td>\n",
       "      <td>['site', 'production', 'web', 'project', 'read...</td>\n",
       "      <td>80</td>\n",
       "      <td>144</td>\n",
       "      <td>188</td>\n",
       "      <td>0.765957</td>\n",
       "      <td>1568</td>\n",
       "      <td>11.0</td>\n",
       "    </tr>\n",
       "    <tr>\n",
       "      <th>2</th>\n",
       "      <td>http://vlib.org/Humanities</td>\n",
       "      <td>humanity humanistic study virtual library huma...</td>\n",
       "      <td>General</td>\n",
       "      <td>-1.0</td>\n",
       "      <td>['page', 'science', 'online', 'high', 'type', ...</td>\n",
       "      <td>60</td>\n",
       "      <td>145</td>\n",
       "      <td>219</td>\n",
       "      <td>0.662100</td>\n",
       "      <td>2063</td>\n",
       "      <td>14.0</td>\n",
       "    </tr>\n",
       "    <tr>\n",
       "      <th>3</th>\n",
       "      <td>http://www.berzowska.com/xy/index.html</td>\n",
       "      <td>computational expressionism</td>\n",
       "      <td>General</td>\n",
       "      <td>-1.0</td>\n",
       "      <td>['expressionism']</td>\n",
       "      <td>1</td>\n",
       "      <td>1</td>\n",
       "      <td>2</td>\n",
       "      <td>0.500000</td>\n",
       "      <td>0</td>\n",
       "      <td>0.0</td>\n",
       "    </tr>\n",
       "    <tr>\n",
       "      <th>4</th>\n",
       "      <td>http://www.chronotext.org/</td>\n",
       "      <td>chronotext org chronotext grow collection soft...</td>\n",
       "      <td>General</td>\n",
       "      <td>-1.0</td>\n",
       "      <td>['tree', 'word', 'poem', 'music', 'site', 'gam...</td>\n",
       "      <td>256</td>\n",
       "      <td>476</td>\n",
       "      <td>677</td>\n",
       "      <td>0.703102</td>\n",
       "      <td>1608</td>\n",
       "      <td>3.0</td>\n",
       "    </tr>\n",
       "  </tbody>\n",
       "</table>\n",
       "</div>"
      ],
      "text/plain": [
       "                                     Link  \\\n",
       "0                  http://benjah.free.fr/   \n",
       "1                    http://www.paaw.com/   \n",
       "2              http://vlib.org/Humanities   \n",
       "3  http://www.berzowska.com/xy/index.html   \n",
       "4              http://www.chronotext.org/   \n",
       "\n",
       "                                                Data Category  CategoryIndex  \\\n",
       "0       benjah free rvb notv contrat creative common  General           -1.0   \n",
       "1  perform art artist worldwide perform art artis...  General           -1.0   \n",
       "2  humanity humanistic study virtual library huma...  General           -1.0   \n",
       "3                        computational expressionism  General           -1.0   \n",
       "4  chronotext org chronotext grow collection soft...  General           -1.0   \n",
       "\n",
       "                                             Keyword  VarKeyword  \\\n",
       "0                     ['free', 'creative', 'common']           3   \n",
       "1  ['site', 'production', 'web', 'project', 'read...          80   \n",
       "2  ['page', 'science', 'online', 'high', 'type', ...          60   \n",
       "3                                  ['expressionism']           1   \n",
       "4  ['tree', 'word', 'poem', 'music', 'site', 'gam...         256   \n",
       "\n",
       "   TotalFreqKeyword  TotalWord  TermRatio  interval  AVGInterval  \n",
       "0                 3          7   0.428571      1598        533.0  \n",
       "1               144        188   0.765957      1568         11.0  \n",
       "2               145        219   0.662100      2063         14.0  \n",
       "3                 1          2   0.500000         0          0.0  \n",
       "4               476        677   0.703102      1608          3.0  "
      ]
     },
     "execution_count": 38,
     "metadata": {},
     "output_type": "execute_result"
    }
   ],
   "source": [
    "clean_data.head(5)"
   ]
  },
  {
   "cell_type": "code",
   "execution_count": 39,
   "metadata": {},
   "outputs": [
    {
     "data": {
      "text/plain": [
       "General    2684\n",
       "Kids       2511\n",
       "Name: Category, dtype: int64"
      ]
     },
     "execution_count": 39,
     "metadata": {},
     "output_type": "execute_result"
    }
   ],
   "source": [
    "clean_data['Category'].value_counts()"
   ]
  },
  {
   "cell_type": "code",
   "execution_count": 40,
   "metadata": {},
   "outputs": [
    {
     "data": {
      "text/plain": [
       "((5195, 5), (5195,))"
      ]
     },
     "execution_count": 40,
     "metadata": {},
     "output_type": "execute_result"
    }
   ],
   "source": [
    "# MEMBUAT DATA FRAME DENGAN ISI KOLOM YANG DIGUNAKAN SAJAA\n",
    "x_data = clean_data[[\"Data\", \"TotalFreqKeyword\", \"TotalWord\", \"TermRatio\", \"AVGInterval\"]]\n",
    "y_data = clean_data[\"CategoryIndex\"]\n",
    "x_data.shape, y_data.shape"
   ]
  },
  {
   "cell_type": "code",
   "execution_count": 41,
   "metadata": {},
   "outputs": [
    {
     "name": "stdout",
     "output_type": "stream",
     "text": [
      "(3636, 5) (3636,)\n",
      "(1559, 5) (1559,)\n"
     ]
    }
   ],
   "source": [
    "from sklearn.model_selection import train_test_split\n",
    "x_train, x_test, y_train, y_test = train_test_split(x_data, y_data, test_size=0.3, random_state=3)\n",
    "\n",
    "print (x_train.shape , y_train.shape)\n",
    "print (x_test.shape, y_test.shape)"
   ]
  },
  {
   "cell_type": "code",
   "execution_count": 42,
   "metadata": {},
   "outputs": [
    {
     "data": {
      "text/html": [
       "<div>\n",
       "<style scoped>\n",
       "    .dataframe tbody tr th:only-of-type {\n",
       "        vertical-align: middle;\n",
       "    }\n",
       "\n",
       "    .dataframe tbody tr th {\n",
       "        vertical-align: top;\n",
       "    }\n",
       "\n",
       "    .dataframe thead th {\n",
       "        text-align: right;\n",
       "    }\n",
       "</style>\n",
       "<table border=\"1\" class=\"dataframe\">\n",
       "  <thead>\n",
       "    <tr style=\"text-align: right;\">\n",
       "      <th></th>\n",
       "      <th>Data</th>\n",
       "      <th>TotalFreqKeyword</th>\n",
       "      <th>TotalWord</th>\n",
       "      <th>TermRatio</th>\n",
       "      <th>AVGInterval</th>\n",
       "    </tr>\n",
       "  </thead>\n",
       "  <tbody>\n",
       "    <tr>\n",
       "      <th>1279</th>\n",
       "      <td>newamericangazette justhost web host host home...</td>\n",
       "      <td>24</td>\n",
       "      <td>31</td>\n",
       "      <td>0.774194</td>\n",
       "      <td>53.0</td>\n",
       "    </tr>\n",
       "    <tr>\n",
       "      <th>3436</th>\n",
       "      <td>girl summer art camp dance camp music camp the...</td>\n",
       "      <td>530</td>\n",
       "      <td>737</td>\n",
       "      <td>0.719132</td>\n",
       "      <td>2.0</td>\n",
       "    </tr>\n",
       "    <tr>\n",
       "      <th>2515</th>\n",
       "      <td>foxsports tennishttp foxsports tennis latest t...</td>\n",
       "      <td>175</td>\n",
       "      <td>369</td>\n",
       "      <td>0.474255</td>\n",
       "      <td>14.0</td>\n",
       "    </tr>\n",
       "    <tr>\n",
       "      <th>4067</th>\n",
       "      <td>kid web india portal kid young teen kid web si...</td>\n",
       "      <td>352</td>\n",
       "      <td>432</td>\n",
       "      <td>0.814815</td>\n",
       "      <td>5.0</td>\n",
       "    </tr>\n",
       "    <tr>\n",
       "      <th>4834</th>\n",
       "      <td>bahamas fact history news toggle navigation se...</td>\n",
       "      <td>366</td>\n",
       "      <td>482</td>\n",
       "      <td>0.759336</td>\n",
       "      <td>4.0</td>\n",
       "    </tr>\n",
       "    <tr>\n",
       "      <th>3688</th>\n",
       "      <td>ornithopter zone build ornithopter ornithopter...</td>\n",
       "      <td>490</td>\n",
       "      <td>634</td>\n",
       "      <td>0.772871</td>\n",
       "      <td>3.0</td>\n",
       "    </tr>\n",
       "    <tr>\n",
       "      <th>3089</th>\n",
       "      <td>draw lesson draw cartoon animal monster alien ...</td>\n",
       "      <td>257</td>\n",
       "      <td>315</td>\n",
       "      <td>0.815873</td>\n",
       "      <td>5.0</td>\n",
       "    </tr>\n",
       "    <tr>\n",
       "      <th>3693</th>\n",
       "      <td>kid genealogyspot back home cemetery census fe...</td>\n",
       "      <td>170</td>\n",
       "      <td>222</td>\n",
       "      <td>0.765766</td>\n",
       "      <td>7.0</td>\n",
       "    </tr>\n",
       "    <tr>\n",
       "      <th>525</th>\n",
       "      <td>copyright vrije universiteit netherlands reser...</td>\n",
       "      <td>46</td>\n",
       "      <td>88</td>\n",
       "      <td>0.522727</td>\n",
       "      <td>21.0</td>\n",
       "    </tr>\n",
       "    <tr>\n",
       "      <th>4928</th>\n",
       "      <td>bioterrorism real imagine bioterrorism real im...</td>\n",
       "      <td>243</td>\n",
       "      <td>396</td>\n",
       "      <td>0.613636</td>\n",
       "      <td>9.0</td>\n",
       "    </tr>\n",
       "  </tbody>\n",
       "</table>\n",
       "</div>"
      ],
      "text/plain": [
       "                                                   Data  TotalFreqKeyword  \\\n",
       "1279  newamericangazette justhost web host host home...                24   \n",
       "3436  girl summer art camp dance camp music camp the...               530   \n",
       "2515  foxsports tennishttp foxsports tennis latest t...               175   \n",
       "4067  kid web india portal kid young teen kid web si...               352   \n",
       "4834  bahamas fact history news toggle navigation se...               366   \n",
       "3688  ornithopter zone build ornithopter ornithopter...               490   \n",
       "3089  draw lesson draw cartoon animal monster alien ...               257   \n",
       "3693  kid genealogyspot back home cemetery census fe...               170   \n",
       "525   copyright vrije universiteit netherlands reser...                46   \n",
       "4928  bioterrorism real imagine bioterrorism real im...               243   \n",
       "\n",
       "      TotalWord  TermRatio  AVGInterval  \n",
       "1279         31   0.774194         53.0  \n",
       "3436        737   0.719132          2.0  \n",
       "2515        369   0.474255         14.0  \n",
       "4067        432   0.814815          5.0  \n",
       "4834        482   0.759336          4.0  \n",
       "3688        634   0.772871          3.0  \n",
       "3089        315   0.815873          5.0  \n",
       "3693        222   0.765766          7.0  \n",
       "525          88   0.522727         21.0  \n",
       "4928        396   0.613636          9.0  "
      ]
     },
     "execution_count": 42,
     "metadata": {},
     "output_type": "execute_result"
    }
   ],
   "source": [
    "x_train.sample(10)"
   ]
  },
  {
   "cell_type": "code",
   "execution_count": 43,
   "metadata": {},
   "outputs": [
    {
     "name": "stdout",
     "output_type": "stream",
     "text": [
      "(3636,) (3636,)\n",
      "(1559,) (1559,)\n"
     ]
    }
   ],
   "source": [
    "#LATENT SEMANTIC ANALYSIS\n",
    "\n",
    "x_train_lsa = x_train[\"Data\"]\n",
    "y_train_lsa = y_train\n",
    "x_test_lsa = x_test[\"Data\"]\n",
    "y_test_lsa = y_test\n",
    "\n",
    "print(x_train_lsa.shape, y_train_lsa.shape)\n",
    "print(x_test_lsa.shape, y_test_lsa.shape)"
   ]
  },
  {
   "cell_type": "code",
   "execution_count": 44,
   "metadata": {},
   "outputs": [],
   "source": [
    "#vectorizer = CountVectorizer(max_df=0.9, min_df=5)\n",
    "vectorizer = TfidfVectorizer(max_df=0.9, min_df=5)\n",
    "x_train_lsa_vec = vectorizer.fit_transform(x_train_lsa).todense()\n",
    "x_test_lsa_vec = vectorizer.fit_transform(x_test_lsa).todense()\n",
    "#X_tf = tfidf.fit_transform(x_train).todense()\n",
    "#print (X_tf)"
   ]
  },
  {
   "cell_type": "code",
   "execution_count": 45,
   "metadata": {},
   "outputs": [
    {
     "data": {
      "text/plain": [
       "((3636, 16906), (1559, 10303))"
      ]
     },
     "execution_count": 45,
     "metadata": {},
     "output_type": "execute_result"
    }
   ],
   "source": [
    "x_train_lsa_vec.shape, x_test_lsa_vec.shape"
   ]
  },
  {
   "cell_type": "code",
   "execution_count": 46,
   "metadata": {},
   "outputs": [],
   "source": [
    "svd = TruncatedSVD(n_components = 100)\n",
    "lsa = make_pipeline(svd, Normalizer(copy=False))\n",
    "\n",
    "x_transform_lsa_train = lsa.fit_transform(x_train_lsa_vec)\n",
    "x_transform_lsa_test = lsa.fit_transform(x_test_lsa_vec)\n",
    "\n",
    "U_matrix_train = x_transform_lsa_train / svd.singular_values_\n",
    "S_matrix_train = np.diag(svd.singular_values_)\n",
    "VT_matrix_train = svd.components_\n",
    "\n",
    "U_matrix_test = x_transform_lsa_test / svd.singular_values_\n",
    "S_matrix_test = np.diag(svd.singular_values_)\n",
    "VT_matrix_test = svd.components_\n"
   ]
  },
  {
   "cell_type": "code",
   "execution_count": 47,
   "metadata": {},
   "outputs": [
    {
     "name": "stdout",
     "output_type": "stream",
     "text": [
      "Train Data 2:  (3636, 100) (3636, 100) (100, 100) (100, 10303)\n",
      "Test Data 2:  (1559, 100) (1559, 100) (100, 100) (100, 10303)\n"
     ]
    }
   ],
   "source": [
    "print(\"Train Data 2: \", x_transform_lsa_train.shape, U_matrix_train.shape, S_matrix_train.shape, VT_matrix_train.shape)\n",
    "print(\"Test Data 2: \", x_transform_lsa_test.shape, U_matrix_test.shape, S_matrix_test.shape, VT_matrix_test.shape)"
   ]
  },
  {
   "cell_type": "code",
   "execution_count": 48,
   "metadata": {},
   "outputs": [
    {
     "data": {
      "text/plain": [
       "((3636, 100), (1559, 100))"
      ]
     },
     "execution_count": 48,
     "metadata": {},
     "output_type": "execute_result"
    }
   ],
   "source": [
    "sem_matrix_train_2 = np.dot(U_matrix_train, S_matrix_train)\n",
    "sem_matrix_test_2 = np.dot(U_matrix_test, S_matrix_test)\n",
    "\n",
    "sem_matrix_train_2.shape , sem_matrix_test_2.shape"
   ]
  },
  {
   "cell_type": "code",
   "execution_count": 49,
   "metadata": {},
   "outputs": [
    {
     "data": {
      "text/plain": [
       "SVC(C=1.0, cache_size=200, class_weight=None, coef0=0.0,\n",
       "  decision_function_shape='ovr', degree=3, gamma=1, kernel='linear',\n",
       "  max_iter=-1, probability=True, random_state=None, shrinking=True,\n",
       "  tol=0.001, verbose=False)"
      ]
     },
     "execution_count": 49,
     "metadata": {},
     "output_type": "execute_result"
    }
   ],
   "source": [
    "from sklearn import svm\n",
    "svm_model_lsa_linear = svm.SVC(kernel='linear', gamma=1, probability=True)\n",
    "svm_model_lsa_linear.fit(sem_matrix_train_2, y_train)"
   ]
  },
  {
   "cell_type": "code",
   "execution_count": 50,
   "metadata": {},
   "outputs": [
    {
     "data": {
      "text/plain": [
       "SVC(C=1.0, cache_size=200, class_weight=None, coef0=0.0,\n",
       "  decision_function_shape='ovr', degree=3, gamma=1, kernel='poly',\n",
       "  max_iter=-1, probability=True, random_state=None, shrinking=True,\n",
       "  tol=0.001, verbose=False)"
      ]
     },
     "execution_count": 50,
     "metadata": {},
     "output_type": "execute_result"
    }
   ],
   "source": [
    "svm_model_lsa_poly = svm.SVC(kernel='poly', gamma=1, probability=True)\n",
    "svm_model_lsa_poly.fit(sem_matrix_train_2, y_train) "
   ]
  },
  {
   "cell_type": "code",
   "execution_count": 51,
   "metadata": {},
   "outputs": [
    {
     "data": {
      "text/plain": [
       "SVC(C=1.0, cache_size=200, class_weight=None, coef0=0.0,\n",
       "  decision_function_shape='ovr', degree=3, gamma=1, kernel='rbf',\n",
       "  max_iter=-1, probability=True, random_state=None, shrinking=True,\n",
       "  tol=0.001, verbose=False)"
      ]
     },
     "execution_count": 51,
     "metadata": {},
     "output_type": "execute_result"
    }
   ],
   "source": [
    "svm_model_lsa_rbf = svm.SVC(kernel='rbf', gamma=1, probability=True)\n",
    "svm_model_lsa_rbf.fit(sem_matrix_train_2, y_train)"
   ]
  },
  {
   "cell_type": "code",
   "execution_count": 52,
   "metadata": {},
   "outputs": [
    {
     "data": {
      "text/plain": [
       "SVC(C=1.0, cache_size=200, class_weight=None, coef0=0.0,\n",
       "  decision_function_shape='ovr', degree=3, gamma=1, kernel='sigmoid',\n",
       "  max_iter=-1, probability=True, random_state=None, shrinking=True,\n",
       "  tol=0.001, verbose=False)"
      ]
     },
     "execution_count": 52,
     "metadata": {},
     "output_type": "execute_result"
    }
   ],
   "source": [
    "svm_model_lsa_sigmoid = svm.SVC(kernel='sigmoid', gamma=1, probability=True)\n",
    "svm_model_lsa_sigmoid.fit(sem_matrix_train_2, y_train) "
   ]
  },
  {
   "cell_type": "code",
   "execution_count": 53,
   "metadata": {},
   "outputs": [
    {
     "name": "stdout",
     "output_type": "stream",
     "text": [
      "(3636, 4) (3636,)\n",
      "(1559, 4) (1559,)\n"
     ]
    },
    {
     "name": "stderr",
     "output_type": "stream",
     "text": [
      "C:\\Users\\User\\Anaconda3\\lib\\site-packages\\ipykernel_launcher.py:8: DataConversionWarning: Data with input dtype int64, float64 were all converted to float64 by the scale function.\n",
      "  \n",
      "C:\\Users\\User\\Anaconda3\\lib\\site-packages\\ipykernel_launcher.py:9: DataConversionWarning: Data with input dtype int64, float64 were all converted to float64 by the scale function.\n",
      "  if __name__ == '__main__':\n"
     ]
    }
   ],
   "source": [
    "# WEB PAGE FEATURE SELECTION\n",
    "\n",
    "x_train_wpfs = x_train[[\"TotalFreqKeyword\", \"TotalWord\", \"TermRatio\", \"AVGInterval\"]]\n",
    "y_train_wpfs = y_train\n",
    "x_test_wpfs = x_test[[\"TotalFreqKeyword\", \"TotalWord\", \"TermRatio\", \"AVGInterval\"]]\n",
    "y_test_wpfs = y_test\n",
    "\n",
    "x_train_wpfs = preprocessing.scale(x_train_wpfs)\n",
    "x_test_wpfs = preprocessing.scale(x_test_wpfs)\n",
    "\n",
    "print(x_train_wpfs.shape, y_train_wpfs.shape)\n",
    "print(x_test_wpfs.shape, y_test_wpfs.shape)"
   ]
  },
  {
   "cell_type": "code",
   "execution_count": 54,
   "metadata": {},
   "outputs": [
    {
     "data": {
      "text/plain": [
       "SVC(C=1.0, cache_size=200, class_weight=None, coef0=0.0,\n",
       "  decision_function_shape='ovr', degree=3, gamma=1, kernel='linear',\n",
       "  max_iter=-1, probability=True, random_state=None, shrinking=True,\n",
       "  tol=0.001, verbose=False)"
      ]
     },
     "execution_count": 54,
     "metadata": {},
     "output_type": "execute_result"
    }
   ],
   "source": [
    "svm_model_wpfs_linear = svm.SVC(kernel='linear', gamma=1, probability=True)\n",
    "svm_model_wpfs_linear.fit(x_train_wpfs, y_train) "
   ]
  },
  {
   "cell_type": "code",
   "execution_count": 55,
   "metadata": {},
   "outputs": [
    {
     "data": {
      "text/plain": [
       "SVC(C=1.0, cache_size=200, class_weight=None, coef0=0.0,\n",
       "  decision_function_shape='ovr', degree=3, gamma=1, kernel='poly',\n",
       "  max_iter=-1, probability=True, random_state=None, shrinking=True,\n",
       "  tol=0.001, verbose=False)"
      ]
     },
     "execution_count": 55,
     "metadata": {},
     "output_type": "execute_result"
    }
   ],
   "source": [
    "svm_model_wpfs_poly = svm.SVC(kernel='poly', gamma=1, probability=True)\n",
    "svm_model_wpfs_poly.fit(x_train_wpfs, y_train) "
   ]
  },
  {
   "cell_type": "code",
   "execution_count": 56,
   "metadata": {},
   "outputs": [
    {
     "data": {
      "text/plain": [
       "SVC(C=1.0, cache_size=200, class_weight=None, coef0=0.0,\n",
       "  decision_function_shape='ovr', degree=3, gamma=1, kernel='rbf',\n",
       "  max_iter=-1, probability=True, random_state=None, shrinking=True,\n",
       "  tol=0.001, verbose=False)"
      ]
     },
     "execution_count": 56,
     "metadata": {},
     "output_type": "execute_result"
    }
   ],
   "source": [
    "svm_model_wpfs_rbf = svm.SVC(kernel='rbf', gamma=1, probability=True)\n",
    "svm_model_wpfs_rbf.fit(x_train_wpfs, y_train) "
   ]
  },
  {
   "cell_type": "code",
   "execution_count": 57,
   "metadata": {},
   "outputs": [
    {
     "data": {
      "text/plain": [
       "SVC(C=1.0, cache_size=200, class_weight=None, coef0=0.0,\n",
       "  decision_function_shape='ovr', degree=3, gamma=1, kernel='sigmoid',\n",
       "  max_iter=-1, probability=True, random_state=None, shrinking=True,\n",
       "  tol=0.001, verbose=False)"
      ]
     },
     "execution_count": 57,
     "metadata": {},
     "output_type": "execute_result"
    }
   ],
   "source": [
    "svm_model_wpfs_sigmoid = svm.SVC(kernel='sigmoid', gamma=1, probability=True)\n",
    "svm_model_wpfs_sigmoid.fit(x_train_wpfs, y_train) "
   ]
  },
  {
   "cell_type": "code",
   "execution_count": 58,
   "metadata": {},
   "outputs": [],
   "source": [
    "lsa_value_linear = svm_model_lsa_linear.decision_function(sem_matrix_test_2)\n",
    "lsa_value_poly = svm_model_lsa_poly.decision_function(sem_matrix_test_2)\n",
    "lsa_value_rbf = svm_model_lsa_rbf.decision_function(sem_matrix_test_2)\n",
    "lsa_value_sigmoid = svm_model_lsa_sigmoid.decision_function(sem_matrix_test_2)\n",
    "\n",
    "lsa_predict_linear = svm_model_lsa_linear.predict(sem_matrix_test_2)\n",
    "lsa_predict_poly = svm_model_lsa_poly.predict(sem_matrix_test_2)\n",
    "lsa_predict_rbf = svm_model_lsa_rbf.predict(sem_matrix_test_2)\n",
    "lsa_predict_sigmoid = svm_model_lsa_sigmoid.predict(sem_matrix_test_2)\n",
    "\n",
    "wpfs_value_linear = svm_model_wpfs_linear.decision_function(x_test_wpfs)\n",
    "wpfs_value_poly = svm_model_wpfs_poly.decision_function(x_test_wpfs)\n",
    "wpfs_value_rbf = svm_model_wpfs_rbf.decision_function(x_test_wpfs)\n",
    "wpfs_value_sigmoid = svm_model_wpfs_sigmoid.decision_function(x_test_wpfs)\n",
    "\n",
    "wpfs_predict_linear = svm_model_wpfs_linear.predict(x_test_wpfs)\n",
    "wpfs_predict_poly = svm_model_wpfs_poly.predict(x_test_wpfs)\n",
    "wpfs_predict_rbf = svm_model_wpfs_rbf.predict(x_test_wpfs)\n",
    "wpfs_predict_sigmoid = svm_model_wpfs_sigmoid.predict(x_test_wpfs)"
   ]
  },
  {
   "cell_type": "code",
   "execution_count": 59,
   "metadata": {},
   "outputs": [],
   "source": [
    "list_decision_linear = list(zip(lsa_value_linear, lsa_predict_linear, wpfs_value_linear, wpfs_predict_linear))    \n",
    "list_decision_poly = list(zip(lsa_value_poly, lsa_predict_poly, wpfs_value_poly, wpfs_predict_poly))    \n",
    "list_decision_rbf = list(zip(lsa_value_rbf, lsa_predict_rbf, wpfs_value_rbf, wpfs_predict_rbf))    \n",
    "list_decision_sigmoid = list(zip(lsa_value_sigmoid, lsa_predict_sigmoid, wpfs_value_sigmoid, wpfs_predict_sigmoid))    \n",
    "\n",
    "\n",
    "DF_linear = pd.DataFrame(list_decision_linear, columns = ['LSA_val_lin','LSA_pred_lin', 'WPFS_val_lin', 'WPFS_pred_lin'])\n",
    "DF_poly = pd.DataFrame(list_decision_poly, columns = ['LSA_val_pol','LSA_pred_pol', 'WPFS_val_pol', 'WPFS_pred_pol'])\n",
    "DF_rbf = pd.DataFrame(list_decision_rbf, columns = ['LSA_val_rbf','LSA_pred_rbf', 'WPFS_val_rbf', 'WPFS_pred_rbf'])\n",
    "DF_sigmoid = pd.DataFrame(list_decision_sigmoid, columns = ['LSA_val_sig','LSA_pred_sig', 'WPFS_val_sig', 'WPFS_pred_sig'])"
   ]
  },
  {
   "cell_type": "code",
   "execution_count": 60,
   "metadata": {},
   "outputs": [],
   "source": [
    "count_linear = DF_linear[\"LSA_val_lin\"]\n",
    "count_poly = DF_poly[\"LSA_val_pol\"]\n",
    "count_rbf = DF_rbf[\"LSA_val_rbf\"]\n",
    "count_sigmoid = DF_sigmoid[\"LSA_val_sig\"]\n",
    "\n",
    "\n",
    "for n in count_linear:\n",
    "    if DF_linear['LSA_pred_lin'].equals(DF_linear['WPFS_pred_lin']):\n",
    "        DF_linear[\"Final_Category_lin\"] = DF_linear[\"LSA_pred_lin\"]\n",
    "    else:\n",
    "        lsaval = abs(DF_linear[\"LSA_val_lin\"])\n",
    "        wpfsval = abs(DF_linear[\"WPFS_val_lin\"])\n",
    "        DF_linear['Final_Category_lin'] = np.where((lsaval > wpfsval), DF_linear[\"LSA_pred_lin\"],  DF_linear[\"WPFS_pred_lin\"])\n",
    "\n",
    "for n in count_poly:\n",
    "    if DF_poly['LSA_pred_pol'].equals(DF_poly['WPFS_pred_pol']):\n",
    "        DF_poly[\"Final_Category_pol\"] = DF_poly[\"LSA_pred_pol\"]\n",
    "    else:\n",
    "        lsaval = abs(DF_poly[\"LSA_val_pol\"])\n",
    "        wpfsval = abs(DF_poly[\"WPFS_val_pol\"])\n",
    "        DF_poly['Final_Category_pol'] = np.where((lsaval > wpfsval), DF_poly[\"LSA_pred_pol\"],  DF_poly[\"WPFS_pred_pol\"])\n",
    "\n",
    "for n in count_rbf:\n",
    "    if DF_rbf['LSA_pred_rbf'].equals(DF_rbf['WPFS_pred_rbf']):\n",
    "        DF_rbf[\"Final_Category_rbf\"] = DF_rbf[\"LSA_predict\"]\n",
    "    else:\n",
    "        lsaval = abs(DF_rbf[\"LSA_val_rbf\"])\n",
    "        wpfsval = abs(DF_rbf[\"WPFS_val_rbf\"])\n",
    "        DF_rbf['Final_Category_rbf'] = np.where((lsaval > wpfsval), DF_rbf[\"LSA_pred_rbf\"],  DF_rbf[\"WPFS_pred_rbf\"])\n",
    "\n",
    "for n in count_sigmoid:\n",
    "    if DF_sigmoid['LSA_pred_sig'].equals(DF_sigmoid['WPFS_pred_sig']):\n",
    "        DF_sigmoid[\"Final_Category_sig\"] = DF_sigmoid[\"LSA_pred_sig\"]\n",
    "    else:\n",
    "        lsaval = abs(DF_sigmoid[\"LSA_val_sig\"])\n",
    "        wpfsval = abs(DF_sigmoid[\"WPFS_val_sig\"])\n",
    "        DF_sigmoid['Final_Category_sig'] = np.where((lsaval > wpfsval), DF_sigmoid[\"LSA_pred_sig\"],  DF_sigmoid[\"WPFS_pred_sig\"])\n",
    "        \n"
   ]
  },
  {
   "cell_type": "code",
   "execution_count": 61,
   "metadata": {},
   "outputs": [],
   "source": [
    "y_pred_lin = DF_linear[\"Final_Category_lin\"]\n",
    "y_pred_pol = DF_poly['Final_Category_pol']\n",
    "y_pred_rbf = DF_rbf['Final_Category_rbf']\n",
    "y_pred_sig = DF_sigmoid['Final_Category_sig']"
   ]
  },
  {
   "cell_type": "code",
   "execution_count": 62,
   "metadata": {},
   "outputs": [
    {
     "name": "stdout",
     "output_type": "stream",
     "text": [
      "=========================LINEAR KERNEL=========================\n",
      "              precision    recall  f1-score   support\n",
      "\n",
      "        -1.0       0.68      0.67      0.68       820\n",
      "         1.0       0.64      0.65      0.65       739\n",
      "\n",
      "   micro avg       0.66      0.66      0.66      1559\n",
      "   macro avg       0.66      0.66      0.66      1559\n",
      "weighted avg       0.66      0.66      0.66      1559\n",
      "\n",
      "akurasi :  0.6626042334830019\n",
      "=========================POLINOMIAL KERNEL=========================\n",
      "              precision    recall  f1-score   support\n",
      "\n",
      "        -1.0       0.57      0.97      0.72       820\n",
      "         1.0       0.85      0.19      0.31       739\n",
      "\n",
      "   micro avg       0.60      0.60      0.60      1559\n",
      "   macro avg       0.71      0.58      0.52      1559\n",
      "weighted avg       0.70      0.60      0.53      1559\n",
      "\n",
      "akurasi :  0.600384862091084\n",
      "=========================RBF KERNEL=========================\n",
      "              precision    recall  f1-score   support\n",
      "\n",
      "        -1.0       0.71      0.77      0.74       820\n",
      "         1.0       0.72      0.65      0.68       739\n",
      "\n",
      "   micro avg       0.71      0.71      0.71      1559\n",
      "   macro avg       0.71      0.71      0.71      1559\n",
      "weighted avg       0.71      0.71      0.71      1559\n",
      "\n",
      "akurasi :  0.7119948685054522\n",
      "=========================SIGMOID KERNEL=========================\n",
      "              precision    recall  f1-score   support\n",
      "\n",
      "        -1.0       0.56      0.56      0.56       820\n",
      "         1.0       0.51      0.50      0.51       739\n",
      "\n",
      "   micro avg       0.53      0.53      0.53      1559\n",
      "   macro avg       0.53      0.53      0.53      1559\n",
      "weighted avg       0.53      0.53      0.53      1559\n",
      "\n",
      "akurasi :  0.5336754329698524\n"
     ]
    }
   ],
   "source": [
    "from sklearn import metrics \n",
    "from sklearn.metrics import classification_report, confusion_matrix\n",
    "import itertools\n",
    "\n",
    "acc_lin = metrics.accuracy_score(y_test, y_pred_lin)\n",
    "acc_pol = metrics.accuracy_score(y_test, y_pred_pol)\n",
    "acc_rbf = metrics.accuracy_score(y_test, y_pred_rbf)\n",
    "acc_sig = metrics.accuracy_score(y_test, y_pred_sig)\n",
    "\n",
    "print(\"=========================LINEAR KERNEL=========================\")\n",
    "print (classification_report(y_test, y_pred_lin))\n",
    "print(\"akurasi : \", acc_lin)\n",
    "\n",
    "print(\"=========================POLINOMIAL KERNEL=========================\")\n",
    "print (classification_report(y_test, y_pred_pol))\n",
    "print(\"akurasi : \", acc_pol)\n",
    "\n",
    "print(\"=========================RBF KERNEL=========================\")\n",
    "print (classification_report(y_test, y_pred_rbf))\n",
    "print(\"akurasi : \", acc_rbf)\n",
    "\n",
    "print(\"=========================SIGMOID KERNEL=========================\")\n",
    "print (classification_report(y_test, y_pred_sig))\n",
    "print(\"akurasi : \", acc_sig)"
   ]
  },
  {
   "cell_type": "code",
   "execution_count": null,
   "metadata": {},
   "outputs": [],
   "source": []
  }
 ],
 "metadata": {
  "kernelspec": {
   "display_name": "Python 3",
   "language": "python",
   "name": "python3"
  },
  "language_info": {
   "codemirror_mode": {
    "name": "ipython",
    "version": 3
   },
   "file_extension": ".py",
   "mimetype": "text/x-python",
   "name": "python",
   "nbconvert_exporter": "python",
   "pygments_lexer": "ipython3",
   "version": "3.7.3"
  }
 },
 "nbformat": 4,
 "nbformat_minor": 2
}
