{
 "cells": [
  {
   "cell_type": "code",
   "execution_count": 1,
   "metadata": {},
   "outputs": [],
   "source": [
    "import pandas as pd\n",
    "from bs4 import BeautifulSoup\n",
    "import re\n",
    "import nltk \n",
    "import string \n",
    "import sys\n",
    "import numpy as np\n",
    "import linalg\n",
    "from sklearn import preprocessing\n",
    "from sklearn.decomposition import TruncatedSVD"
   ]
  },
  {
   "cell_type": "code",
   "execution_count": 2,
   "metadata": {},
   "outputs": [],
   "source": [
    "from sklearn.feature_extraction.text import TfidfVectorizer\n",
    "from sklearn.feature_extraction.text import CountVectorizer\n",
    "from sklearn.pipeline import make_pipeline\n",
    "from sklearn.preprocessing import Normalizer"
   ]
  },
  {
   "cell_type": "code",
   "execution_count": 3,
   "metadata": {},
   "outputs": [
    {
     "data": {
      "text/plain": [
       "(5195, 11)"
      ]
     },
     "execution_count": 3,
     "metadata": {},
     "output_type": "execute_result"
    }
   ],
   "source": [
    "all_data = pd.read_csv(\"DataReady.csv\")\n",
    "all_data.shape"
   ]
  },
  {
   "cell_type": "code",
   "execution_count": 4,
   "metadata": {},
   "outputs": [
    {
     "data": {
      "text/html": [
       "<div>\n",
       "<style scoped>\n",
       "    .dataframe tbody tr th:only-of-type {\n",
       "        vertical-align: middle;\n",
       "    }\n",
       "\n",
       "    .dataframe tbody tr th {\n",
       "        vertical-align: top;\n",
       "    }\n",
       "\n",
       "    .dataframe thead th {\n",
       "        text-align: right;\n",
       "    }\n",
       "</style>\n",
       "<table border=\"1\" class=\"dataframe\">\n",
       "  <thead>\n",
       "    <tr style=\"text-align: right;\">\n",
       "      <th></th>\n",
       "      <th>Link</th>\n",
       "      <th>Data</th>\n",
       "      <th>Category</th>\n",
       "      <th>CategoryIndex</th>\n",
       "      <th>Keyword</th>\n",
       "      <th>VarKeyword</th>\n",
       "      <th>TotalFreqKeyword</th>\n",
       "      <th>TotalWord</th>\n",
       "      <th>TermRatio</th>\n",
       "      <th>interval</th>\n",
       "      <th>AVGInterval</th>\n",
       "    </tr>\n",
       "  </thead>\n",
       "  <tbody>\n",
       "    <tr>\n",
       "      <th>1578</th>\n",
       "      <td>http://www.southernboating.com/</td>\n",
       "      <td>southern boat location life boat boat sale cen...</td>\n",
       "      <td>General</td>\n",
       "      <td>-1.0</td>\n",
       "      <td>['cat', 'food', 'site', 'life', 'healthy', 'sa...</td>\n",
       "      <td>107</td>\n",
       "      <td>338</td>\n",
       "      <td>500</td>\n",
       "      <td>0.676000</td>\n",
       "      <td>1308</td>\n",
       "      <td>4.0</td>\n",
       "    </tr>\n",
       "    <tr>\n",
       "      <th>4761</th>\n",
       "      <td>http://www.roycastle.org/</td>\n",
       "      <td>home roy castle lung cancer foundation shop ne...</td>\n",
       "      <td>Kids</td>\n",
       "      <td>1.0</td>\n",
       "      <td>['amazon', 'story', 'brain', 'book', 'school',...</td>\n",
       "      <td>197</td>\n",
       "      <td>633</td>\n",
       "      <td>812</td>\n",
       "      <td>0.779557</td>\n",
       "      <td>1218</td>\n",
       "      <td>2.0</td>\n",
       "    </tr>\n",
       "    <tr>\n",
       "      <th>2546</th>\n",
       "      <td>http://www.20-20.in/</td>\n",
       "      <td>twenty world cup ipl live cricket scoreboard i...</td>\n",
       "      <td>General</td>\n",
       "      <td>-1.0</td>\n",
       "      <td>['free', 'action', 'draw', 'learn', 'indian', ...</td>\n",
       "      <td>401</td>\n",
       "      <td>1059</td>\n",
       "      <td>1860</td>\n",
       "      <td>0.569355</td>\n",
       "      <td>2395</td>\n",
       "      <td>2.0</td>\n",
       "    </tr>\n",
       "    <tr>\n",
       "      <th>4337</th>\n",
       "      <td>http://www.boggycreek.org/</td>\n",
       "      <td>camp boggy creek seriousfun child network camp...</td>\n",
       "      <td>Kids</td>\n",
       "      <td>1.0</td>\n",
       "      <td>['free', 'learn', 'safe', 'amazon', 'story', '...</td>\n",
       "      <td>86</td>\n",
       "      <td>248</td>\n",
       "      <td>323</td>\n",
       "      <td>0.767802</td>\n",
       "      <td>2065</td>\n",
       "      <td>8.0</td>\n",
       "    </tr>\n",
       "    <tr>\n",
       "      <th>1042</th>\n",
       "      <td>http://www.visionsite.com/</td>\n",
       "      <td>visionsite communicate connect standout call t...</td>\n",
       "      <td>General</td>\n",
       "      <td>-1.0</td>\n",
       "      <td>['page', 'sheet', 'free', 'site', 'web', 'desi...</td>\n",
       "      <td>61</td>\n",
       "      <td>100</td>\n",
       "      <td>142</td>\n",
       "      <td>0.704225</td>\n",
       "      <td>999</td>\n",
       "      <td>10.0</td>\n",
       "    </tr>\n",
       "    <tr>\n",
       "      <th>878</th>\n",
       "      <td>http://feeds.reuters.com/reuters/healthNews/</td>\n",
       "      <td>reuters health news reuters reuters source bre...</td>\n",
       "      <td>General</td>\n",
       "      <td>-1.0</td>\n",
       "      <td>['food', 'girl', 'science', 'child', 'brain', ...</td>\n",
       "      <td>238</td>\n",
       "      <td>836</td>\n",
       "      <td>1554</td>\n",
       "      <td>0.537967</td>\n",
       "      <td>1898</td>\n",
       "      <td>2.0</td>\n",
       "    </tr>\n",
       "    <tr>\n",
       "      <th>3139</th>\n",
       "      <td>http://www.daniellesplace.com/html/LaborDayCra...</td>\n",
       "      <td>labor day craft kid make member access contact...</td>\n",
       "      <td>Kids</td>\n",
       "      <td>1.0</td>\n",
       "      <td>['animal', 'color', 'page', 'sheet', 'free', '...</td>\n",
       "      <td>143</td>\n",
       "      <td>320</td>\n",
       "      <td>363</td>\n",
       "      <td>0.881543</td>\n",
       "      <td>1809</td>\n",
       "      <td>6.0</td>\n",
       "    </tr>\n",
       "    <tr>\n",
       "      <th>2052</th>\n",
       "      <td>http://www.scienceforpeople.com/</td>\n",
       "      <td>science people jones bartlett book stem cell a...</td>\n",
       "      <td>General</td>\n",
       "      <td>-1.0</td>\n",
       "      <td>['animal', 'page', 'activity', 'food', 'word',...</td>\n",
       "      <td>400</td>\n",
       "      <td>803</td>\n",
       "      <td>1107</td>\n",
       "      <td>0.725384</td>\n",
       "      <td>1448</td>\n",
       "      <td>2.0</td>\n",
       "    </tr>\n",
       "    <tr>\n",
       "      <th>4999</th>\n",
       "      <td>http://web-japan.org/atlas/index.html</td>\n",
       "      <td>japan atlas web japan japan atlas historic sit...</td>\n",
       "      <td>Kids</td>\n",
       "      <td>1.0</td>\n",
       "      <td>['site', 'web', 'craft', 'region', 'nature', '...</td>\n",
       "      <td>18</td>\n",
       "      <td>22</td>\n",
       "      <td>25</td>\n",
       "      <td>0.880000</td>\n",
       "      <td>1293</td>\n",
       "      <td>59.0</td>\n",
       "    </tr>\n",
       "    <tr>\n",
       "      <th>3849</th>\n",
       "      <td>http://www.azscience.org/</td>\n",
       "      <td>arizona science center inspire educate engage ...</td>\n",
       "      <td>Kids</td>\n",
       "      <td>1.0</td>\n",
       "      <td>['free', 'celebration', 'learn', 'parent', 'gi...</td>\n",
       "      <td>197</td>\n",
       "      <td>462</td>\n",
       "      <td>579</td>\n",
       "      <td>0.797927</td>\n",
       "      <td>1608</td>\n",
       "      <td>3.0</td>\n",
       "    </tr>\n",
       "  </tbody>\n",
       "</table>\n",
       "</div>"
      ],
      "text/plain": [
       "                                                   Link  \\\n",
       "1578                    http://www.southernboating.com/   \n",
       "4761                          http://www.roycastle.org/   \n",
       "2546                               http://www.20-20.in/   \n",
       "4337                         http://www.boggycreek.org/   \n",
       "1042                         http://www.visionsite.com/   \n",
       "878        http://feeds.reuters.com/reuters/healthNews/   \n",
       "3139  http://www.daniellesplace.com/html/LaborDayCra...   \n",
       "2052                   http://www.scienceforpeople.com/   \n",
       "4999              http://web-japan.org/atlas/index.html   \n",
       "3849                          http://www.azscience.org/   \n",
       "\n",
       "                                                   Data Category  \\\n",
       "1578  southern boat location life boat boat sale cen...  General   \n",
       "4761  home roy castle lung cancer foundation shop ne...     Kids   \n",
       "2546  twenty world cup ipl live cricket scoreboard i...  General   \n",
       "4337  camp boggy creek seriousfun child network camp...     Kids   \n",
       "1042  visionsite communicate connect standout call t...  General   \n",
       "878   reuters health news reuters reuters source bre...  General   \n",
       "3139  labor day craft kid make member access contact...     Kids   \n",
       "2052  science people jones bartlett book stem cell a...  General   \n",
       "4999  japan atlas web japan japan atlas historic sit...     Kids   \n",
       "3849  arizona science center inspire educate engage ...     Kids   \n",
       "\n",
       "      CategoryIndex                                            Keyword  \\\n",
       "1578           -1.0  ['cat', 'food', 'site', 'life', 'healthy', 'sa...   \n",
       "4761            1.0  ['amazon', 'story', 'brain', 'book', 'school',...   \n",
       "2546           -1.0  ['free', 'action', 'draw', 'learn', 'indian', ...   \n",
       "4337            1.0  ['free', 'learn', 'safe', 'amazon', 'story', '...   \n",
       "1042           -1.0  ['page', 'sheet', 'free', 'site', 'web', 'desi...   \n",
       "878            -1.0  ['food', 'girl', 'science', 'child', 'brain', ...   \n",
       "3139            1.0  ['animal', 'color', 'page', 'sheet', 'free', '...   \n",
       "2052           -1.0  ['animal', 'page', 'activity', 'food', 'word',...   \n",
       "4999            1.0  ['site', 'web', 'craft', 'region', 'nature', '...   \n",
       "3849            1.0  ['free', 'celebration', 'learn', 'parent', 'gi...   \n",
       "\n",
       "      VarKeyword  TotalFreqKeyword  TotalWord  TermRatio  interval  \\\n",
       "1578         107               338        500   0.676000      1308   \n",
       "4761         197               633        812   0.779557      1218   \n",
       "2546         401              1059       1860   0.569355      2395   \n",
       "4337          86               248        323   0.767802      2065   \n",
       "1042          61               100        142   0.704225       999   \n",
       "878          238               836       1554   0.537967      1898   \n",
       "3139         143               320        363   0.881543      1809   \n",
       "2052         400               803       1107   0.725384      1448   \n",
       "4999          18                22         25   0.880000      1293   \n",
       "3849         197               462        579   0.797927      1608   \n",
       "\n",
       "      AVGInterval  \n",
       "1578          4.0  \n",
       "4761          2.0  \n",
       "2546          2.0  \n",
       "4337          8.0  \n",
       "1042         10.0  \n",
       "878           2.0  \n",
       "3139          6.0  \n",
       "2052          2.0  \n",
       "4999         59.0  \n",
       "3849          3.0  "
      ]
     },
     "execution_count": 4,
     "metadata": {},
     "output_type": "execute_result"
    }
   ],
   "source": [
    "all_data.sample(10)"
   ]
  },
  {
   "cell_type": "code",
   "execution_count": 5,
   "metadata": {},
   "outputs": [
    {
     "data": {
      "text/plain": [
       "Link                 0\n",
       "Data                 0\n",
       "Category             0\n",
       "CategoryIndex        0\n",
       "Keyword              0\n",
       "VarKeyword           0\n",
       "TotalFreqKeyword     0\n",
       "TotalWord            0\n",
       "TermRatio            0\n",
       "interval             0\n",
       "AVGInterval         48\n",
       "dtype: int64"
      ]
     },
     "execution_count": 5,
     "metadata": {},
     "output_type": "execute_result"
    }
   ],
   "source": [
    "all_data.isnull().sum()"
   ]
  },
  {
   "cell_type": "code",
   "execution_count": 6,
   "metadata": {},
   "outputs": [
    {
     "data": {
      "text/plain": [
       "Link                0\n",
       "Data                0\n",
       "Category            0\n",
       "CategoryIndex       0\n",
       "Keyword             0\n",
       "VarKeyword          0\n",
       "TotalFreqKeyword    0\n",
       "TotalWord           0\n",
       "TermRatio           0\n",
       "interval            0\n",
       "AVGInterval         0\n",
       "dtype: int64"
      ]
     },
     "execution_count": 6,
     "metadata": {},
     "output_type": "execute_result"
    }
   ],
   "source": [
    "clean_data = all_data\n",
    "clean_data[\"AVGInterval\"] = clean_data['AVGInterval'].replace(np.nan, 0)\n",
    "clean_data.isnull().sum()"
   ]
  },
  {
   "cell_type": "code",
   "execution_count": 7,
   "metadata": {},
   "outputs": [
    {
     "data": {
      "text/html": [
       "<div>\n",
       "<style scoped>\n",
       "    .dataframe tbody tr th:only-of-type {\n",
       "        vertical-align: middle;\n",
       "    }\n",
       "\n",
       "    .dataframe tbody tr th {\n",
       "        vertical-align: top;\n",
       "    }\n",
       "\n",
       "    .dataframe thead th {\n",
       "        text-align: right;\n",
       "    }\n",
       "</style>\n",
       "<table border=\"1\" class=\"dataframe\">\n",
       "  <thead>\n",
       "    <tr style=\"text-align: right;\">\n",
       "      <th></th>\n",
       "      <th>Link</th>\n",
       "      <th>Data</th>\n",
       "      <th>Category</th>\n",
       "      <th>CategoryIndex</th>\n",
       "      <th>Keyword</th>\n",
       "      <th>VarKeyword</th>\n",
       "      <th>TotalFreqKeyword</th>\n",
       "      <th>TotalWord</th>\n",
       "      <th>TermRatio</th>\n",
       "      <th>interval</th>\n",
       "      <th>AVGInterval</th>\n",
       "    </tr>\n",
       "  </thead>\n",
       "  <tbody>\n",
       "    <tr>\n",
       "      <th>0</th>\n",
       "      <td>http://benjah.free.fr/</td>\n",
       "      <td>benjah free rvb notv contrat creative common</td>\n",
       "      <td>General</td>\n",
       "      <td>-1.0</td>\n",
       "      <td>['free', 'creative', 'common']</td>\n",
       "      <td>3</td>\n",
       "      <td>3</td>\n",
       "      <td>7</td>\n",
       "      <td>0.428571</td>\n",
       "      <td>1598</td>\n",
       "      <td>533.0</td>\n",
       "    </tr>\n",
       "    <tr>\n",
       "      <th>1</th>\n",
       "      <td>http://www.paaw.com/</td>\n",
       "      <td>perform art artist worldwide perform art artis...</td>\n",
       "      <td>General</td>\n",
       "      <td>-1.0</td>\n",
       "      <td>['site', 'production', 'web', 'project', 'read...</td>\n",
       "      <td>80</td>\n",
       "      <td>144</td>\n",
       "      <td>188</td>\n",
       "      <td>0.765957</td>\n",
       "      <td>1568</td>\n",
       "      <td>11.0</td>\n",
       "    </tr>\n",
       "    <tr>\n",
       "      <th>2</th>\n",
       "      <td>http://vlib.org/Humanities</td>\n",
       "      <td>humanity humanistic study virtual library huma...</td>\n",
       "      <td>General</td>\n",
       "      <td>-1.0</td>\n",
       "      <td>['page', 'science', 'online', 'high', 'type', ...</td>\n",
       "      <td>60</td>\n",
       "      <td>145</td>\n",
       "      <td>219</td>\n",
       "      <td>0.662100</td>\n",
       "      <td>2063</td>\n",
       "      <td>14.0</td>\n",
       "    </tr>\n",
       "    <tr>\n",
       "      <th>3</th>\n",
       "      <td>http://www.berzowska.com/xy/index.html</td>\n",
       "      <td>computational expressionism</td>\n",
       "      <td>General</td>\n",
       "      <td>-1.0</td>\n",
       "      <td>['expressionism']</td>\n",
       "      <td>1</td>\n",
       "      <td>1</td>\n",
       "      <td>2</td>\n",
       "      <td>0.500000</td>\n",
       "      <td>0</td>\n",
       "      <td>0.0</td>\n",
       "    </tr>\n",
       "    <tr>\n",
       "      <th>4</th>\n",
       "      <td>http://www.chronotext.org/</td>\n",
       "      <td>chronotext org chronotext grow collection soft...</td>\n",
       "      <td>General</td>\n",
       "      <td>-1.0</td>\n",
       "      <td>['tree', 'word', 'poem', 'music', 'site', 'gam...</td>\n",
       "      <td>256</td>\n",
       "      <td>476</td>\n",
       "      <td>677</td>\n",
       "      <td>0.703102</td>\n",
       "      <td>1608</td>\n",
       "      <td>3.0</td>\n",
       "    </tr>\n",
       "  </tbody>\n",
       "</table>\n",
       "</div>"
      ],
      "text/plain": [
       "                                     Link  \\\n",
       "0                  http://benjah.free.fr/   \n",
       "1                    http://www.paaw.com/   \n",
       "2              http://vlib.org/Humanities   \n",
       "3  http://www.berzowska.com/xy/index.html   \n",
       "4              http://www.chronotext.org/   \n",
       "\n",
       "                                                Data Category  CategoryIndex  \\\n",
       "0       benjah free rvb notv contrat creative common  General           -1.0   \n",
       "1  perform art artist worldwide perform art artis...  General           -1.0   \n",
       "2  humanity humanistic study virtual library huma...  General           -1.0   \n",
       "3                        computational expressionism  General           -1.0   \n",
       "4  chronotext org chronotext grow collection soft...  General           -1.0   \n",
       "\n",
       "                                             Keyword  VarKeyword  \\\n",
       "0                     ['free', 'creative', 'common']           3   \n",
       "1  ['site', 'production', 'web', 'project', 'read...          80   \n",
       "2  ['page', 'science', 'online', 'high', 'type', ...          60   \n",
       "3                                  ['expressionism']           1   \n",
       "4  ['tree', 'word', 'poem', 'music', 'site', 'gam...         256   \n",
       "\n",
       "   TotalFreqKeyword  TotalWord  TermRatio  interval  AVGInterval  \n",
       "0                 3          7   0.428571      1598        533.0  \n",
       "1               144        188   0.765957      1568         11.0  \n",
       "2               145        219   0.662100      2063         14.0  \n",
       "3                 1          2   0.500000         0          0.0  \n",
       "4               476        677   0.703102      1608          3.0  "
      ]
     },
     "execution_count": 7,
     "metadata": {},
     "output_type": "execute_result"
    }
   ],
   "source": [
    "clean_data.head(5)"
   ]
  },
  {
   "cell_type": "code",
   "execution_count": 8,
   "metadata": {},
   "outputs": [
    {
     "data": {
      "text/plain": [
       "General    2684\n",
       "Kids       2511\n",
       "Name: Category, dtype: int64"
      ]
     },
     "execution_count": 8,
     "metadata": {},
     "output_type": "execute_result"
    }
   ],
   "source": [
    "clean_data['Category'].value_counts()"
   ]
  },
  {
   "cell_type": "code",
   "execution_count": 9,
   "metadata": {},
   "outputs": [
    {
     "data": {
      "text/plain": [
       "((5195, 5), (5195,))"
      ]
     },
     "execution_count": 9,
     "metadata": {},
     "output_type": "execute_result"
    }
   ],
   "source": [
    "# MEMBUAT DATA FRAME DENGAN ISI KOLOM YANG DIGUNAKAN SAJAA\n",
    "x_data = clean_data[[\"Data\", \"TotalFreqKeyword\", \"TotalWord\", \"TermRatio\", \"AVGInterval\"]]\n",
    "y_data = clean_data[\"CategoryIndex\"]\n",
    "x_data.shape, y_data.shape"
   ]
  },
  {
   "cell_type": "code",
   "execution_count": 10,
   "metadata": {},
   "outputs": [
    {
     "name": "stdout",
     "output_type": "stream",
     "text": [
      "(4156, 5) (4156,)\n",
      "(1039, 5) (1039,)\n"
     ]
    }
   ],
   "source": [
    "from sklearn.model_selection import train_test_split\n",
    "x_train, x_test, y_train, y_test = train_test_split(x_data, y_data, test_size=0.2, random_state=3)\n",
    "\n",
    "print (x_train.shape , y_train.shape)\n",
    "print (x_test.shape, y_test.shape)"
   ]
  },
  {
   "cell_type": "code",
   "execution_count": 11,
   "metadata": {},
   "outputs": [
    {
     "data": {
      "text/html": [
       "<div>\n",
       "<style scoped>\n",
       "    .dataframe tbody tr th:only-of-type {\n",
       "        vertical-align: middle;\n",
       "    }\n",
       "\n",
       "    .dataframe tbody tr th {\n",
       "        vertical-align: top;\n",
       "    }\n",
       "\n",
       "    .dataframe thead th {\n",
       "        text-align: right;\n",
       "    }\n",
       "</style>\n",
       "<table border=\"1\" class=\"dataframe\">\n",
       "  <thead>\n",
       "    <tr style=\"text-align: right;\">\n",
       "      <th></th>\n",
       "      <th>Data</th>\n",
       "      <th>TotalFreqKeyword</th>\n",
       "      <th>TotalWord</th>\n",
       "      <th>TermRatio</th>\n",
       "      <th>AVGInterval</th>\n",
       "    </tr>\n",
       "  </thead>\n",
       "  <tbody>\n",
       "    <tr>\n",
       "      <th>4466</th>\n",
       "      <td>retire site oops reach retire site page longer...</td>\n",
       "      <td>53</td>\n",
       "      <td>73</td>\n",
       "      <td>0.726027</td>\n",
       "      <td>21.0</td>\n",
       "    </tr>\n",
       "    <tr>\n",
       "      <th>947</th>\n",
       "      <td>cybershrink org site mental health home inform...</td>\n",
       "      <td>166</td>\n",
       "      <td>229</td>\n",
       "      <td>0.724891</td>\n",
       "      <td>9.0</td>\n",
       "    </tr>\n",
       "    <tr>\n",
       "      <th>1441</th>\n",
       "      <td>birdnote jump navigation birdnote support subs...</td>\n",
       "      <td>154</td>\n",
       "      <td>215</td>\n",
       "      <td>0.716279</td>\n",
       "      <td>13.0</td>\n",
       "    </tr>\n",
       "    <tr>\n",
       "      <th>2523</th>\n",
       "      <td>kent bike blog skip main skip sidebar kent bik...</td>\n",
       "      <td>1206</td>\n",
       "      <td>1968</td>\n",
       "      <td>0.612805</td>\n",
       "      <td>1.0</td>\n",
       "    </tr>\n",
       "    <tr>\n",
       "      <th>384</th>\n",
       "      <td>auto repair truck repair car repair locate dea...</td>\n",
       "      <td>240</td>\n",
       "      <td>347</td>\n",
       "      <td>0.691643</td>\n",
       "      <td>4.0</td>\n",
       "    </tr>\n",
       "    <tr>\n",
       "      <th>5191</th>\n",
       "      <td>scout resource scout resource resource scout m...</td>\n",
       "      <td>323</td>\n",
       "      <td>415</td>\n",
       "      <td>0.778313</td>\n",
       "      <td>6.0</td>\n",
       "    </tr>\n",
       "    <tr>\n",
       "      <th>797</th>\n",
       "      <td>twilight empire lote lote home start rule adde...</td>\n",
       "      <td>98</td>\n",
       "      <td>142</td>\n",
       "      <td>0.690141</td>\n",
       "      <td>21.0</td>\n",
       "    </tr>\n",
       "    <tr>\n",
       "      <th>2086</th>\n",
       "      <td>engine ingenuity main page engine ingenuity ra...</td>\n",
       "      <td>147</td>\n",
       "      <td>187</td>\n",
       "      <td>0.786096</td>\n",
       "      <td>10.0</td>\n",
       "    </tr>\n",
       "    <tr>\n",
       "      <th>489</th>\n",
       "      <td>computer internet tip trick skip main skip sid...</td>\n",
       "      <td>247</td>\n",
       "      <td>328</td>\n",
       "      <td>0.753049</td>\n",
       "      <td>6.0</td>\n",
       "    </tr>\n",
       "    <tr>\n",
       "      <th>4852</th>\n",
       "      <td>guyana fact history news toggle navigation sea...</td>\n",
       "      <td>476</td>\n",
       "      <td>736</td>\n",
       "      <td>0.646739</td>\n",
       "      <td>4.0</td>\n",
       "    </tr>\n",
       "  </tbody>\n",
       "</table>\n",
       "</div>"
      ],
      "text/plain": [
       "                                                   Data  TotalFreqKeyword  \\\n",
       "4466  retire site oops reach retire site page longer...                53   \n",
       "947   cybershrink org site mental health home inform...               166   \n",
       "1441  birdnote jump navigation birdnote support subs...               154   \n",
       "2523  kent bike blog skip main skip sidebar kent bik...              1206   \n",
       "384   auto repair truck repair car repair locate dea...               240   \n",
       "5191  scout resource scout resource resource scout m...               323   \n",
       "797   twilight empire lote lote home start rule adde...                98   \n",
       "2086  engine ingenuity main page engine ingenuity ra...               147   \n",
       "489   computer internet tip trick skip main skip sid...               247   \n",
       "4852  guyana fact history news toggle navigation sea...               476   \n",
       "\n",
       "      TotalWord  TermRatio  AVGInterval  \n",
       "4466         73   0.726027         21.0  \n",
       "947         229   0.724891          9.0  \n",
       "1441        215   0.716279         13.0  \n",
       "2523       1968   0.612805          1.0  \n",
       "384         347   0.691643          4.0  \n",
       "5191        415   0.778313          6.0  \n",
       "797         142   0.690141         21.0  \n",
       "2086        187   0.786096         10.0  \n",
       "489         328   0.753049          6.0  \n",
       "4852        736   0.646739          4.0  "
      ]
     },
     "execution_count": 11,
     "metadata": {},
     "output_type": "execute_result"
    }
   ],
   "source": [
    "x_train.sample(10)"
   ]
  },
  {
   "cell_type": "code",
   "execution_count": 12,
   "metadata": {},
   "outputs": [
    {
     "name": "stdout",
     "output_type": "stream",
     "text": [
      "(4156,) (4156,)\n",
      "(1039,) (1039,)\n"
     ]
    }
   ],
   "source": [
    "#LATENT SEMANTIC ANALYSIS\n",
    "\n",
    "x_train_lsa = x_train[\"Data\"]\n",
    "y_train_lsa = y_train\n",
    "x_test_lsa = x_test[\"Data\"]\n",
    "y_test_lsa = y_test\n",
    "\n",
    "print(x_train_lsa.shape, y_train_lsa.shape)\n",
    "print(x_test_lsa.shape, y_test_lsa.shape)"
   ]
  },
  {
   "cell_type": "code",
   "execution_count": 13,
   "metadata": {},
   "outputs": [],
   "source": [
    "#vectorizer = CountVectorizer(max_df=0.9, min_df=5)\n",
    "vectorizer = TfidfVectorizer(max_df=0.9, min_df=5)\n",
    "x_train_lsa_vec = vectorizer.fit_transform(x_train_lsa).todense()\n",
    "x_test_lsa_vec = vectorizer.fit_transform(x_test_lsa).todense()\n",
    "#X_tf = tfidf.fit_transform(x_train).todense()\n",
    "#print (X_tf)"
   ]
  },
  {
   "cell_type": "code",
   "execution_count": 14,
   "metadata": {},
   "outputs": [
    {
     "data": {
      "text/plain": [
       "((4156, 18480), (1039, 8018))"
      ]
     },
     "execution_count": 14,
     "metadata": {},
     "output_type": "execute_result"
    }
   ],
   "source": [
    "x_train_lsa_vec.shape, x_test_lsa_vec.shape"
   ]
  },
  {
   "cell_type": "code",
   "execution_count": 15,
   "metadata": {},
   "outputs": [],
   "source": [
    "svd = TruncatedSVD(n_components = 100)\n",
    "lsa = make_pipeline(svd, Normalizer(copy=False))\n",
    "\n",
    "x_transform_lsa_train = lsa.fit_transform(x_train_lsa_vec)\n",
    "x_transform_lsa_test = lsa.fit_transform(x_test_lsa_vec)\n",
    "\n",
    "U_matrix_train = x_transform_lsa_train / svd.singular_values_\n",
    "S_matrix_train = np.diag(svd.singular_values_)\n",
    "VT_matrix_train = svd.components_\n",
    "\n",
    "U_matrix_test = x_transform_lsa_test / svd.singular_values_\n",
    "S_matrix_test = np.diag(svd.singular_values_)\n",
    "VT_matrix_test = svd.components_\n"
   ]
  },
  {
   "cell_type": "code",
   "execution_count": 16,
   "metadata": {},
   "outputs": [
    {
     "name": "stdout",
     "output_type": "stream",
     "text": [
      "Train Data 2:  (4156, 100) (4156, 100) (100, 100) (100, 8018)\n",
      "Test Data 2:  (1039, 100) (1039, 100) (100, 100) (100, 8018)\n"
     ]
    }
   ],
   "source": [
    "print(\"Train Data 2: \", x_transform_lsa_train.shape, U_matrix_train.shape, S_matrix_train.shape, VT_matrix_train.shape)\n",
    "print(\"Test Data 2: \", x_transform_lsa_test.shape, U_matrix_test.shape, S_matrix_test.shape, VT_matrix_test.shape)"
   ]
  },
  {
   "cell_type": "code",
   "execution_count": 17,
   "metadata": {},
   "outputs": [
    {
     "data": {
      "text/plain": [
       "((4156, 100), (1039, 100))"
      ]
     },
     "execution_count": 17,
     "metadata": {},
     "output_type": "execute_result"
    }
   ],
   "source": [
    "sem_matrix_train_2 = np.dot(U_matrix_train, S_matrix_train)\n",
    "sem_matrix_test_2 = np.dot(U_matrix_test, S_matrix_test)\n",
    "\n",
    "sem_matrix_train_2.shape , sem_matrix_test_2.shape"
   ]
  },
  {
   "cell_type": "code",
   "execution_count": 18,
   "metadata": {},
   "outputs": [
    {
     "data": {
      "text/plain": [
       "SVC(C=1.0, cache_size=200, class_weight=None, coef0=0.0,\n",
       "  decision_function_shape='ovr', degree=3, gamma=1, kernel='linear',\n",
       "  max_iter=-1, probability=True, random_state=None, shrinking=True,\n",
       "  tol=0.001, verbose=False)"
      ]
     },
     "execution_count": 18,
     "metadata": {},
     "output_type": "execute_result"
    }
   ],
   "source": [
    "from sklearn import svm\n",
    "svm_model_lsa_linear = svm.SVC(kernel='linear', gamma=1, probability=True)\n",
    "svm_model_lsa_linear.fit(sem_matrix_train_2, y_train)"
   ]
  },
  {
   "cell_type": "code",
   "execution_count": 19,
   "metadata": {},
   "outputs": [
    {
     "data": {
      "text/plain": [
       "SVC(C=1.0, cache_size=200, class_weight=None, coef0=0.0,\n",
       "  decision_function_shape='ovr', degree=3, gamma=1, kernel='poly',\n",
       "  max_iter=-1, probability=True, random_state=None, shrinking=True,\n",
       "  tol=0.001, verbose=False)"
      ]
     },
     "execution_count": 19,
     "metadata": {},
     "output_type": "execute_result"
    }
   ],
   "source": [
    "svm_model_lsa_poly = svm.SVC(kernel='poly', gamma=1, probability=True)\n",
    "svm_model_lsa_poly.fit(sem_matrix_train_2, y_train) "
   ]
  },
  {
   "cell_type": "code",
   "execution_count": 20,
   "metadata": {},
   "outputs": [
    {
     "data": {
      "text/plain": [
       "SVC(C=1.0, cache_size=200, class_weight=None, coef0=0.0,\n",
       "  decision_function_shape='ovr', degree=3, gamma=1, kernel='rbf',\n",
       "  max_iter=-1, probability=True, random_state=None, shrinking=True,\n",
       "  tol=0.001, verbose=False)"
      ]
     },
     "execution_count": 20,
     "metadata": {},
     "output_type": "execute_result"
    }
   ],
   "source": [
    "svm_model_lsa_rbf = svm.SVC(kernel='rbf', gamma=1, probability=True)\n",
    "svm_model_lsa_rbf.fit(sem_matrix_train_2, y_train)"
   ]
  },
  {
   "cell_type": "code",
   "execution_count": 21,
   "metadata": {},
   "outputs": [
    {
     "data": {
      "text/plain": [
       "SVC(C=1.0, cache_size=200, class_weight=None, coef0=0.0,\n",
       "  decision_function_shape='ovr', degree=3, gamma=1, kernel='sigmoid',\n",
       "  max_iter=-1, probability=True, random_state=None, shrinking=True,\n",
       "  tol=0.001, verbose=False)"
      ]
     },
     "execution_count": 21,
     "metadata": {},
     "output_type": "execute_result"
    }
   ],
   "source": [
    "svm_model_lsa_sigmoid = svm.SVC(kernel='sigmoid', gamma=1, probability=True)\n",
    "svm_model_lsa_sigmoid.fit(sem_matrix_train_2, y_train) "
   ]
  },
  {
   "cell_type": "code",
   "execution_count": 22,
   "metadata": {},
   "outputs": [
    {
     "name": "stdout",
     "output_type": "stream",
     "text": [
      "(4156, 4) (4156,)\n",
      "(1039, 4) (1039,)\n"
     ]
    },
    {
     "name": "stderr",
     "output_type": "stream",
     "text": [
      "C:\\Users\\User\\Anaconda3\\lib\\site-packages\\ipykernel_launcher.py:8: DataConversionWarning: Data with input dtype int64, float64 were all converted to float64 by the scale function.\n",
      "  \n",
      "C:\\Users\\User\\Anaconda3\\lib\\site-packages\\ipykernel_launcher.py:9: DataConversionWarning: Data with input dtype int64, float64 were all converted to float64 by the scale function.\n",
      "  if __name__ == '__main__':\n"
     ]
    }
   ],
   "source": [
    "# WEB PAGE FEATURE SELECTION\n",
    "\n",
    "x_train_wpfs = x_train[[\"TotalFreqKeyword\", \"TotalWord\", \"TermRatio\", \"AVGInterval\"]]\n",
    "y_train_wpfs = y_train\n",
    "x_test_wpfs = x_test[[\"TotalFreqKeyword\", \"TotalWord\", \"TermRatio\", \"AVGInterval\"]]\n",
    "y_test_wpfs = y_test\n",
    "\n",
    "x_train_wpfs = preprocessing.scale(x_train_wpfs)\n",
    "x_test_wpfs = preprocessing.scale(x_test_wpfs)\n",
    "\n",
    "print(x_train_wpfs.shape, y_train_wpfs.shape)\n",
    "print(x_test_wpfs.shape, y_test_wpfs.shape)"
   ]
  },
  {
   "cell_type": "code",
   "execution_count": 23,
   "metadata": {},
   "outputs": [
    {
     "data": {
      "text/plain": [
       "SVC(C=1.0, cache_size=200, class_weight=None, coef0=0.0,\n",
       "  decision_function_shape='ovr', degree=3, gamma=1, kernel='linear',\n",
       "  max_iter=-1, probability=True, random_state=None, shrinking=True,\n",
       "  tol=0.001, verbose=False)"
      ]
     },
     "execution_count": 23,
     "metadata": {},
     "output_type": "execute_result"
    }
   ],
   "source": [
    "svm_model_wpfs_linear = svm.SVC(kernel='linear', gamma=1, probability=True)\n",
    "svm_model_wpfs_linear.fit(x_train_wpfs, y_train) "
   ]
  },
  {
   "cell_type": "code",
   "execution_count": 24,
   "metadata": {},
   "outputs": [
    {
     "data": {
      "text/plain": [
       "SVC(C=1.0, cache_size=200, class_weight=None, coef0=0.0,\n",
       "  decision_function_shape='ovr', degree=3, gamma=1, kernel='poly',\n",
       "  max_iter=-1, probability=True, random_state=None, shrinking=True,\n",
       "  tol=0.001, verbose=False)"
      ]
     },
     "execution_count": 24,
     "metadata": {},
     "output_type": "execute_result"
    }
   ],
   "source": [
    "svm_model_wpfs_poly = svm.SVC(kernel='poly', gamma=1, probability=True)\n",
    "svm_model_wpfs_poly.fit(x_train_wpfs, y_train) "
   ]
  },
  {
   "cell_type": "code",
   "execution_count": 25,
   "metadata": {},
   "outputs": [
    {
     "data": {
      "text/plain": [
       "SVC(C=1.0, cache_size=200, class_weight=None, coef0=0.0,\n",
       "  decision_function_shape='ovr', degree=3, gamma=1, kernel='rbf',\n",
       "  max_iter=-1, probability=True, random_state=None, shrinking=True,\n",
       "  tol=0.001, verbose=False)"
      ]
     },
     "execution_count": 25,
     "metadata": {},
     "output_type": "execute_result"
    }
   ],
   "source": [
    "svm_model_wpfs_rbf = svm.SVC(kernel='rbf', gamma=1, probability=True)\n",
    "svm_model_wpfs_rbf.fit(x_train_wpfs, y_train) "
   ]
  },
  {
   "cell_type": "code",
   "execution_count": 26,
   "metadata": {},
   "outputs": [
    {
     "data": {
      "text/plain": [
       "SVC(C=1.0, cache_size=200, class_weight=None, coef0=0.0,\n",
       "  decision_function_shape='ovr', degree=3, gamma=1, kernel='sigmoid',\n",
       "  max_iter=-1, probability=True, random_state=None, shrinking=True,\n",
       "  tol=0.001, verbose=False)"
      ]
     },
     "execution_count": 26,
     "metadata": {},
     "output_type": "execute_result"
    }
   ],
   "source": [
    "svm_model_wpfs_sigmoid = svm.SVC(kernel='sigmoid', gamma=1, probability=True)\n",
    "svm_model_wpfs_sigmoid.fit(x_train_wpfs, y_train) "
   ]
  },
  {
   "cell_type": "code",
   "execution_count": 27,
   "metadata": {},
   "outputs": [],
   "source": [
    "lsa_value_linear = svm_model_lsa_linear.decision_function(sem_matrix_test_2)\n",
    "lsa_value_poly = svm_model_lsa_poly.decision_function(sem_matrix_test_2)\n",
    "lsa_value_rbf = svm_model_lsa_rbf.decision_function(sem_matrix_test_2)\n",
    "lsa_value_sigmoid = svm_model_lsa_sigmoid.decision_function(sem_matrix_test_2)\n",
    "\n",
    "lsa_predict_linear = svm_model_lsa_linear.predict(sem_matrix_test_2)\n",
    "lsa_predict_poly = svm_model_lsa_poly.predict(sem_matrix_test_2)\n",
    "lsa_predict_rbf = svm_model_lsa_rbf.predict(sem_matrix_test_2)\n",
    "lsa_predict_sigmoid = svm_model_lsa_sigmoid.predict(sem_matrix_test_2)\n",
    "\n",
    "wpfs_value_linear = svm_model_wpfs_linear.decision_function(x_test_wpfs)\n",
    "wpfs_value_poly = svm_model_wpfs_poly.decision_function(x_test_wpfs)\n",
    "wpfs_value_rbf = svm_model_wpfs_rbf.decision_function(x_test_wpfs)\n",
    "wpfs_value_sigmoid = svm_model_wpfs_sigmoid.decision_function(x_test_wpfs)\n",
    "\n",
    "wpfs_predict_linear = svm_model_wpfs_linear.predict(x_test_wpfs)\n",
    "wpfs_predict_poly = svm_model_wpfs_poly.predict(x_test_wpfs)\n",
    "wpfs_predict_rbf = svm_model_wpfs_rbf.predict(x_test_wpfs)\n",
    "wpfs_predict_sigmoid = svm_model_wpfs_sigmoid.predict(x_test_wpfs)"
   ]
  },
  {
   "cell_type": "code",
   "execution_count": 28,
   "metadata": {},
   "outputs": [],
   "source": [
    "list_decision_linear = list(zip(lsa_value_linear, lsa_predict_linear, wpfs_value_linear, wpfs_predict_linear))    \n",
    "list_decision_poly = list(zip(lsa_value_poly, lsa_predict_poly, wpfs_value_poly, wpfs_predict_poly))    \n",
    "list_decision_rbf = list(zip(lsa_value_rbf, lsa_predict_rbf, wpfs_value_rbf, wpfs_predict_rbf))    \n",
    "list_decision_sigmoid = list(zip(lsa_value_sigmoid, lsa_predict_sigmoid, wpfs_value_sigmoid, wpfs_predict_sigmoid))    \n",
    "\n",
    "\n",
    "DF_linear = pd.DataFrame(list_decision_linear, columns = ['LSA_val_lin','LSA_pred_lin', 'WPFS_val_lin', 'WPFS_pred_lin'])\n",
    "DF_poly = pd.DataFrame(list_decision_poly, columns = ['LSA_val_pol','LSA_pred_pol', 'WPFS_val_pol', 'WPFS_pred_pol'])\n",
    "DF_rbf = pd.DataFrame(list_decision_rbf, columns = ['LSA_val_rbf','LSA_pred_rbf', 'WPFS_val_rbf', 'WPFS_pred_rbf'])\n",
    "DF_sigmoid = pd.DataFrame(list_decision_sigmoid, columns = ['LSA_val_sig','LSA_pred_sig', 'WPFS_val_sig', 'WPFS_pred_sig'])"
   ]
  },
  {
   "cell_type": "code",
   "execution_count": 29,
   "metadata": {},
   "outputs": [],
   "source": [
    "count_linear = DF_linear[\"LSA_val_lin\"]\n",
    "count_poly = DF_poly[\"LSA_val_pol\"]\n",
    "count_rbf = DF_rbf[\"LSA_val_rbf\"]\n",
    "count_sigmoid = DF_sigmoid[\"LSA_val_sig\"]\n",
    "\n",
    "\n",
    "for n in count_linear:\n",
    "    if DF_linear['LSA_pred_lin'].equals(DF_linear['WPFS_pred_lin']):\n",
    "        DF_linear[\"Final_Category_lin\"] = DF_linear[\"LSA_pred_lin\"]\n",
    "    else:\n",
    "        lsaval = abs(DF_linear[\"LSA_val_lin\"])\n",
    "        wpfsval = abs(DF_linear[\"WPFS_val_lin\"])\n",
    "        DF_linear['Final_Category_lin'] = np.where((lsaval > wpfsval), DF_linear[\"LSA_pred_lin\"],  DF_linear[\"WPFS_pred_lin\"])\n",
    "\n",
    "for n in count_poly:\n",
    "    if DF_poly['LSA_pred_pol'].equals(DF_poly['WPFS_pred_pol']):\n",
    "        DF_poly[\"Final_Category_pol\"] = DF_poly[\"LSA_pred_pol\"]\n",
    "    else:\n",
    "        lsaval = abs(DF_poly[\"LSA_val_pol\"])\n",
    "        wpfsval = abs(DF_poly[\"WPFS_val_pol\"])\n",
    "        DF_poly['Final_Category_pol'] = np.where((lsaval > wpfsval), DF_poly[\"LSA_pred_pol\"],  DF_poly[\"WPFS_pred_pol\"])\n",
    "\n",
    "for n in count_rbf:\n",
    "    if DF_rbf['LSA_pred_rbf'].equals(DF_rbf['WPFS_pred_rbf']):\n",
    "        DF_rbf[\"Final_Category_rbf\"] = DF_rbf[\"LSA_predict\"]\n",
    "    else:\n",
    "        lsaval = abs(DF_rbf[\"LSA_val_rbf\"])\n",
    "        wpfsval = abs(DF_rbf[\"WPFS_val_rbf\"])\n",
    "        DF_rbf['Final_Category_rbf'] = np.where((lsaval > wpfsval), DF_rbf[\"LSA_pred_rbf\"],  DF_rbf[\"WPFS_pred_rbf\"])\n",
    "\n",
    "for n in count_sigmoid:\n",
    "    if DF_sigmoid['LSA_pred_sig'].equals(DF_sigmoid['WPFS_pred_sig']):\n",
    "        DF_sigmoid[\"Final_Category_sig\"] = DF_sigmoid[\"LSA_pred_sig\"]\n",
    "    else:\n",
    "        lsaval = abs(DF_sigmoid[\"LSA_val_sig\"])\n",
    "        wpfsval = abs(DF_sigmoid[\"WPFS_val_sig\"])\n",
    "        DF_sigmoid['Final_Category_sig'] = np.where((lsaval > wpfsval), DF_sigmoid[\"LSA_pred_sig\"],  DF_sigmoid[\"WPFS_pred_sig\"])\n",
    "        \n"
   ]
  },
  {
   "cell_type": "code",
   "execution_count": 30,
   "metadata": {},
   "outputs": [],
   "source": [
    "y_pred_lin = DF_linear[\"Final_Category_lin\"]\n",
    "y_pred_pol = DF_poly['Final_Category_pol']\n",
    "y_pred_rbf = DF_rbf['Final_Category_rbf']\n",
    "y_pred_sig = DF_sigmoid['Final_Category_sig']"
   ]
  },
  {
   "cell_type": "code",
   "execution_count": 33,
   "metadata": {},
   "outputs": [
    {
     "name": "stdout",
     "output_type": "stream",
     "text": [
      "=========================LINEAR KERNEL=========================\n",
      "              precision    recall  f1-score   support\n",
      "\n",
      "        -1.0       0.73      0.76      0.74       546\n",
      "         1.0       0.72      0.68      0.70       493\n",
      "\n",
      "   micro avg       0.72      0.72      0.72      1039\n",
      "   macro avg       0.72      0.72      0.72      1039\n",
      "weighted avg       0.72      0.72      0.72      1039\n",
      "\n",
      "akurasi :  0.7247353224254091\n",
      "=========================POLINOMIAL KERNEL=========================\n",
      "              precision    recall  f1-score   support\n",
      "\n",
      "        -1.0       0.57      0.97      0.72       546\n",
      "         1.0       0.85      0.19      0.31       493\n",
      "\n",
      "   micro avg       0.60      0.60      0.60      1039\n",
      "   macro avg       0.71      0.58      0.51      1039\n",
      "weighted avg       0.70      0.60      0.52      1039\n",
      "\n",
      "akurasi :  0.5996150144369586\n",
      "=========================RBF KERNEL=========================\n",
      "              precision    recall  f1-score   support\n",
      "\n",
      "        -1.0       0.73      0.80      0.77       546\n",
      "         1.0       0.76      0.68      0.71       493\n",
      "\n",
      "   micro avg       0.74      0.74      0.74      1039\n",
      "   macro avg       0.74      0.74      0.74      1039\n",
      "weighted avg       0.74      0.74      0.74      1039\n",
      "\n",
      "akurasi :  0.7420596727622714\n",
      "=========================SIGMOID KERNEL=========================\n",
      "              precision    recall  f1-score   support\n",
      "\n",
      "        -1.0       0.57      0.55      0.56       546\n",
      "         1.0       0.52      0.53      0.52       493\n",
      "\n",
      "   micro avg       0.54      0.54      0.54      1039\n",
      "   macro avg       0.54      0.54      0.54      1039\n",
      "weighted avg       0.54      0.54      0.54      1039\n",
      "\n",
      "akurasi :  0.5409047160731473\n"
     ]
    }
   ],
   "source": [
    "from sklearn import metrics \n",
    "from sklearn.metrics import classification_report, confusion_matrix\n",
    "import itertools\n",
    "\n",
    "acc_lin = metrics.accuracy_score(y_test, y_pred_lin)\n",
    "acc_pol = metrics.accuracy_score(y_test, y_pred_pol)\n",
    "acc_rbf = metrics.accuracy_score(y_test, y_pred_rbf)\n",
    "acc_sig = metrics.accuracy_score(y_test, y_pred_sig)\n",
    "\n",
    "print(\"=========================LINEAR KERNEL=========================\")\n",
    "print (classification_report(y_test, y_pred_lin))\n",
    "print(\"akurasi : \", acc_lin)\n",
    "\n",
    "\n",
    "print(\"=========================POLINOMIAL KERNEL=========================\")\n",
    "print (classification_report(y_test, y_pred_pol))\n",
    "print(\"akurasi : \", acc_pol)\n",
    "\n",
    "print(\"=========================RBF KERNEL=========================\")\n",
    "print (classification_report(y_test, y_pred_rbf))\n",
    "print(\"akurasi : \", acc_rbf)\n",
    "\n",
    "print(\"=========================SIGMOID KERNEL=========================\")\n",
    "print (classification_report(y_test, y_pred_sig))\n",
    "print(\"akurasi : \", acc_sig)"
   ]
  },
  {
   "cell_type": "code",
   "execution_count": null,
   "metadata": {},
   "outputs": [],
   "source": []
  }
 ],
 "metadata": {
  "kernelspec": {
   "display_name": "Python 3",
   "language": "python",
   "name": "python3"
  },
  "language_info": {
   "codemirror_mode": {
    "name": "ipython",
    "version": 3
   },
   "file_extension": ".py",
   "mimetype": "text/x-python",
   "name": "python",
   "nbconvert_exporter": "python",
   "pygments_lexer": "ipython3",
   "version": "3.7.3"
  }
 },
 "nbformat": 4,
 "nbformat_minor": 2
}
