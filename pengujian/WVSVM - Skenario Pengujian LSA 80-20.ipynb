{
 "cells": [
  {
   "cell_type": "code",
   "execution_count": 1,
   "metadata": {},
   "outputs": [],
   "source": [
    "import pandas as pd\n",
    "from bs4 import BeautifulSoup\n",
    "import re\n",
    "import nltk \n",
    "import string \n",
    "import sys\n",
    "import numpy as np\n",
    "import linalg\n",
    "from sklearn import preprocessing\n",
    "from sklearn.decomposition import TruncatedSVD"
   ]
  },
  {
   "cell_type": "code",
   "execution_count": 2,
   "metadata": {},
   "outputs": [],
   "source": [
    "from sklearn.feature_extraction.text import TfidfVectorizer\n",
    "from sklearn.feature_extraction.text import CountVectorizer\n",
    "from sklearn.pipeline import make_pipeline\n",
    "from sklearn.preprocessing import Normalizer"
   ]
  },
  {
   "cell_type": "code",
   "execution_count": 3,
   "metadata": {},
   "outputs": [
    {
     "data": {
      "text/plain": [
       "(5195, 11)"
      ]
     },
     "execution_count": 3,
     "metadata": {},
     "output_type": "execute_result"
    }
   ],
   "source": [
    "all_data = pd.read_csv(\"DataReady.csv\")\n",
    "all_data.shape"
   ]
  },
  {
   "cell_type": "code",
   "execution_count": 4,
   "metadata": {},
   "outputs": [
    {
     "data": {
      "text/html": [
       "<div>\n",
       "<style scoped>\n",
       "    .dataframe tbody tr th:only-of-type {\n",
       "        vertical-align: middle;\n",
       "    }\n",
       "\n",
       "    .dataframe tbody tr th {\n",
       "        vertical-align: top;\n",
       "    }\n",
       "\n",
       "    .dataframe thead th {\n",
       "        text-align: right;\n",
       "    }\n",
       "</style>\n",
       "<table border=\"1\" class=\"dataframe\">\n",
       "  <thead>\n",
       "    <tr style=\"text-align: right;\">\n",
       "      <th></th>\n",
       "      <th>Link</th>\n",
       "      <th>Data</th>\n",
       "      <th>Category</th>\n",
       "      <th>CategoryIndex</th>\n",
       "      <th>Keyword</th>\n",
       "      <th>VarKeyword</th>\n",
       "      <th>TotalFreqKeyword</th>\n",
       "      <th>TotalWord</th>\n",
       "      <th>TermRatio</th>\n",
       "      <th>interval</th>\n",
       "      <th>AVGInterval</th>\n",
       "    </tr>\n",
       "  </thead>\n",
       "  <tbody>\n",
       "    <tr>\n",
       "      <th>2305</th>\n",
       "      <td>http://www.wvtools.com/</td>\n",
       "      <td>home wvtools maintain large diverse inventory ...</td>\n",
       "      <td>General</td>\n",
       "      <td>-1.0</td>\n",
       "      <td>['online', 'type', 'link', 'money', 'addition'...</td>\n",
       "      <td>59</td>\n",
       "      <td>77</td>\n",
       "      <td>103</td>\n",
       "      <td>0.747573</td>\n",
       "      <td>1468</td>\n",
       "      <td>19.0</td>\n",
       "    </tr>\n",
       "    <tr>\n",
       "      <th>2646</th>\n",
       "      <td>http://www.sportsnet.ca/tennis/</td>\n",
       "      <td>tennis sportsnet rogers medium cooky personali...</td>\n",
       "      <td>General</td>\n",
       "      <td>-1.0</td>\n",
       "      <td>['free', 'learn', 'site', 'fantasy', 'online',...</td>\n",
       "      <td>133</td>\n",
       "      <td>368</td>\n",
       "      <td>680</td>\n",
       "      <td>0.541176</td>\n",
       "      <td>1809</td>\n",
       "      <td>5.0</td>\n",
       "    </tr>\n",
       "    <tr>\n",
       "      <th>866</th>\n",
       "      <td>http://dietingdisaster.blogspot.com/</td>\n",
       "      <td>diet disater skip main skip sidebar sunday jun...</td>\n",
       "      <td>General</td>\n",
       "      <td>-1.0</td>\n",
       "      <td>['free', 'food', 'learn', 'girl', 'kid', 'kitc...</td>\n",
       "      <td>270</td>\n",
       "      <td>465</td>\n",
       "      <td>646</td>\n",
       "      <td>0.719814</td>\n",
       "      <td>1609</td>\n",
       "      <td>3.0</td>\n",
       "    </tr>\n",
       "    <tr>\n",
       "      <th>1707</th>\n",
       "      <td>http://www.thewildhunt.com/thegreen/mythologic...</td>\n",
       "      <td>green mythological booklist back mythological ...</td>\n",
       "      <td>General</td>\n",
       "      <td>-1.0</td>\n",
       "      <td>['free', 'draw', 'indian', 'site', 'book', 'au...</td>\n",
       "      <td>94</td>\n",
       "      <td>143</td>\n",
       "      <td>202</td>\n",
       "      <td>0.707921</td>\n",
       "      <td>1309</td>\n",
       "      <td>9.0</td>\n",
       "    </tr>\n",
       "    <tr>\n",
       "      <th>1959</th>\n",
       "      <td>http://undsci.berkeley.edu/</td>\n",
       "      <td>understand science site tour find subscribe up...</td>\n",
       "      <td>General</td>\n",
       "      <td>-1.0</td>\n",
       "      <td>['page', 'action', 'learn', 'science', 'site',...</td>\n",
       "      <td>84</td>\n",
       "      <td>129</td>\n",
       "      <td>168</td>\n",
       "      <td>0.767857</td>\n",
       "      <td>998</td>\n",
       "      <td>8.0</td>\n",
       "    </tr>\n",
       "    <tr>\n",
       "      <th>1466</th>\n",
       "      <td>http://www.netfunny.com/rhf/jokes/computer.html</td>\n",
       "      <td>rhf computer science math joke rhf computer sc...</td>\n",
       "      <td>General</td>\n",
       "      <td>-1.0</td>\n",
       "      <td>['cat', 'animal', 'christmas', 'color', 'page'...</td>\n",
       "      <td>478</td>\n",
       "      <td>1217</td>\n",
       "      <td>2112</td>\n",
       "      <td>0.576231</td>\n",
       "      <td>1709</td>\n",
       "      <td>1.0</td>\n",
       "    </tr>\n",
       "    <tr>\n",
       "      <th>1230</th>\n",
       "      <td>http://www.euro.who.int/foodsafety</td>\n",
       "      <td>europe food safety europe english fran deutsch...</td>\n",
       "      <td>General</td>\n",
       "      <td>-1.0</td>\n",
       "      <td>['animal', 'sheet', 'activity', 'food', 'learn...</td>\n",
       "      <td>252</td>\n",
       "      <td>525</td>\n",
       "      <td>709</td>\n",
       "      <td>0.740480</td>\n",
       "      <td>1898</td>\n",
       "      <td>4.0</td>\n",
       "    </tr>\n",
       "    <tr>\n",
       "      <th>1578</th>\n",
       "      <td>http://www.southernboating.com/</td>\n",
       "      <td>southern boat location life boat boat sale cen...</td>\n",
       "      <td>General</td>\n",
       "      <td>-1.0</td>\n",
       "      <td>['cat', 'food', 'site', 'life', 'healthy', 'sa...</td>\n",
       "      <td>107</td>\n",
       "      <td>338</td>\n",
       "      <td>500</td>\n",
       "      <td>0.676000</td>\n",
       "      <td>1308</td>\n",
       "      <td>4.0</td>\n",
       "    </tr>\n",
       "    <tr>\n",
       "      <th>4163</th>\n",
       "      <td>http://www.rkycamp.org/</td>\n",
       "      <td>rky camp eagle lake eastern ontario stay touch...</td>\n",
       "      <td>Kids</td>\n",
       "      <td>1.0</td>\n",
       "      <td>['activity', 'ontario', 'canadian', 'child', '...</td>\n",
       "      <td>53</td>\n",
       "      <td>92</td>\n",
       "      <td>116</td>\n",
       "      <td>0.793103</td>\n",
       "      <td>1476</td>\n",
       "      <td>16.0</td>\n",
       "    </tr>\n",
       "    <tr>\n",
       "      <th>4498</th>\n",
       "      <td>http://www.timeanddate.com/</td>\n",
       "      <td>timeanddate menutimeanddate comsearch site art...</td>\n",
       "      <td>Kids</td>\n",
       "      <td>1.0</td>\n",
       "      <td>['page', 'site', 'story', 'fact', 'african', '...</td>\n",
       "      <td>89</td>\n",
       "      <td>153</td>\n",
       "      <td>346</td>\n",
       "      <td>0.442197</td>\n",
       "      <td>2060</td>\n",
       "      <td>13.0</td>\n",
       "    </tr>\n",
       "  </tbody>\n",
       "</table>\n",
       "</div>"
      ],
      "text/plain": [
       "                                                   Link  \\\n",
       "2305                            http://www.wvtools.com/   \n",
       "2646                    http://www.sportsnet.ca/tennis/   \n",
       "866                http://dietingdisaster.blogspot.com/   \n",
       "1707  http://www.thewildhunt.com/thegreen/mythologic...   \n",
       "1959                        http://undsci.berkeley.edu/   \n",
       "1466    http://www.netfunny.com/rhf/jokes/computer.html   \n",
       "1230                 http://www.euro.who.int/foodsafety   \n",
       "1578                    http://www.southernboating.com/   \n",
       "4163                            http://www.rkycamp.org/   \n",
       "4498                        http://www.timeanddate.com/   \n",
       "\n",
       "                                                   Data Category  \\\n",
       "2305  home wvtools maintain large diverse inventory ...  General   \n",
       "2646  tennis sportsnet rogers medium cooky personali...  General   \n",
       "866   diet disater skip main skip sidebar sunday jun...  General   \n",
       "1707  green mythological booklist back mythological ...  General   \n",
       "1959  understand science site tour find subscribe up...  General   \n",
       "1466  rhf computer science math joke rhf computer sc...  General   \n",
       "1230  europe food safety europe english fran deutsch...  General   \n",
       "1578  southern boat location life boat boat sale cen...  General   \n",
       "4163  rky camp eagle lake eastern ontario stay touch...     Kids   \n",
       "4498  timeanddate menutimeanddate comsearch site art...     Kids   \n",
       "\n",
       "      CategoryIndex                                            Keyword  \\\n",
       "2305           -1.0  ['online', 'type', 'link', 'money', 'addition'...   \n",
       "2646           -1.0  ['free', 'learn', 'site', 'fantasy', 'online',...   \n",
       "866            -1.0  ['free', 'food', 'learn', 'girl', 'kid', 'kitc...   \n",
       "1707           -1.0  ['free', 'draw', 'indian', 'site', 'book', 'au...   \n",
       "1959           -1.0  ['page', 'action', 'learn', 'science', 'site',...   \n",
       "1466           -1.0  ['cat', 'animal', 'christmas', 'color', 'page'...   \n",
       "1230           -1.0  ['animal', 'sheet', 'activity', 'food', 'learn...   \n",
       "1578           -1.0  ['cat', 'food', 'site', 'life', 'healthy', 'sa...   \n",
       "4163            1.0  ['activity', 'ontario', 'canadian', 'child', '...   \n",
       "4498            1.0  ['page', 'site', 'story', 'fact', 'african', '...   \n",
       "\n",
       "      VarKeyword  TotalFreqKeyword  TotalWord  TermRatio  interval  \\\n",
       "2305          59                77        103   0.747573      1468   \n",
       "2646         133               368        680   0.541176      1809   \n",
       "866          270               465        646   0.719814      1609   \n",
       "1707          94               143        202   0.707921      1309   \n",
       "1959          84               129        168   0.767857       998   \n",
       "1466         478              1217       2112   0.576231      1709   \n",
       "1230         252               525        709   0.740480      1898   \n",
       "1578         107               338        500   0.676000      1308   \n",
       "4163          53                92        116   0.793103      1476   \n",
       "4498          89               153        346   0.442197      2060   \n",
       "\n",
       "      AVGInterval  \n",
       "2305         19.0  \n",
       "2646          5.0  \n",
       "866           3.0  \n",
       "1707          9.0  \n",
       "1959          8.0  \n",
       "1466          1.0  \n",
       "1230          4.0  \n",
       "1578          4.0  \n",
       "4163         16.0  \n",
       "4498         13.0  "
      ]
     },
     "execution_count": 4,
     "metadata": {},
     "output_type": "execute_result"
    }
   ],
   "source": [
    "all_data.sample(10)"
   ]
  },
  {
   "cell_type": "code",
   "execution_count": 5,
   "metadata": {},
   "outputs": [
    {
     "data": {
      "text/plain": [
       "Link                 0\n",
       "Data                 0\n",
       "Category             0\n",
       "CategoryIndex        0\n",
       "Keyword              0\n",
       "VarKeyword           0\n",
       "TotalFreqKeyword     0\n",
       "TotalWord            0\n",
       "TermRatio            0\n",
       "interval             0\n",
       "AVGInterval         48\n",
       "dtype: int64"
      ]
     },
     "execution_count": 5,
     "metadata": {},
     "output_type": "execute_result"
    }
   ],
   "source": [
    "all_data.isnull().sum()"
   ]
  },
  {
   "cell_type": "code",
   "execution_count": 6,
   "metadata": {},
   "outputs": [
    {
     "data": {
      "text/plain": [
       "Link                0\n",
       "Data                0\n",
       "Category            0\n",
       "CategoryIndex       0\n",
       "Keyword             0\n",
       "VarKeyword          0\n",
       "TotalFreqKeyword    0\n",
       "TotalWord           0\n",
       "TermRatio           0\n",
       "interval            0\n",
       "AVGInterval         0\n",
       "dtype: int64"
      ]
     },
     "execution_count": 6,
     "metadata": {},
     "output_type": "execute_result"
    }
   ],
   "source": [
    "clean_data = all_data\n",
    "clean_data[\"AVGInterval\"] = clean_data['AVGInterval'].replace(np.nan, 0)\n",
    "clean_data.isnull().sum()"
   ]
  },
  {
   "cell_type": "code",
   "execution_count": 7,
   "metadata": {},
   "outputs": [
    {
     "data": {
      "text/html": [
       "<div>\n",
       "<style scoped>\n",
       "    .dataframe tbody tr th:only-of-type {\n",
       "        vertical-align: middle;\n",
       "    }\n",
       "\n",
       "    .dataframe tbody tr th {\n",
       "        vertical-align: top;\n",
       "    }\n",
       "\n",
       "    .dataframe thead th {\n",
       "        text-align: right;\n",
       "    }\n",
       "</style>\n",
       "<table border=\"1\" class=\"dataframe\">\n",
       "  <thead>\n",
       "    <tr style=\"text-align: right;\">\n",
       "      <th></th>\n",
       "      <th>Link</th>\n",
       "      <th>Data</th>\n",
       "      <th>Category</th>\n",
       "      <th>CategoryIndex</th>\n",
       "      <th>Keyword</th>\n",
       "      <th>VarKeyword</th>\n",
       "      <th>TotalFreqKeyword</th>\n",
       "      <th>TotalWord</th>\n",
       "      <th>TermRatio</th>\n",
       "      <th>interval</th>\n",
       "      <th>AVGInterval</th>\n",
       "    </tr>\n",
       "  </thead>\n",
       "  <tbody>\n",
       "    <tr>\n",
       "      <th>0</th>\n",
       "      <td>http://benjah.free.fr/</td>\n",
       "      <td>benjah free rvb notv contrat creative common</td>\n",
       "      <td>General</td>\n",
       "      <td>-1.0</td>\n",
       "      <td>['free', 'creative', 'common']</td>\n",
       "      <td>3</td>\n",
       "      <td>3</td>\n",
       "      <td>7</td>\n",
       "      <td>0.428571</td>\n",
       "      <td>1598</td>\n",
       "      <td>533.0</td>\n",
       "    </tr>\n",
       "    <tr>\n",
       "      <th>1</th>\n",
       "      <td>http://www.paaw.com/</td>\n",
       "      <td>perform art artist worldwide perform art artis...</td>\n",
       "      <td>General</td>\n",
       "      <td>-1.0</td>\n",
       "      <td>['site', 'production', 'web', 'project', 'read...</td>\n",
       "      <td>80</td>\n",
       "      <td>144</td>\n",
       "      <td>188</td>\n",
       "      <td>0.765957</td>\n",
       "      <td>1568</td>\n",
       "      <td>11.0</td>\n",
       "    </tr>\n",
       "    <tr>\n",
       "      <th>2</th>\n",
       "      <td>http://vlib.org/Humanities</td>\n",
       "      <td>humanity humanistic study virtual library huma...</td>\n",
       "      <td>General</td>\n",
       "      <td>-1.0</td>\n",
       "      <td>['page', 'science', 'online', 'high', 'type', ...</td>\n",
       "      <td>60</td>\n",
       "      <td>145</td>\n",
       "      <td>219</td>\n",
       "      <td>0.662100</td>\n",
       "      <td>2063</td>\n",
       "      <td>14.0</td>\n",
       "    </tr>\n",
       "    <tr>\n",
       "      <th>3</th>\n",
       "      <td>http://www.berzowska.com/xy/index.html</td>\n",
       "      <td>computational expressionism</td>\n",
       "      <td>General</td>\n",
       "      <td>-1.0</td>\n",
       "      <td>['expressionism']</td>\n",
       "      <td>1</td>\n",
       "      <td>1</td>\n",
       "      <td>2</td>\n",
       "      <td>0.500000</td>\n",
       "      <td>0</td>\n",
       "      <td>0.0</td>\n",
       "    </tr>\n",
       "    <tr>\n",
       "      <th>4</th>\n",
       "      <td>http://www.chronotext.org/</td>\n",
       "      <td>chronotext org chronotext grow collection soft...</td>\n",
       "      <td>General</td>\n",
       "      <td>-1.0</td>\n",
       "      <td>['tree', 'word', 'poem', 'music', 'site', 'gam...</td>\n",
       "      <td>256</td>\n",
       "      <td>476</td>\n",
       "      <td>677</td>\n",
       "      <td>0.703102</td>\n",
       "      <td>1608</td>\n",
       "      <td>3.0</td>\n",
       "    </tr>\n",
       "  </tbody>\n",
       "</table>\n",
       "</div>"
      ],
      "text/plain": [
       "                                     Link  \\\n",
       "0                  http://benjah.free.fr/   \n",
       "1                    http://www.paaw.com/   \n",
       "2              http://vlib.org/Humanities   \n",
       "3  http://www.berzowska.com/xy/index.html   \n",
       "4              http://www.chronotext.org/   \n",
       "\n",
       "                                                Data Category  CategoryIndex  \\\n",
       "0       benjah free rvb notv contrat creative common  General           -1.0   \n",
       "1  perform art artist worldwide perform art artis...  General           -1.0   \n",
       "2  humanity humanistic study virtual library huma...  General           -1.0   \n",
       "3                        computational expressionism  General           -1.0   \n",
       "4  chronotext org chronotext grow collection soft...  General           -1.0   \n",
       "\n",
       "                                             Keyword  VarKeyword  \\\n",
       "0                     ['free', 'creative', 'common']           3   \n",
       "1  ['site', 'production', 'web', 'project', 'read...          80   \n",
       "2  ['page', 'science', 'online', 'high', 'type', ...          60   \n",
       "3                                  ['expressionism']           1   \n",
       "4  ['tree', 'word', 'poem', 'music', 'site', 'gam...         256   \n",
       "\n",
       "   TotalFreqKeyword  TotalWord  TermRatio  interval  AVGInterval  \n",
       "0                 3          7   0.428571      1598        533.0  \n",
       "1               144        188   0.765957      1568         11.0  \n",
       "2               145        219   0.662100      2063         14.0  \n",
       "3                 1          2   0.500000         0          0.0  \n",
       "4               476        677   0.703102      1608          3.0  "
      ]
     },
     "execution_count": 7,
     "metadata": {},
     "output_type": "execute_result"
    }
   ],
   "source": [
    "clean_data.head(5)"
   ]
  },
  {
   "cell_type": "code",
   "execution_count": 8,
   "metadata": {},
   "outputs": [
    {
     "data": {
      "text/plain": [
       "General    2684\n",
       "Kids       2511\n",
       "Name: Category, dtype: int64"
      ]
     },
     "execution_count": 8,
     "metadata": {},
     "output_type": "execute_result"
    }
   ],
   "source": [
    "clean_data['Category'].value_counts()"
   ]
  },
  {
   "cell_type": "code",
   "execution_count": 9,
   "metadata": {},
   "outputs": [
    {
     "data": {
      "text/plain": [
       "((5195, 5), (5195,))"
      ]
     },
     "execution_count": 9,
     "metadata": {},
     "output_type": "execute_result"
    }
   ],
   "source": [
    "# MEMBUAT DATA FRAME DENGAN ISI KOLOM YANG DIGUNAKAN SAJAA\n",
    "x_data = clean_data[[\"Data\", \"TotalFreqKeyword\", \"TotalWord\", \"TermRatio\", \"AVGInterval\"]]\n",
    "y_data = clean_data[\"CategoryIndex\"]\n",
    "x_data.shape, y_data.shape"
   ]
  },
  {
   "cell_type": "code",
   "execution_count": 10,
   "metadata": {},
   "outputs": [
    {
     "name": "stdout",
     "output_type": "stream",
     "text": [
      "(4156, 5) (4156,)\n",
      "(1039, 5) (1039,)\n"
     ]
    }
   ],
   "source": [
    "from sklearn.model_selection import train_test_split\n",
    "x_train, x_test, y_train, y_test = train_test_split(x_data, y_data, test_size=0.2, random_state=3)\n",
    "\n",
    "print (x_train.shape , y_train.shape)\n",
    "print (x_test.shape, y_test.shape)"
   ]
  },
  {
   "cell_type": "code",
   "execution_count": 11,
   "metadata": {},
   "outputs": [
    {
     "data": {
      "text/html": [
       "<div>\n",
       "<style scoped>\n",
       "    .dataframe tbody tr th:only-of-type {\n",
       "        vertical-align: middle;\n",
       "    }\n",
       "\n",
       "    .dataframe tbody tr th {\n",
       "        vertical-align: top;\n",
       "    }\n",
       "\n",
       "    .dataframe thead th {\n",
       "        text-align: right;\n",
       "    }\n",
       "</style>\n",
       "<table border=\"1\" class=\"dataframe\">\n",
       "  <thead>\n",
       "    <tr style=\"text-align: right;\">\n",
       "      <th></th>\n",
       "      <th>Data</th>\n",
       "      <th>TotalFreqKeyword</th>\n",
       "      <th>TotalWord</th>\n",
       "      <th>TermRatio</th>\n",
       "      <th>AVGInterval</th>\n",
       "    </tr>\n",
       "  </thead>\n",
       "  <tbody>\n",
       "    <tr>\n",
       "      <th>408</th>\n",
       "      <td>auto repair truck repair car repair locate dea...</td>\n",
       "      <td>240</td>\n",
       "      <td>347</td>\n",
       "      <td>0.691643</td>\n",
       "      <td>4.0</td>\n",
       "    </tr>\n",
       "    <tr>\n",
       "      <th>1976</th>\n",
       "      <td>bbc earth home homepageaccessibility linksskip...</td>\n",
       "      <td>203</td>\n",
       "      <td>278</td>\n",
       "      <td>0.730216</td>\n",
       "      <td>9.0</td>\n",
       "    </tr>\n",
       "    <tr>\n",
       "      <th>3229</th>\n",
       "      <td>firework spectactular crayola visit local site...</td>\n",
       "      <td>332</td>\n",
       "      <td>423</td>\n",
       "      <td>0.784870</td>\n",
       "      <td>3.0</td>\n",
       "    </tr>\n",
       "    <tr>\n",
       "      <th>1851</th>\n",
       "      <td>pop org search skip content ber gesellschaft w...</td>\n",
       "      <td>405</td>\n",
       "      <td>2358</td>\n",
       "      <td>0.171756</td>\n",
       "      <td>2.0</td>\n",
       "    </tr>\n",
       "    <tr>\n",
       "      <th>973</th>\n",
       "      <td>cult expert steven hassan freedom mind resourc...</td>\n",
       "      <td>351</td>\n",
       "      <td>573</td>\n",
       "      <td>0.612565</td>\n",
       "      <td>4.0</td>\n",
       "    </tr>\n",
       "    <tr>\n",
       "      <th>2825</th>\n",
       "      <td>fun science experiment project idea kid educat...</td>\n",
       "      <td>302</td>\n",
       "      <td>333</td>\n",
       "      <td>0.906907</td>\n",
       "      <td>6.0</td>\n",
       "    </tr>\n",
       "    <tr>\n",
       "      <th>429</th>\n",
       "      <td>studio moxie important update important notice...</td>\n",
       "      <td>17</td>\n",
       "      <td>34</td>\n",
       "      <td>0.500000</td>\n",
       "      <td>67.0</td>\n",
       "    </tr>\n",
       "    <tr>\n",
       "      <th>3717</th>\n",
       "      <td>quia insect spider home faq log subscribe day ...</td>\n",
       "      <td>33</td>\n",
       "      <td>43</td>\n",
       "      <td>0.767442</td>\n",
       "      <td>51.0</td>\n",
       "    </tr>\n",
       "    <tr>\n",
       "      <th>3580</th>\n",
       "      <td>home canada science technology museum skip mai...</td>\n",
       "      <td>526</td>\n",
       "      <td>659</td>\n",
       "      <td>0.798179</td>\n",
       "      <td>3.0</td>\n",
       "    </tr>\n",
       "    <tr>\n",
       "      <th>990</th>\n",
       "      <td>julie wls site click link learn julie weight l...</td>\n",
       "      <td>202</td>\n",
       "      <td>302</td>\n",
       "      <td>0.668874</td>\n",
       "      <td>6.0</td>\n",
       "    </tr>\n",
       "  </tbody>\n",
       "</table>\n",
       "</div>"
      ],
      "text/plain": [
       "                                                   Data  TotalFreqKeyword  \\\n",
       "408   auto repair truck repair car repair locate dea...               240   \n",
       "1976  bbc earth home homepageaccessibility linksskip...               203   \n",
       "3229  firework spectactular crayola visit local site...               332   \n",
       "1851  pop org search skip content ber gesellschaft w...               405   \n",
       "973   cult expert steven hassan freedom mind resourc...               351   \n",
       "2825  fun science experiment project idea kid educat...               302   \n",
       "429   studio moxie important update important notice...                17   \n",
       "3717  quia insect spider home faq log subscribe day ...                33   \n",
       "3580  home canada science technology museum skip mai...               526   \n",
       "990   julie wls site click link learn julie weight l...               202   \n",
       "\n",
       "      TotalWord  TermRatio  AVGInterval  \n",
       "408         347   0.691643          4.0  \n",
       "1976        278   0.730216          9.0  \n",
       "3229        423   0.784870          3.0  \n",
       "1851       2358   0.171756          2.0  \n",
       "973         573   0.612565          4.0  \n",
       "2825        333   0.906907          6.0  \n",
       "429          34   0.500000         67.0  \n",
       "3717         43   0.767442         51.0  \n",
       "3580        659   0.798179          3.0  \n",
       "990         302   0.668874          6.0  "
      ]
     },
     "execution_count": 11,
     "metadata": {},
     "output_type": "execute_result"
    }
   ],
   "source": [
    "x_train.sample(10)"
   ]
  },
  {
   "cell_type": "code",
   "execution_count": 12,
   "metadata": {},
   "outputs": [
    {
     "name": "stdout",
     "output_type": "stream",
     "text": [
      "(4156,) (4156,)\n",
      "(1039,) (1039,)\n"
     ]
    }
   ],
   "source": [
    "#LATENT SEMANTIC ANALYSIS\n",
    "\n",
    "x_train_lsa = x_train[\"Data\"]\n",
    "y_train_lsa = y_train\n",
    "x_test_lsa = x_test[\"Data\"]\n",
    "y_test_lsa = y_test\n",
    "\n",
    "print(x_train_lsa.shape, y_train_lsa.shape)\n",
    "print(x_test_lsa.shape, y_test_lsa.shape)"
   ]
  },
  {
   "cell_type": "code",
   "execution_count": 13,
   "metadata": {},
   "outputs": [],
   "source": [
    "#vectorizer = CountVectorizer(max_df=0.9, min_df=5)\n",
    "vectorizer = TfidfVectorizer(max_df=0.9, min_df=5)\n",
    "x_train_lsa_vec = vectorizer.fit_transform(x_train_lsa).todense()\n",
    "x_test_lsa_vec = vectorizer.fit_transform(x_test_lsa).todense()\n",
    "#X_tf = tfidf.fit_transform(x_train).todense()\n",
    "#print (X_tf)"
   ]
  },
  {
   "cell_type": "code",
   "execution_count": 14,
   "metadata": {},
   "outputs": [
    {
     "data": {
      "text/plain": [
       "((4156, 18480), (1039, 8018))"
      ]
     },
     "execution_count": 14,
     "metadata": {},
     "output_type": "execute_result"
    }
   ],
   "source": [
    "x_train_lsa_vec.shape, x_test_lsa_vec.shape"
   ]
  },
  {
   "cell_type": "code",
   "execution_count": 15,
   "metadata": {},
   "outputs": [],
   "source": [
    "svd = TruncatedSVD(n_components = 100)\n",
    "lsa = make_pipeline(svd, Normalizer(copy=False))\n",
    "\n",
    "x_transform_lsa_train = lsa.fit_transform(x_train_lsa_vec)\n",
    "x_transform_lsa_test = lsa.fit_transform(x_test_lsa_vec)\n",
    "\n",
    "U_matrix_train = x_transform_lsa_train / svd.singular_values_\n",
    "S_matrix_train = np.diag(svd.singular_values_)\n",
    "VT_matrix_train = svd.components_\n",
    "\n",
    "U_matrix_test = x_transform_lsa_test / svd.singular_values_\n",
    "S_matrix_test = np.diag(svd.singular_values_)\n",
    "VT_matrix_test = svd.components_\n"
   ]
  },
  {
   "cell_type": "code",
   "execution_count": 16,
   "metadata": {},
   "outputs": [
    {
     "name": "stdout",
     "output_type": "stream",
     "text": [
      "Train Data 2:  (4156, 100) (4156, 100) (100, 100) (100, 8018)\n",
      "Test Data 2:  (1039, 100) (1039, 100) (100, 100) (100, 8018)\n"
     ]
    }
   ],
   "source": [
    "print(\"Train Data 2: \", x_transform_lsa_train.shape, U_matrix_train.shape, S_matrix_train.shape, VT_matrix_train.shape)\n",
    "print(\"Test Data 2: \", x_transform_lsa_test.shape, U_matrix_test.shape, S_matrix_test.shape, VT_matrix_test.shape)"
   ]
  },
  {
   "cell_type": "code",
   "execution_count": 17,
   "metadata": {},
   "outputs": [
    {
     "data": {
      "text/plain": [
       "((4156, 100), (1039, 100))"
      ]
     },
     "execution_count": 17,
     "metadata": {},
     "output_type": "execute_result"
    }
   ],
   "source": [
    "sem_matrix_train_2 = np.dot(U_matrix_train, S_matrix_train)\n",
    "sem_matrix_test_2 = np.dot(U_matrix_test, S_matrix_test)\n",
    "\n",
    "sem_matrix_train_2.shape , sem_matrix_test_2.shape"
   ]
  },
  {
   "cell_type": "code",
   "execution_count": 18,
   "metadata": {},
   "outputs": [
    {
     "data": {
      "text/plain": [
       "SVC(C=1.0, cache_size=200, class_weight=None, coef0=0.0,\n",
       "  decision_function_shape='ovr', degree=3, gamma=1, kernel='linear',\n",
       "  max_iter=-1, probability=True, random_state=None, shrinking=True,\n",
       "  tol=0.001, verbose=False)"
      ]
     },
     "execution_count": 18,
     "metadata": {},
     "output_type": "execute_result"
    }
   ],
   "source": [
    "from sklearn import svm\n",
    "svm_model_lsa_linear = svm.SVC(kernel='linear', gamma=1, probability=True)\n",
    "svm_model_lsa_linear.fit(sem_matrix_train_2, y_train)"
   ]
  },
  {
   "cell_type": "code",
   "execution_count": 19,
   "metadata": {},
   "outputs": [
    {
     "data": {
      "text/plain": [
       "SVC(C=1.0, cache_size=200, class_weight=None, coef0=0.0,\n",
       "  decision_function_shape='ovr', degree=3, gamma=1, kernel='poly',\n",
       "  max_iter=-1, probability=True, random_state=None, shrinking=True,\n",
       "  tol=0.001, verbose=False)"
      ]
     },
     "execution_count": 19,
     "metadata": {},
     "output_type": "execute_result"
    }
   ],
   "source": [
    "svm_model_lsa_poly = svm.SVC(kernel='poly', gamma=1, probability=True)\n",
    "svm_model_lsa_poly.fit(sem_matrix_train_2, y_train) "
   ]
  },
  {
   "cell_type": "code",
   "execution_count": 20,
   "metadata": {},
   "outputs": [
    {
     "data": {
      "text/plain": [
       "SVC(C=1.0, cache_size=200, class_weight=None, coef0=0.0,\n",
       "  decision_function_shape='ovr', degree=3, gamma=1, kernel='rbf',\n",
       "  max_iter=-1, probability=True, random_state=None, shrinking=True,\n",
       "  tol=0.001, verbose=False)"
      ]
     },
     "execution_count": 20,
     "metadata": {},
     "output_type": "execute_result"
    }
   ],
   "source": [
    "svm_model_lsa_rbf = svm.SVC(kernel='rbf', gamma=1, probability=True)\n",
    "svm_model_lsa_rbf.fit(sem_matrix_train_2, y_train)"
   ]
  },
  {
   "cell_type": "code",
   "execution_count": 21,
   "metadata": {},
   "outputs": [
    {
     "data": {
      "text/plain": [
       "SVC(C=1.0, cache_size=200, class_weight=None, coef0=0.0,\n",
       "  decision_function_shape='ovr', degree=3, gamma=1, kernel='sigmoid',\n",
       "  max_iter=-1, probability=True, random_state=None, shrinking=True,\n",
       "  tol=0.001, verbose=False)"
      ]
     },
     "execution_count": 21,
     "metadata": {},
     "output_type": "execute_result"
    }
   ],
   "source": [
    "svm_model_lsa_sigmoid = svm.SVC(kernel='sigmoid', gamma=1, probability=True)\n",
    "svm_model_lsa_sigmoid.fit(sem_matrix_train_2, y_train) "
   ]
  },
  {
   "cell_type": "code",
   "execution_count": 27,
   "metadata": {},
   "outputs": [],
   "source": [
    "lsa_value_linear = svm_model_lsa_linear.decision_function(sem_matrix_test_2)\n",
    "lsa_value_poly = svm_model_lsa_poly.decision_function(sem_matrix_test_2)\n",
    "lsa_value_rbf = svm_model_lsa_rbf.decision_function(sem_matrix_test_2)\n",
    "lsa_value_sigmoid = svm_model_lsa_sigmoid.decision_function(sem_matrix_test_2)\n",
    "\n",
    "lsa_predict_linear = svm_model_lsa_linear.predict(sem_matrix_test_2)\n",
    "lsa_predict_poly = svm_model_lsa_poly.predict(sem_matrix_test_2)\n",
    "lsa_predict_rbf = svm_model_lsa_rbf.predict(sem_matrix_test_2)\n",
    "lsa_predict_sigmoid = svm_model_lsa_sigmoid.predict(sem_matrix_test_2)"
   ]
  },
  {
   "cell_type": "code",
   "execution_count": 31,
   "metadata": {},
   "outputs": [
    {
     "name": "stdout",
     "output_type": "stream",
     "text": [
      "=========================LINEAR KERNEL=========================\n",
      "              precision    recall  f1-score   support\n",
      "\n",
      "        -1.0       0.64      0.69      0.67       546\n",
      "         1.0       0.63      0.57      0.60       493\n",
      "\n",
      "   micro avg       0.64      0.64      0.64      1039\n",
      "   macro avg       0.64      0.63      0.63      1039\n",
      "weighted avg       0.64      0.64      0.63      1039\n",
      "\n",
      "akurasi :  0.6361886429258903\n",
      "=========================POLINOMIAL KERNEL=========================\n",
      "              precision    recall  f1-score   support\n",
      "\n",
      "        -1.0       0.64      0.69      0.67       546\n",
      "         1.0       0.63      0.57      0.60       493\n",
      "\n",
      "   micro avg       0.64      0.64      0.64      1039\n",
      "   macro avg       0.64      0.63      0.63      1039\n",
      "weighted avg       0.64      0.64      0.63      1039\n",
      "\n",
      "akurasi :  0.643888354186718\n",
      "=========================RBF KERNEL=========================\n",
      "              precision    recall  f1-score   support\n",
      "\n",
      "        -1.0       0.64      0.69      0.67       546\n",
      "         1.0       0.63      0.57      0.60       493\n",
      "\n",
      "   micro avg       0.64      0.64      0.64      1039\n",
      "   macro avg       0.64      0.63      0.63      1039\n",
      "weighted avg       0.64      0.64      0.63      1039\n",
      "\n",
      "akurasi :  0.6410009624639076\n",
      "=========================SIGMOID KERNEL=========================\n",
      "              precision    recall  f1-score   support\n",
      "\n",
      "        -1.0       0.64      0.69      0.67       546\n",
      "         1.0       0.63      0.57      0.60       493\n",
      "\n",
      "   micro avg       0.64      0.64      0.64      1039\n",
      "   macro avg       0.64      0.63      0.63      1039\n",
      "weighted avg       0.64      0.64      0.63      1039\n",
      "\n",
      "akurasi :  0.5976900866217517\n"
     ]
    }
   ],
   "source": [
    "from sklearn import metrics \n",
    "from sklearn.metrics import classification_report, confusion_matrix\n",
    "import itertools\n",
    "\n",
    "acc_lin = metrics.accuracy_score(y_test, lsa_predict_linear)\n",
    "acc_pol = metrics.accuracy_score(y_test, lsa_predict_poly)\n",
    "acc_rbf = metrics.accuracy_score(y_test, lsa_predict_rbf)\n",
    "acc_sig = metrics.accuracy_score(y_test, lsa_predict_sigmoid)\n",
    "\n",
    "print(\"=========================LINEAR KERNEL=========================\")\n",
    "print (classification_report(y_test, lsa_predict_linear))\n",
    "print(\"akurasi : \", acc_lin)\n",
    "\n",
    "\n",
    "print(\"=========================POLINOMIAL KERNEL=========================\")\n",
    "print (classification_report(y_test, lsa_predict_linear))\n",
    "print(\"akurasi : \", acc_pol)\n",
    "\n",
    "print(\"=========================RBF KERNEL=========================\")\n",
    "print (classification_report(y_test, lsa_predict_linear))\n",
    "print(\"akurasi : \", acc_rbf)\n",
    "\n",
    "print(\"=========================SIGMOID KERNEL=========================\")\n",
    "print (classification_report(y_test, lsa_predict_linear))\n",
    "print(\"akurasi : \", acc_sig)"
   ]
  }
 ],
 "metadata": {
  "kernelspec": {
   "display_name": "Python 3",
   "language": "python",
   "name": "python3"
  },
  "language_info": {
   "codemirror_mode": {
    "name": "ipython",
    "version": 3
   },
   "file_extension": ".py",
   "mimetype": "text/x-python",
   "name": "python",
   "nbconvert_exporter": "python",
   "pygments_lexer": "ipython3",
   "version": "3.7.3"
  }
 },
 "nbformat": 4,
 "nbformat_minor": 2
}
