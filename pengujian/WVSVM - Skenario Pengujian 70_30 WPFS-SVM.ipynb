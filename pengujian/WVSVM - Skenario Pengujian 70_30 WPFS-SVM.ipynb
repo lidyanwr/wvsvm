{
 "cells": [
  {
   "cell_type": "code",
   "execution_count": 1,
   "metadata": {},
   "outputs": [],
   "source": [
    "import pandas as pd\n",
    "from bs4 import BeautifulSoup\n",
    "import re\n",
    "import nltk \n",
    "import string \n",
    "import sys\n",
    "import numpy as np\n",
    "import linalg\n",
    "from sklearn import preprocessing\n",
    "from sklearn.decomposition import TruncatedSVD"
   ]
  },
  {
   "cell_type": "code",
   "execution_count": 2,
   "metadata": {},
   "outputs": [],
   "source": [
    "from sklearn.feature_extraction.text import TfidfVectorizer\n",
    "from sklearn.feature_extraction.text import CountVectorizer\n",
    "from sklearn.pipeline import make_pipeline\n",
    "from sklearn.preprocessing import Normalizer"
   ]
  },
  {
   "cell_type": "code",
   "execution_count": 3,
   "metadata": {},
   "outputs": [
    {
     "data": {
      "text/plain": [
       "(5195, 11)"
      ]
     },
     "execution_count": 3,
     "metadata": {},
     "output_type": "execute_result"
    }
   ],
   "source": [
    "all_data = pd.read_csv(\"DataReady.csv\")\n",
    "all_data.shape"
   ]
  },
  {
   "cell_type": "code",
   "execution_count": 4,
   "metadata": {},
   "outputs": [
    {
     "data": {
      "text/html": [
       "<div>\n",
       "<style scoped>\n",
       "    .dataframe tbody tr th:only-of-type {\n",
       "        vertical-align: middle;\n",
       "    }\n",
       "\n",
       "    .dataframe tbody tr th {\n",
       "        vertical-align: top;\n",
       "    }\n",
       "\n",
       "    .dataframe thead th {\n",
       "        text-align: right;\n",
       "    }\n",
       "</style>\n",
       "<table border=\"1\" class=\"dataframe\">\n",
       "  <thead>\n",
       "    <tr style=\"text-align: right;\">\n",
       "      <th></th>\n",
       "      <th>Link</th>\n",
       "      <th>Data</th>\n",
       "      <th>Category</th>\n",
       "      <th>CategoryIndex</th>\n",
       "      <th>Keyword</th>\n",
       "      <th>VarKeyword</th>\n",
       "      <th>TotalFreqKeyword</th>\n",
       "      <th>TotalWord</th>\n",
       "      <th>TermRatio</th>\n",
       "      <th>interval</th>\n",
       "      <th>AVGInterval</th>\n",
       "    </tr>\n",
       "  </thead>\n",
       "  <tbody>\n",
       "    <tr>\n",
       "      <th>1978</th>\n",
       "      <td>http://www.bobpark.org/</td>\n",
       "      <td>bob park sunday sunday albert dead physicist d...</td>\n",
       "      <td>General</td>\n",
       "      <td>-1.0</td>\n",
       "      <td>['tree', 'page', 'free', 'science', 'river', '...</td>\n",
       "      <td>271</td>\n",
       "      <td>1695</td>\n",
       "      <td>2750</td>\n",
       "      <td>0.616364</td>\n",
       "      <td>1899</td>\n",
       "      <td>1.0</td>\n",
       "    </tr>\n",
       "    <tr>\n",
       "      <th>1815</th>\n",
       "      <td>http://www.carsandracingstuff.com/library/lang...</td>\n",
       "      <td>automobile decode crittenden automotive librar...</td>\n",
       "      <td>General</td>\n",
       "      <td>-1.0</td>\n",
       "      <td>['color', 'page', 'activity', 'action', 'river...</td>\n",
       "      <td>711</td>\n",
       "      <td>4381</td>\n",
       "      <td>9716</td>\n",
       "      <td>0.450906</td>\n",
       "      <td>1709</td>\n",
       "      <td>0.0</td>\n",
       "    </tr>\n",
       "    <tr>\n",
       "      <th>2113</th>\n",
       "      <td>http://grandmasfudgefactory.com/</td>\n",
       "      <td>handmade fudge online virginia city grandma fu...</td>\n",
       "      <td>General</td>\n",
       "      <td>-1.0</td>\n",
       "      <td>['online', 'call', 'north', 'information', 'gr...</td>\n",
       "      <td>21</td>\n",
       "      <td>25</td>\n",
       "      <td>39</td>\n",
       "      <td>0.641026</td>\n",
       "      <td>1183</td>\n",
       "      <td>47.0</td>\n",
       "    </tr>\n",
       "    <tr>\n",
       "      <th>4645</th>\n",
       "      <td>http://www.hort.purdue.edu/ext/senior/flowers/...</td>\n",
       "      <td>plant pal ornamental flower indoor plant fruit...</td>\n",
       "      <td>Kids</td>\n",
       "      <td>1.0</td>\n",
       "      <td>['flower', 'glossary', 'vegetable', 'fruit', '...</td>\n",
       "      <td>11</td>\n",
       "      <td>12</td>\n",
       "      <td>14</td>\n",
       "      <td>0.857143</td>\n",
       "      <td>254</td>\n",
       "      <td>21.0</td>\n",
       "    </tr>\n",
       "    <tr>\n",
       "      <th>2715</th>\n",
       "      <td>http://coloringpagekids.com/</td>\n",
       "      <td>error page display contact service provider de...</td>\n",
       "      <td>Kids</td>\n",
       "      <td>1.0</td>\n",
       "      <td>['page', 'detail', 'service', 'provider', 'con...</td>\n",
       "      <td>6</td>\n",
       "      <td>6</td>\n",
       "      <td>7</td>\n",
       "      <td>0.857143</td>\n",
       "      <td>1579</td>\n",
       "      <td>263.0</td>\n",
       "    </tr>\n",
       "    <tr>\n",
       "      <th>2199</th>\n",
       "      <td>http://www.holidayprojectors.com/</td>\n",
       "      <td>holiday projector christmas halloween holiday ...</td>\n",
       "      <td>General</td>\n",
       "      <td>-1.0</td>\n",
       "      <td>['tree', 'christmas', 'color', 'free', 'easter...</td>\n",
       "      <td>73</td>\n",
       "      <td>175</td>\n",
       "      <td>223</td>\n",
       "      <td>0.784753</td>\n",
       "      <td>1567</td>\n",
       "      <td>9.0</td>\n",
       "    </tr>\n",
       "    <tr>\n",
       "      <th>3963</th>\n",
       "      <td>http://extension.illinois.edu/trees2/</td>\n",
       "      <td>explore secret life tree espa site require fla...</td>\n",
       "      <td>Kids</td>\n",
       "      <td>1.0</td>\n",
       "      <td>['tree', 'site', 'life', 'flash', 'secret', 'e...</td>\n",
       "      <td>8</td>\n",
       "      <td>8</td>\n",
       "      <td>9</td>\n",
       "      <td>0.888889</td>\n",
       "      <td>1550</td>\n",
       "      <td>194.0</td>\n",
       "    </tr>\n",
       "    <tr>\n",
       "      <th>1190</th>\n",
       "      <td>http://www.screwedcentral.com/</td>\n",
       "      <td>screw central place resource respond bad illeg...</td>\n",
       "      <td>General</td>\n",
       "      <td>-1.0</td>\n",
       "      <td>['action', 'site', 'online', 'web', 'money', '...</td>\n",
       "      <td>61</td>\n",
       "      <td>82</td>\n",
       "      <td>119</td>\n",
       "      <td>0.689076</td>\n",
       "      <td>2429</td>\n",
       "      <td>30.0</td>\n",
       "    </tr>\n",
       "    <tr>\n",
       "      <th>634</th>\n",
       "      <td>http://www.voicebrook.com/</td>\n",
       "      <td>create accurate pathology report time money te...</td>\n",
       "      <td>General</td>\n",
       "      <td>-1.0</td>\n",
       "      <td>['word', 'money', 'core', 'hand', 'canada', 'n...</td>\n",
       "      <td>63</td>\n",
       "      <td>91</td>\n",
       "      <td>153</td>\n",
       "      <td>0.594771</td>\n",
       "      <td>2437</td>\n",
       "      <td>27.0</td>\n",
       "    </tr>\n",
       "    <tr>\n",
       "      <th>2922</th>\n",
       "      <td>http://www.abc.net.au/abcforkids/</td>\n",
       "      <td>abc kid skip main content abc home open site m...</td>\n",
       "      <td>Kids</td>\n",
       "      <td>1.0</td>\n",
       "      <td>['free', 'music', 'science', 'kid', 'site', 'g...</td>\n",
       "      <td>107</td>\n",
       "      <td>231</td>\n",
       "      <td>293</td>\n",
       "      <td>0.788396</td>\n",
       "      <td>1372</td>\n",
       "      <td>6.0</td>\n",
       "    </tr>\n",
       "  </tbody>\n",
       "</table>\n",
       "</div>"
      ],
      "text/plain": [
       "                                                   Link  \\\n",
       "1978                            http://www.bobpark.org/   \n",
       "1815  http://www.carsandracingstuff.com/library/lang...   \n",
       "2113                   http://grandmasfudgefactory.com/   \n",
       "4645  http://www.hort.purdue.edu/ext/senior/flowers/...   \n",
       "2715                       http://coloringpagekids.com/   \n",
       "2199                  http://www.holidayprojectors.com/   \n",
       "3963              http://extension.illinois.edu/trees2/   \n",
       "1190                     http://www.screwedcentral.com/   \n",
       "634                          http://www.voicebrook.com/   \n",
       "2922                  http://www.abc.net.au/abcforkids/   \n",
       "\n",
       "                                                   Data Category  \\\n",
       "1978  bob park sunday sunday albert dead physicist d...  General   \n",
       "1815  automobile decode crittenden automotive librar...  General   \n",
       "2113  handmade fudge online virginia city grandma fu...  General   \n",
       "4645  plant pal ornamental flower indoor plant fruit...     Kids   \n",
       "2715  error page display contact service provider de...     Kids   \n",
       "2199  holiday projector christmas halloween holiday ...  General   \n",
       "3963  explore secret life tree espa site require fla...     Kids   \n",
       "1190  screw central place resource respond bad illeg...  General   \n",
       "634   create accurate pathology report time money te...  General   \n",
       "2922  abc kid skip main content abc home open site m...     Kids   \n",
       "\n",
       "      CategoryIndex                                            Keyword  \\\n",
       "1978           -1.0  ['tree', 'page', 'free', 'science', 'river', '...   \n",
       "1815           -1.0  ['color', 'page', 'activity', 'action', 'river...   \n",
       "2113           -1.0  ['online', 'call', 'north', 'information', 'gr...   \n",
       "4645            1.0  ['flower', 'glossary', 'vegetable', 'fruit', '...   \n",
       "2715            1.0  ['page', 'detail', 'service', 'provider', 'con...   \n",
       "2199           -1.0  ['tree', 'christmas', 'color', 'free', 'easter...   \n",
       "3963            1.0  ['tree', 'site', 'life', 'flash', 'secret', 'e...   \n",
       "1190           -1.0  ['action', 'site', 'online', 'web', 'money', '...   \n",
       "634            -1.0  ['word', 'money', 'core', 'hand', 'canada', 'n...   \n",
       "2922            1.0  ['free', 'music', 'science', 'kid', 'site', 'g...   \n",
       "\n",
       "      VarKeyword  TotalFreqKeyword  TotalWord  TermRatio  interval  \\\n",
       "1978         271              1695       2750   0.616364      1899   \n",
       "1815         711              4381       9716   0.450906      1709   \n",
       "2113          21                25         39   0.641026      1183   \n",
       "4645          11                12         14   0.857143       254   \n",
       "2715           6                 6          7   0.857143      1579   \n",
       "2199          73               175        223   0.784753      1567   \n",
       "3963           8                 8          9   0.888889      1550   \n",
       "1190          61                82        119   0.689076      2429   \n",
       "634           63                91        153   0.594771      2437   \n",
       "2922         107               231        293   0.788396      1372   \n",
       "\n",
       "      AVGInterval  \n",
       "1978          1.0  \n",
       "1815          0.0  \n",
       "2113         47.0  \n",
       "4645         21.0  \n",
       "2715        263.0  \n",
       "2199          9.0  \n",
       "3963        194.0  \n",
       "1190         30.0  \n",
       "634          27.0  \n",
       "2922          6.0  "
      ]
     },
     "execution_count": 4,
     "metadata": {},
     "output_type": "execute_result"
    }
   ],
   "source": [
    "all_data.sample(10)"
   ]
  },
  {
   "cell_type": "code",
   "execution_count": 5,
   "metadata": {},
   "outputs": [
    {
     "data": {
      "text/plain": [
       "Link                 0\n",
       "Data                 0\n",
       "Category             0\n",
       "CategoryIndex        0\n",
       "Keyword              0\n",
       "VarKeyword           0\n",
       "TotalFreqKeyword     0\n",
       "TotalWord            0\n",
       "TermRatio            0\n",
       "interval             0\n",
       "AVGInterval         48\n",
       "dtype: int64"
      ]
     },
     "execution_count": 5,
     "metadata": {},
     "output_type": "execute_result"
    }
   ],
   "source": [
    "all_data.isnull().sum()"
   ]
  },
  {
   "cell_type": "code",
   "execution_count": 6,
   "metadata": {},
   "outputs": [
    {
     "data": {
      "text/plain": [
       "Link                0\n",
       "Data                0\n",
       "Category            0\n",
       "CategoryIndex       0\n",
       "Keyword             0\n",
       "VarKeyword          0\n",
       "TotalFreqKeyword    0\n",
       "TotalWord           0\n",
       "TermRatio           0\n",
       "interval            0\n",
       "AVGInterval         0\n",
       "dtype: int64"
      ]
     },
     "execution_count": 6,
     "metadata": {},
     "output_type": "execute_result"
    }
   ],
   "source": [
    "clean_data = all_data\n",
    "clean_data[\"AVGInterval\"] = clean_data['AVGInterval'].replace(np.nan, 0)\n",
    "clean_data.isnull().sum()"
   ]
  },
  {
   "cell_type": "code",
   "execution_count": 7,
   "metadata": {},
   "outputs": [
    {
     "data": {
      "text/html": [
       "<div>\n",
       "<style scoped>\n",
       "    .dataframe tbody tr th:only-of-type {\n",
       "        vertical-align: middle;\n",
       "    }\n",
       "\n",
       "    .dataframe tbody tr th {\n",
       "        vertical-align: top;\n",
       "    }\n",
       "\n",
       "    .dataframe thead th {\n",
       "        text-align: right;\n",
       "    }\n",
       "</style>\n",
       "<table border=\"1\" class=\"dataframe\">\n",
       "  <thead>\n",
       "    <tr style=\"text-align: right;\">\n",
       "      <th></th>\n",
       "      <th>Link</th>\n",
       "      <th>Data</th>\n",
       "      <th>Category</th>\n",
       "      <th>CategoryIndex</th>\n",
       "      <th>Keyword</th>\n",
       "      <th>VarKeyword</th>\n",
       "      <th>TotalFreqKeyword</th>\n",
       "      <th>TotalWord</th>\n",
       "      <th>TermRatio</th>\n",
       "      <th>interval</th>\n",
       "      <th>AVGInterval</th>\n",
       "    </tr>\n",
       "  </thead>\n",
       "  <tbody>\n",
       "    <tr>\n",
       "      <th>0</th>\n",
       "      <td>http://benjah.free.fr/</td>\n",
       "      <td>benjah free rvb notv contrat creative common</td>\n",
       "      <td>General</td>\n",
       "      <td>-1.0</td>\n",
       "      <td>['free', 'creative', 'common']</td>\n",
       "      <td>3</td>\n",
       "      <td>3</td>\n",
       "      <td>7</td>\n",
       "      <td>0.428571</td>\n",
       "      <td>1598</td>\n",
       "      <td>533.0</td>\n",
       "    </tr>\n",
       "    <tr>\n",
       "      <th>1</th>\n",
       "      <td>http://www.paaw.com/</td>\n",
       "      <td>perform art artist worldwide perform art artis...</td>\n",
       "      <td>General</td>\n",
       "      <td>-1.0</td>\n",
       "      <td>['site', 'production', 'web', 'project', 'read...</td>\n",
       "      <td>80</td>\n",
       "      <td>144</td>\n",
       "      <td>188</td>\n",
       "      <td>0.765957</td>\n",
       "      <td>1568</td>\n",
       "      <td>11.0</td>\n",
       "    </tr>\n",
       "    <tr>\n",
       "      <th>2</th>\n",
       "      <td>http://vlib.org/Humanities</td>\n",
       "      <td>humanity humanistic study virtual library huma...</td>\n",
       "      <td>General</td>\n",
       "      <td>-1.0</td>\n",
       "      <td>['page', 'science', 'online', 'high', 'type', ...</td>\n",
       "      <td>60</td>\n",
       "      <td>145</td>\n",
       "      <td>219</td>\n",
       "      <td>0.662100</td>\n",
       "      <td>2063</td>\n",
       "      <td>14.0</td>\n",
       "    </tr>\n",
       "    <tr>\n",
       "      <th>3</th>\n",
       "      <td>http://www.berzowska.com/xy/index.html</td>\n",
       "      <td>computational expressionism</td>\n",
       "      <td>General</td>\n",
       "      <td>-1.0</td>\n",
       "      <td>['expressionism']</td>\n",
       "      <td>1</td>\n",
       "      <td>1</td>\n",
       "      <td>2</td>\n",
       "      <td>0.500000</td>\n",
       "      <td>0</td>\n",
       "      <td>0.0</td>\n",
       "    </tr>\n",
       "    <tr>\n",
       "      <th>4</th>\n",
       "      <td>http://www.chronotext.org/</td>\n",
       "      <td>chronotext org chronotext grow collection soft...</td>\n",
       "      <td>General</td>\n",
       "      <td>-1.0</td>\n",
       "      <td>['tree', 'word', 'poem', 'music', 'site', 'gam...</td>\n",
       "      <td>256</td>\n",
       "      <td>476</td>\n",
       "      <td>677</td>\n",
       "      <td>0.703102</td>\n",
       "      <td>1608</td>\n",
       "      <td>3.0</td>\n",
       "    </tr>\n",
       "  </tbody>\n",
       "</table>\n",
       "</div>"
      ],
      "text/plain": [
       "                                     Link  \\\n",
       "0                  http://benjah.free.fr/   \n",
       "1                    http://www.paaw.com/   \n",
       "2              http://vlib.org/Humanities   \n",
       "3  http://www.berzowska.com/xy/index.html   \n",
       "4              http://www.chronotext.org/   \n",
       "\n",
       "                                                Data Category  CategoryIndex  \\\n",
       "0       benjah free rvb notv contrat creative common  General           -1.0   \n",
       "1  perform art artist worldwide perform art artis...  General           -1.0   \n",
       "2  humanity humanistic study virtual library huma...  General           -1.0   \n",
       "3                        computational expressionism  General           -1.0   \n",
       "4  chronotext org chronotext grow collection soft...  General           -1.0   \n",
       "\n",
       "                                             Keyword  VarKeyword  \\\n",
       "0                     ['free', 'creative', 'common']           3   \n",
       "1  ['site', 'production', 'web', 'project', 'read...          80   \n",
       "2  ['page', 'science', 'online', 'high', 'type', ...          60   \n",
       "3                                  ['expressionism']           1   \n",
       "4  ['tree', 'word', 'poem', 'music', 'site', 'gam...         256   \n",
       "\n",
       "   TotalFreqKeyword  TotalWord  TermRatio  interval  AVGInterval  \n",
       "0                 3          7   0.428571      1598        533.0  \n",
       "1               144        188   0.765957      1568         11.0  \n",
       "2               145        219   0.662100      2063         14.0  \n",
       "3                 1          2   0.500000         0          0.0  \n",
       "4               476        677   0.703102      1608          3.0  "
      ]
     },
     "execution_count": 7,
     "metadata": {},
     "output_type": "execute_result"
    }
   ],
   "source": [
    "clean_data.head(5)"
   ]
  },
  {
   "cell_type": "code",
   "execution_count": 8,
   "metadata": {},
   "outputs": [
    {
     "data": {
      "text/plain": [
       "General    2684\n",
       "Kids       2511\n",
       "Name: Category, dtype: int64"
      ]
     },
     "execution_count": 8,
     "metadata": {},
     "output_type": "execute_result"
    }
   ],
   "source": [
    "clean_data['Category'].value_counts()"
   ]
  },
  {
   "cell_type": "code",
   "execution_count": 9,
   "metadata": {},
   "outputs": [
    {
     "data": {
      "text/plain": [
       "((5195, 5), (5195,))"
      ]
     },
     "execution_count": 9,
     "metadata": {},
     "output_type": "execute_result"
    }
   ],
   "source": [
    "# MEMBUAT DATA FRAME DENGAN ISI KOLOM YANG DIGUNAKAN SAJAA\n",
    "x_data = clean_data[[\"Data\", \"TotalFreqKeyword\", \"TotalWord\", \"TermRatio\", \"AVGInterval\"]]\n",
    "y_data = clean_data[\"CategoryIndex\"]\n",
    "x_data.shape, y_data.shape"
   ]
  },
  {
   "cell_type": "code",
   "execution_count": 10,
   "metadata": {},
   "outputs": [
    {
     "name": "stdout",
     "output_type": "stream",
     "text": [
      "(3636, 5) (3636,)\n",
      "(1559, 5) (1559,)\n"
     ]
    }
   ],
   "source": [
    "from sklearn.model_selection import train_test_split\n",
    "x_train, x_test, y_train, y_test = train_test_split(x_data, y_data, test_size=0.3, random_state=3)\n",
    "\n",
    "print (x_train.shape , y_train.shape)\n",
    "print (x_test.shape, y_test.shape)"
   ]
  },
  {
   "cell_type": "code",
   "execution_count": 11,
   "metadata": {},
   "outputs": [
    {
     "data": {
      "text/html": [
       "<div>\n",
       "<style scoped>\n",
       "    .dataframe tbody tr th:only-of-type {\n",
       "        vertical-align: middle;\n",
       "    }\n",
       "\n",
       "    .dataframe tbody tr th {\n",
       "        vertical-align: top;\n",
       "    }\n",
       "\n",
       "    .dataframe thead th {\n",
       "        text-align: right;\n",
       "    }\n",
       "</style>\n",
       "<table border=\"1\" class=\"dataframe\">\n",
       "  <thead>\n",
       "    <tr style=\"text-align: right;\">\n",
       "      <th></th>\n",
       "      <th>Data</th>\n",
       "      <th>TotalFreqKeyword</th>\n",
       "      <th>TotalWord</th>\n",
       "      <th>TermRatio</th>\n",
       "      <th>AVGInterval</th>\n",
       "    </tr>\n",
       "  </thead>\n",
       "  <tbody>\n",
       "    <tr>\n",
       "      <th>4537</th>\n",
       "      <td>dance gymnastics athens sweetwater niota inspi...</td>\n",
       "      <td>26</td>\n",
       "      <td>39</td>\n",
       "      <td>0.666667</td>\n",
       "      <td>42.0</td>\n",
       "    </tr>\n",
       "    <tr>\n",
       "      <th>4585</th>\n",
       "      <td>midwestern year ago late pleistocene landscape...</td>\n",
       "      <td>133</td>\n",
       "      <td>193</td>\n",
       "      <td>0.689119</td>\n",
       "      <td>11.0</td>\n",
       "    </tr>\n",
       "    <tr>\n",
       "      <th>4906</th>\n",
       "      <td>chronology history english word english public...</td>\n",
       "      <td>842</td>\n",
       "      <td>1271</td>\n",
       "      <td>0.662470</td>\n",
       "      <td>2.0</td>\n",
       "    </tr>\n",
       "    <tr>\n",
       "      <th>1020</th>\n",
       "      <td>pharmilink healthcare market service fran phys...</td>\n",
       "      <td>297</td>\n",
       "      <td>440</td>\n",
       "      <td>0.675000</td>\n",
       "      <td>7.0</td>\n",
       "    </tr>\n",
       "    <tr>\n",
       "      <th>4982</th>\n",
       "      <td>neferchichi tomb information activity ancient ...</td>\n",
       "      <td>13</td>\n",
       "      <td>35</td>\n",
       "      <td>0.371429</td>\n",
       "      <td>91.0</td>\n",
       "    </tr>\n",
       "    <tr>\n",
       "      <th>2906</th>\n",
       "      <td>briana playroom girl make sugar spice nice gir...</td>\n",
       "      <td>129</td>\n",
       "      <td>160</td>\n",
       "      <td>0.806250</td>\n",
       "      <td>16.0</td>\n",
       "    </tr>\n",
       "    <tr>\n",
       "      <th>82</th>\n",
       "      <td>corinth computer project introduction methodol...</td>\n",
       "      <td>16</td>\n",
       "      <td>24</td>\n",
       "      <td>0.666667</td>\n",
       "      <td>121.0</td>\n",
       "    </tr>\n",
       "    <tr>\n",
       "      <th>2881</th>\n",
       "      <td>admission month senior ebt card cheshirechildr...</td>\n",
       "      <td>161</td>\n",
       "      <td>240</td>\n",
       "      <td>0.670833</td>\n",
       "      <td>11.0</td>\n",
       "    </tr>\n",
       "    <tr>\n",
       "      <th>543</th>\n",
       "      <td>freebsd copyright skip site navigation skip se...</td>\n",
       "      <td>135</td>\n",
       "      <td>211</td>\n",
       "      <td>0.639810</td>\n",
       "      <td>18.0</td>\n",
       "    </tr>\n",
       "    <tr>\n",
       "      <th>1104</th>\n",
       "      <td>usa gov subscription page usa gov loyal visito...</td>\n",
       "      <td>88</td>\n",
       "      <td>99</td>\n",
       "      <td>0.888889</td>\n",
       "      <td>27.0</td>\n",
       "    </tr>\n",
       "  </tbody>\n",
       "</table>\n",
       "</div>"
      ],
      "text/plain": [
       "                                                   Data  TotalFreqKeyword  \\\n",
       "4537  dance gymnastics athens sweetwater niota inspi...                26   \n",
       "4585  midwestern year ago late pleistocene landscape...               133   \n",
       "4906  chronology history english word english public...               842   \n",
       "1020  pharmilink healthcare market service fran phys...               297   \n",
       "4982  neferchichi tomb information activity ancient ...                13   \n",
       "2906  briana playroom girl make sugar spice nice gir...               129   \n",
       "82    corinth computer project introduction methodol...                16   \n",
       "2881  admission month senior ebt card cheshirechildr...               161   \n",
       "543   freebsd copyright skip site navigation skip se...               135   \n",
       "1104  usa gov subscription page usa gov loyal visito...                88   \n",
       "\n",
       "      TotalWord  TermRatio  AVGInterval  \n",
       "4537         39   0.666667         42.0  \n",
       "4585        193   0.689119         11.0  \n",
       "4906       1271   0.662470          2.0  \n",
       "1020        440   0.675000          7.0  \n",
       "4982         35   0.371429         91.0  \n",
       "2906        160   0.806250         16.0  \n",
       "82           24   0.666667        121.0  \n",
       "2881        240   0.670833         11.0  \n",
       "543         211   0.639810         18.0  \n",
       "1104         99   0.888889         27.0  "
      ]
     },
     "execution_count": 11,
     "metadata": {},
     "output_type": "execute_result"
    }
   ],
   "source": [
    "x_train.sample(10)"
   ]
  },
  {
   "cell_type": "code",
   "execution_count": 22,
   "metadata": {},
   "outputs": [
    {
     "name": "stdout",
     "output_type": "stream",
     "text": [
      "(3636, 4) (3636,)\n",
      "(1559, 4) (1559,)\n"
     ]
    },
    {
     "name": "stderr",
     "output_type": "stream",
     "text": [
      "C:\\Users\\User\\Anaconda3\\lib\\site-packages\\ipykernel_launcher.py:8: DataConversionWarning: Data with input dtype int64, float64 were all converted to float64 by the scale function.\n",
      "  \n",
      "C:\\Users\\User\\Anaconda3\\lib\\site-packages\\ipykernel_launcher.py:9: DataConversionWarning: Data with input dtype int64, float64 were all converted to float64 by the scale function.\n",
      "  if __name__ == '__main__':\n"
     ]
    }
   ],
   "source": [
    "# WEB PAGE FEATURE SELECTION\n",
    "\n",
    "x_train_wpfs = x_train[[\"TotalFreqKeyword\", \"TotalWord\", \"TermRatio\", \"AVGInterval\"]]\n",
    "y_train_wpfs = y_train\n",
    "x_test_wpfs = x_test[[\"TotalFreqKeyword\", \"TotalWord\", \"TermRatio\", \"AVGInterval\"]]\n",
    "y_test_wpfs = y_test\n",
    "\n",
    "x_train_wpfs = preprocessing.scale(x_train_wpfs)\n",
    "x_test_wpfs = preprocessing.scale(x_test_wpfs)\n",
    "\n",
    "print(x_train_wpfs.shape, y_train_wpfs.shape)\n",
    "print(x_test_wpfs.shape, y_test_wpfs.shape)"
   ]
  },
  {
   "cell_type": "code",
   "execution_count": 23,
   "metadata": {},
   "outputs": [
    {
     "data": {
      "text/plain": [
       "SVC(C=1.0, cache_size=200, class_weight=None, coef0=0.0,\n",
       "  decision_function_shape='ovr', degree=3, gamma=1, kernel='linear',\n",
       "  max_iter=-1, probability=True, random_state=None, shrinking=True,\n",
       "  tol=0.001, verbose=False)"
      ]
     },
     "execution_count": 23,
     "metadata": {},
     "output_type": "execute_result"
    }
   ],
   "source": [
    "svm_model_wpfs_linear = svm.SVC(kernel='linear', gamma=1, probability=True)\n",
    "svm_model_wpfs_linear.fit(x_train_wpfs, y_train) "
   ]
  },
  {
   "cell_type": "code",
   "execution_count": 24,
   "metadata": {},
   "outputs": [
    {
     "data": {
      "text/plain": [
       "SVC(C=1.0, cache_size=200, class_weight=None, coef0=0.0,\n",
       "  decision_function_shape='ovr', degree=3, gamma=1, kernel='poly',\n",
       "  max_iter=-1, probability=True, random_state=None, shrinking=True,\n",
       "  tol=0.001, verbose=False)"
      ]
     },
     "execution_count": 24,
     "metadata": {},
     "output_type": "execute_result"
    }
   ],
   "source": [
    "svm_model_wpfs_poly = svm.SVC(kernel='poly', gamma=1, probability=True)\n",
    "svm_model_wpfs_poly.fit(x_train_wpfs, y_train) "
   ]
  },
  {
   "cell_type": "code",
   "execution_count": 25,
   "metadata": {},
   "outputs": [
    {
     "data": {
      "text/plain": [
       "SVC(C=1.0, cache_size=200, class_weight=None, coef0=0.0,\n",
       "  decision_function_shape='ovr', degree=3, gamma=1, kernel='rbf',\n",
       "  max_iter=-1, probability=True, random_state=None, shrinking=True,\n",
       "  tol=0.001, verbose=False)"
      ]
     },
     "execution_count": 25,
     "metadata": {},
     "output_type": "execute_result"
    }
   ],
   "source": [
    "svm_model_wpfs_rbf = svm.SVC(kernel='rbf', gamma=1, probability=True)\n",
    "svm_model_wpfs_rbf.fit(x_train_wpfs, y_train) "
   ]
  },
  {
   "cell_type": "code",
   "execution_count": 26,
   "metadata": {},
   "outputs": [
    {
     "data": {
      "text/plain": [
       "SVC(C=1.0, cache_size=200, class_weight=None, coef0=0.0,\n",
       "  decision_function_shape='ovr', degree=3, gamma=1, kernel='sigmoid',\n",
       "  max_iter=-1, probability=True, random_state=None, shrinking=True,\n",
       "  tol=0.001, verbose=False)"
      ]
     },
     "execution_count": 26,
     "metadata": {},
     "output_type": "execute_result"
    }
   ],
   "source": [
    "svm_model_wpfs_sigmoid = svm.SVC(kernel='sigmoid', gamma=1, probability=True)\n",
    "svm_model_wpfs_sigmoid.fit(x_train_wpfs, y_train) "
   ]
  },
  {
   "cell_type": "code",
   "execution_count": 27,
   "metadata": {},
   "outputs": [],
   "source": [
    "wpfs_value_linear = svm_model_wpfs_linear.decision_function(x_test_wpfs)\n",
    "wpfs_value_poly = svm_model_wpfs_poly.decision_function(x_test_wpfs)\n",
    "wpfs_value_rbf = svm_model_wpfs_rbf.decision_function(x_test_wpfs)\n",
    "wpfs_value_sigmoid = svm_model_wpfs_sigmoid.decision_function(x_test_wpfs)\n",
    "\n",
    "wpfs_predict_linear = svm_model_wpfs_linear.predict(x_test_wpfs)\n",
    "wpfs_predict_poly = svm_model_wpfs_poly.predict(x_test_wpfs)\n",
    "wpfs_predict_rbf = svm_model_wpfs_rbf.predict(x_test_wpfs)\n",
    "wpfs_predict_sigmoid = svm_model_wpfs_sigmoid.predict(x_test_wpfs)"
   ]
  },
  {
   "cell_type": "code",
   "execution_count": 31,
   "metadata": {},
   "outputs": [
    {
     "name": "stdout",
     "output_type": "stream",
     "text": [
      "=========================LINEAR KERNEL=========================\n",
      "              precision    recall  f1-score   support\n",
      "\n",
      "        -1.0       0.72      0.69      0.71       820\n",
      "         1.0       0.67      0.71      0.69       739\n",
      "\n",
      "   micro avg       0.70      0.70      0.70      1559\n",
      "   macro avg       0.70      0.70      0.70      1559\n",
      "weighted avg       0.70      0.70      0.70      1559\n",
      "\n",
      "akurasi :  0.6991661321359846\n",
      "=========================POLINOMIAL KERNEL=========================\n",
      "              precision    recall  f1-score   support\n",
      "\n",
      "        -1.0       0.54      0.97      0.69       820\n",
      "         1.0       0.73      0.08      0.15       739\n",
      "\n",
      "   micro avg       0.55      0.55      0.55      1559\n",
      "   macro avg       0.64      0.53      0.42      1559\n",
      "weighted avg       0.63      0.55      0.44      1559\n",
      "\n",
      "akurasi :  0.5509942270686338\n",
      "=========================RBF KERNEL=========================\n",
      "              precision    recall  f1-score   support\n",
      "\n",
      "        -1.0       0.70      0.76      0.73       820\n",
      "         1.0       0.70      0.64      0.67       739\n",
      "\n",
      "   micro avg       0.70      0.70      0.70      1559\n",
      "   macro avg       0.70      0.70      0.70      1559\n",
      "weighted avg       0.70      0.70      0.70      1559\n",
      "\n",
      "akurasi :  0.7017318794098781\n",
      "=========================SIGMOID KERNEL=========================\n",
      "              precision    recall  f1-score   support\n",
      "\n",
      "        -1.0       0.55      0.55      0.55       820\n",
      "         1.0       0.50      0.50      0.50       739\n",
      "\n",
      "   micro avg       0.53      0.53      0.53      1559\n",
      "   macro avg       0.53      0.53      0.53      1559\n",
      "weighted avg       0.53      0.53      0.53      1559\n",
      "\n",
      "akurasi :  0.5266196279666453\n"
     ]
    }
   ],
   "source": [
    "from sklearn import metrics \n",
    "from sklearn.metrics import classification_report, confusion_matrix\n",
    "import itertools\n",
    "\n",
    "acc_lin = metrics.accuracy_score(y_test, wpfs_predict_linear)\n",
    "acc_pol = metrics.accuracy_score(y_test, wpfs_predict_poly)\n",
    "acc_rbf = metrics.accuracy_score(y_test, wpfs_predict_rbf)\n",
    "acc_sig = metrics.accuracy_score(y_test, wpfs_predict_sigmoid)\n",
    "\n",
    "print(\"=========================LINEAR KERNEL=========================\")\n",
    "print (classification_report(y_test, wpfs_predict_linear))\n",
    "print(\"akurasi : \", acc_lin)\n",
    "\n",
    "\n",
    "print(\"=========================POLINOMIAL KERNEL=========================\")\n",
    "print (classification_report(y_test, wpfs_predict_poly))\n",
    "print(\"akurasi : \", acc_pol)\n",
    "\n",
    "print(\"=========================RBF KERNEL=========================\")\n",
    "print (classification_report(y_test, wpfs_predict_rbf))\n",
    "print(\"akurasi : \", acc_rbf)\n",
    "\n",
    "print(\"=========================SIGMOID KERNEL=========================\")\n",
    "print (classification_report(y_test, wpfs_predict_sigmoid))\n",
    "print(\"akurasi : \", acc_sig)"
   ]
  },
  {
   "cell_type": "code",
   "execution_count": null,
   "metadata": {},
   "outputs": [],
   "source": []
  }
 ],
 "metadata": {
  "kernelspec": {
   "display_name": "Python 3",
   "language": "python",
   "name": "python3"
  },
  "language_info": {
   "codemirror_mode": {
    "name": "ipython",
    "version": 3
   },
   "file_extension": ".py",
   "mimetype": "text/x-python",
   "name": "python",
   "nbconvert_exporter": "python",
   "pygments_lexer": "ipython3",
   "version": "3.7.3"
  }
 },
 "nbformat": 4,
 "nbformat_minor": 2
}
