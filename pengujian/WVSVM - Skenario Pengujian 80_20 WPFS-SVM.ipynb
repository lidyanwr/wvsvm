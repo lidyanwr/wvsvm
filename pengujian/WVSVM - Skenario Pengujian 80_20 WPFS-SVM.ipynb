{
 "cells": [
  {
   "cell_type": "code",
   "execution_count": 1,
   "metadata": {},
   "outputs": [],
   "source": [
    "import pandas as pd\n",
    "from bs4 import BeautifulSoup\n",
    "import re\n",
    "import nltk \n",
    "import string \n",
    "import sys\n",
    "import numpy as np\n",
    "import linalg\n",
    "from sklearn import preprocessing\n",
    "from sklearn.decomposition import TruncatedSVD"
   ]
  },
  {
   "cell_type": "code",
   "execution_count": 2,
   "metadata": {},
   "outputs": [],
   "source": [
    "from sklearn.feature_extraction.text import TfidfVectorizer\n",
    "from sklearn.feature_extraction.text import CountVectorizer\n",
    "from sklearn.pipeline import make_pipeline\n",
    "from sklearn.preprocessing import Normalizer"
   ]
  },
  {
   "cell_type": "code",
   "execution_count": 3,
   "metadata": {},
   "outputs": [
    {
     "data": {
      "text/plain": [
       "(5195, 11)"
      ]
     },
     "execution_count": 3,
     "metadata": {},
     "output_type": "execute_result"
    }
   ],
   "source": [
    "all_data = pd.read_csv(\"DataReady.csv\")\n",
    "all_data.shape"
   ]
  },
  {
   "cell_type": "code",
   "execution_count": 4,
   "metadata": {},
   "outputs": [
    {
     "data": {
      "text/html": [
       "<div>\n",
       "<style scoped>\n",
       "    .dataframe tbody tr th:only-of-type {\n",
       "        vertical-align: middle;\n",
       "    }\n",
       "\n",
       "    .dataframe tbody tr th {\n",
       "        vertical-align: top;\n",
       "    }\n",
       "\n",
       "    .dataframe thead th {\n",
       "        text-align: right;\n",
       "    }\n",
       "</style>\n",
       "<table border=\"1\" class=\"dataframe\">\n",
       "  <thead>\n",
       "    <tr style=\"text-align: right;\">\n",
       "      <th></th>\n",
       "      <th>Link</th>\n",
       "      <th>Data</th>\n",
       "      <th>Category</th>\n",
       "      <th>CategoryIndex</th>\n",
       "      <th>Keyword</th>\n",
       "      <th>VarKeyword</th>\n",
       "      <th>TotalFreqKeyword</th>\n",
       "      <th>TotalWord</th>\n",
       "      <th>TermRatio</th>\n",
       "      <th>interval</th>\n",
       "      <th>AVGInterval</th>\n",
       "    </tr>\n",
       "  </thead>\n",
       "  <tbody>\n",
       "    <tr>\n",
       "      <th>2624</th>\n",
       "      <td>http://www.pcboard.com.pk/</td>\n",
       "      <td>pakistan cricket cricket website spot fix phen...</td>\n",
       "      <td>General</td>\n",
       "      <td>-1.0</td>\n",
       "      <td>['draw', 'game', 'story', 'read', 'lab', 'brin...</td>\n",
       "      <td>132</td>\n",
       "      <td>350</td>\n",
       "      <td>573</td>\n",
       "      <td>0.610820</td>\n",
       "      <td>2993</td>\n",
       "      <td>9.0</td>\n",
       "    </tr>\n",
       "    <tr>\n",
       "      <th>961</th>\n",
       "      <td>http://www.eadmfr.info/</td>\n",
       "      <td>skip content post admfrw read post admfrw read...</td>\n",
       "      <td>General</td>\n",
       "      <td>-1.0</td>\n",
       "      <td>['read', 'theme', 'power', 'skip', 'post', 'co...</td>\n",
       "      <td>6</td>\n",
       "      <td>18</td>\n",
       "      <td>29</td>\n",
       "      <td>0.620690</td>\n",
       "      <td>1554</td>\n",
       "      <td>86.0</td>\n",
       "    </tr>\n",
       "    <tr>\n",
       "      <th>330</th>\n",
       "      <td>http://www.lincoln.com/</td>\n",
       "      <td>american luxury crossover suv car lincoln amer...</td>\n",
       "      <td>General</td>\n",
       "      <td>-1.0</td>\n",
       "      <td>['learn', 'site', 'production', 'leaf', 'publi...</td>\n",
       "      <td>187</td>\n",
       "      <td>518</td>\n",
       "      <td>821</td>\n",
       "      <td>0.630938</td>\n",
       "      <td>1372</td>\n",
       "      <td>3.0</td>\n",
       "    </tr>\n",
       "    <tr>\n",
       "      <th>3528</th>\n",
       "      <td>http://eo.ucar.edu/webweather/tornado.html</td>\n",
       "      <td>tornado happen ucar center science education s...</td>\n",
       "      <td>Kids</td>\n",
       "      <td>1.0</td>\n",
       "      <td>['science', 'education', 'type', 'student', 'c...</td>\n",
       "      <td>98</td>\n",
       "      <td>161</td>\n",
       "      <td>197</td>\n",
       "      <td>0.817259</td>\n",
       "      <td>1368</td>\n",
       "      <td>8.0</td>\n",
       "    </tr>\n",
       "    <tr>\n",
       "      <th>4780</th>\n",
       "      <td>http://www.auburndanceacademy.com/</td>\n",
       "      <td>kid dance academy washington auburn dance acad...</td>\n",
       "      <td>Kids</td>\n",
       "      <td>1.0</td>\n",
       "      <td>['learn', 'parent', 'kid', 'teacher', 'product...</td>\n",
       "      <td>156</td>\n",
       "      <td>371</td>\n",
       "      <td>471</td>\n",
       "      <td>0.787686</td>\n",
       "      <td>1373</td>\n",
       "      <td>4.0</td>\n",
       "    </tr>\n",
       "    <tr>\n",
       "      <th>4643</th>\n",
       "      <td>http://www.boysandgirlsclubsofcalgary.ca/</td>\n",
       "      <td>boy girl club calgary boy girl club calgary ca...</td>\n",
       "      <td>Kids</td>\n",
       "      <td>1.0</td>\n",
       "      <td>['action', 'learn', 'parent', 'girl', 'kid', '...</td>\n",
       "      <td>104</td>\n",
       "      <td>208</td>\n",
       "      <td>404</td>\n",
       "      <td>0.514851</td>\n",
       "      <td>1808</td>\n",
       "      <td>9.0</td>\n",
       "    </tr>\n",
       "    <tr>\n",
       "      <th>960</th>\n",
       "      <td>http://www.drsgurr.com/</td>\n",
       "      <td>homepage doctor gurr doctor gurr serve mental ...</td>\n",
       "      <td>General</td>\n",
       "      <td>-1.0</td>\n",
       "      <td>['nursery', 'learn', 'parent', 'child', 'onlin...</td>\n",
       "      <td>94</td>\n",
       "      <td>140</td>\n",
       "      <td>222</td>\n",
       "      <td>0.630631</td>\n",
       "      <td>1273</td>\n",
       "      <td>9.0</td>\n",
       "    </tr>\n",
       "    <tr>\n",
       "      <th>1399</th>\n",
       "      <td>http://www.pilotgetaways.com/</td>\n",
       "      <td>pilot getaway adventure travel aviator pilot g...</td>\n",
       "      <td>General</td>\n",
       "      <td>-1.0</td>\n",
       "      <td>['learn', 'river', 'site', 'production', 'fun'...</td>\n",
       "      <td>148</td>\n",
       "      <td>243</td>\n",
       "      <td>347</td>\n",
       "      <td>0.700288</td>\n",
       "      <td>2134</td>\n",
       "      <td>9.0</td>\n",
       "    </tr>\n",
       "    <tr>\n",
       "      <th>2019</th>\n",
       "      <td>http://www.mbb.ki.se/</td>\n",
       "      <td>mercusuar technology cerita horor yang viral d...</td>\n",
       "      <td>General</td>\n",
       "      <td>-1.0</td>\n",
       "      <td>['sport', 'deal', 'health', 'entertainment', '...</td>\n",
       "      <td>20</td>\n",
       "      <td>46</td>\n",
       "      <td>207</td>\n",
       "      <td>0.222222</td>\n",
       "      <td>995</td>\n",
       "      <td>22.0</td>\n",
       "    </tr>\n",
       "    <tr>\n",
       "      <th>1779</th>\n",
       "      <td>http://www.madametussauds.com/</td>\n",
       "      <td>madame tussaud attraction official madame tuss...</td>\n",
       "      <td>General</td>\n",
       "      <td>-1.0</td>\n",
       "      <td>['york', 'entertainment', 'group', 'legal', 'f...</td>\n",
       "      <td>26</td>\n",
       "      <td>35</td>\n",
       "      <td>58</td>\n",
       "      <td>0.603448</td>\n",
       "      <td>1074</td>\n",
       "      <td>31.0</td>\n",
       "    </tr>\n",
       "  </tbody>\n",
       "</table>\n",
       "</div>"
      ],
      "text/plain": [
       "                                            Link  \\\n",
       "2624                  http://www.pcboard.com.pk/   \n",
       "961                      http://www.eadmfr.info/   \n",
       "330                      http://www.lincoln.com/   \n",
       "3528  http://eo.ucar.edu/webweather/tornado.html   \n",
       "4780          http://www.auburndanceacademy.com/   \n",
       "4643   http://www.boysandgirlsclubsofcalgary.ca/   \n",
       "960                      http://www.drsgurr.com/   \n",
       "1399               http://www.pilotgetaways.com/   \n",
       "2019                       http://www.mbb.ki.se/   \n",
       "1779              http://www.madametussauds.com/   \n",
       "\n",
       "                                                   Data Category  \\\n",
       "2624  pakistan cricket cricket website spot fix phen...  General   \n",
       "961   skip content post admfrw read post admfrw read...  General   \n",
       "330   american luxury crossover suv car lincoln amer...  General   \n",
       "3528  tornado happen ucar center science education s...     Kids   \n",
       "4780  kid dance academy washington auburn dance acad...     Kids   \n",
       "4643  boy girl club calgary boy girl club calgary ca...     Kids   \n",
       "960   homepage doctor gurr doctor gurr serve mental ...  General   \n",
       "1399  pilot getaway adventure travel aviator pilot g...  General   \n",
       "2019  mercusuar technology cerita horor yang viral d...  General   \n",
       "1779  madame tussaud attraction official madame tuss...  General   \n",
       "\n",
       "      CategoryIndex                                            Keyword  \\\n",
       "2624           -1.0  ['draw', 'game', 'story', 'read', 'lab', 'brin...   \n",
       "961            -1.0  ['read', 'theme', 'power', 'skip', 'post', 'co...   \n",
       "330            -1.0  ['learn', 'site', 'production', 'leaf', 'publi...   \n",
       "3528            1.0  ['science', 'education', 'type', 'student', 'c...   \n",
       "4780            1.0  ['learn', 'parent', 'kid', 'teacher', 'product...   \n",
       "4643            1.0  ['action', 'learn', 'parent', 'girl', 'kid', '...   \n",
       "960            -1.0  ['nursery', 'learn', 'parent', 'child', 'onlin...   \n",
       "1399           -1.0  ['learn', 'river', 'site', 'production', 'fun'...   \n",
       "2019           -1.0  ['sport', 'deal', 'health', 'entertainment', '...   \n",
       "1779           -1.0  ['york', 'entertainment', 'group', 'legal', 'f...   \n",
       "\n",
       "      VarKeyword  TotalFreqKeyword  TotalWord  TermRatio  interval  \\\n",
       "2624         132               350        573   0.610820      2993   \n",
       "961            6                18         29   0.620690      1554   \n",
       "330          187               518        821   0.630938      1372   \n",
       "3528          98               161        197   0.817259      1368   \n",
       "4780         156               371        471   0.787686      1373   \n",
       "4643         104               208        404   0.514851      1808   \n",
       "960           94               140        222   0.630631      1273   \n",
       "1399         148               243        347   0.700288      2134   \n",
       "2019          20                46        207   0.222222       995   \n",
       "1779          26                35         58   0.603448      1074   \n",
       "\n",
       "      AVGInterval  \n",
       "2624          9.0  \n",
       "961          86.0  \n",
       "330           3.0  \n",
       "3528          8.0  \n",
       "4780          4.0  \n",
       "4643          9.0  \n",
       "960           9.0  \n",
       "1399          9.0  \n",
       "2019         22.0  \n",
       "1779         31.0  "
      ]
     },
     "execution_count": 4,
     "metadata": {},
     "output_type": "execute_result"
    }
   ],
   "source": [
    "all_data.sample(10)"
   ]
  },
  {
   "cell_type": "code",
   "execution_count": 5,
   "metadata": {},
   "outputs": [
    {
     "data": {
      "text/plain": [
       "Link                 0\n",
       "Data                 0\n",
       "Category             0\n",
       "CategoryIndex        0\n",
       "Keyword              0\n",
       "VarKeyword           0\n",
       "TotalFreqKeyword     0\n",
       "TotalWord            0\n",
       "TermRatio            0\n",
       "interval             0\n",
       "AVGInterval         48\n",
       "dtype: int64"
      ]
     },
     "execution_count": 5,
     "metadata": {},
     "output_type": "execute_result"
    }
   ],
   "source": [
    "all_data.isnull().sum()"
   ]
  },
  {
   "cell_type": "code",
   "execution_count": 6,
   "metadata": {},
   "outputs": [
    {
     "data": {
      "text/plain": [
       "Link                0\n",
       "Data                0\n",
       "Category            0\n",
       "CategoryIndex       0\n",
       "Keyword             0\n",
       "VarKeyword          0\n",
       "TotalFreqKeyword    0\n",
       "TotalWord           0\n",
       "TermRatio           0\n",
       "interval            0\n",
       "AVGInterval         0\n",
       "dtype: int64"
      ]
     },
     "execution_count": 6,
     "metadata": {},
     "output_type": "execute_result"
    }
   ],
   "source": [
    "clean_data = all_data\n",
    "clean_data[\"AVGInterval\"] = clean_data['AVGInterval'].replace(np.nan, 0)\n",
    "clean_data.isnull().sum()"
   ]
  },
  {
   "cell_type": "code",
   "execution_count": 7,
   "metadata": {},
   "outputs": [
    {
     "data": {
      "text/html": [
       "<div>\n",
       "<style scoped>\n",
       "    .dataframe tbody tr th:only-of-type {\n",
       "        vertical-align: middle;\n",
       "    }\n",
       "\n",
       "    .dataframe tbody tr th {\n",
       "        vertical-align: top;\n",
       "    }\n",
       "\n",
       "    .dataframe thead th {\n",
       "        text-align: right;\n",
       "    }\n",
       "</style>\n",
       "<table border=\"1\" class=\"dataframe\">\n",
       "  <thead>\n",
       "    <tr style=\"text-align: right;\">\n",
       "      <th></th>\n",
       "      <th>Link</th>\n",
       "      <th>Data</th>\n",
       "      <th>Category</th>\n",
       "      <th>CategoryIndex</th>\n",
       "      <th>Keyword</th>\n",
       "      <th>VarKeyword</th>\n",
       "      <th>TotalFreqKeyword</th>\n",
       "      <th>TotalWord</th>\n",
       "      <th>TermRatio</th>\n",
       "      <th>interval</th>\n",
       "      <th>AVGInterval</th>\n",
       "    </tr>\n",
       "  </thead>\n",
       "  <tbody>\n",
       "    <tr>\n",
       "      <th>0</th>\n",
       "      <td>http://benjah.free.fr/</td>\n",
       "      <td>benjah free rvb notv contrat creative common</td>\n",
       "      <td>General</td>\n",
       "      <td>-1.0</td>\n",
       "      <td>['free', 'creative', 'common']</td>\n",
       "      <td>3</td>\n",
       "      <td>3</td>\n",
       "      <td>7</td>\n",
       "      <td>0.428571</td>\n",
       "      <td>1598</td>\n",
       "      <td>533.0</td>\n",
       "    </tr>\n",
       "    <tr>\n",
       "      <th>1</th>\n",
       "      <td>http://www.paaw.com/</td>\n",
       "      <td>perform art artist worldwide perform art artis...</td>\n",
       "      <td>General</td>\n",
       "      <td>-1.0</td>\n",
       "      <td>['site', 'production', 'web', 'project', 'read...</td>\n",
       "      <td>80</td>\n",
       "      <td>144</td>\n",
       "      <td>188</td>\n",
       "      <td>0.765957</td>\n",
       "      <td>1568</td>\n",
       "      <td>11.0</td>\n",
       "    </tr>\n",
       "    <tr>\n",
       "      <th>2</th>\n",
       "      <td>http://vlib.org/Humanities</td>\n",
       "      <td>humanity humanistic study virtual library huma...</td>\n",
       "      <td>General</td>\n",
       "      <td>-1.0</td>\n",
       "      <td>['page', 'science', 'online', 'high', 'type', ...</td>\n",
       "      <td>60</td>\n",
       "      <td>145</td>\n",
       "      <td>219</td>\n",
       "      <td>0.662100</td>\n",
       "      <td>2063</td>\n",
       "      <td>14.0</td>\n",
       "    </tr>\n",
       "    <tr>\n",
       "      <th>3</th>\n",
       "      <td>http://www.berzowska.com/xy/index.html</td>\n",
       "      <td>computational expressionism</td>\n",
       "      <td>General</td>\n",
       "      <td>-1.0</td>\n",
       "      <td>['expressionism']</td>\n",
       "      <td>1</td>\n",
       "      <td>1</td>\n",
       "      <td>2</td>\n",
       "      <td>0.500000</td>\n",
       "      <td>0</td>\n",
       "      <td>0.0</td>\n",
       "    </tr>\n",
       "    <tr>\n",
       "      <th>4</th>\n",
       "      <td>http://www.chronotext.org/</td>\n",
       "      <td>chronotext org chronotext grow collection soft...</td>\n",
       "      <td>General</td>\n",
       "      <td>-1.0</td>\n",
       "      <td>['tree', 'word', 'poem', 'music', 'site', 'gam...</td>\n",
       "      <td>256</td>\n",
       "      <td>476</td>\n",
       "      <td>677</td>\n",
       "      <td>0.703102</td>\n",
       "      <td>1608</td>\n",
       "      <td>3.0</td>\n",
       "    </tr>\n",
       "  </tbody>\n",
       "</table>\n",
       "</div>"
      ],
      "text/plain": [
       "                                     Link  \\\n",
       "0                  http://benjah.free.fr/   \n",
       "1                    http://www.paaw.com/   \n",
       "2              http://vlib.org/Humanities   \n",
       "3  http://www.berzowska.com/xy/index.html   \n",
       "4              http://www.chronotext.org/   \n",
       "\n",
       "                                                Data Category  CategoryIndex  \\\n",
       "0       benjah free rvb notv contrat creative common  General           -1.0   \n",
       "1  perform art artist worldwide perform art artis...  General           -1.0   \n",
       "2  humanity humanistic study virtual library huma...  General           -1.0   \n",
       "3                        computational expressionism  General           -1.0   \n",
       "4  chronotext org chronotext grow collection soft...  General           -1.0   \n",
       "\n",
       "                                             Keyword  VarKeyword  \\\n",
       "0                     ['free', 'creative', 'common']           3   \n",
       "1  ['site', 'production', 'web', 'project', 'read...          80   \n",
       "2  ['page', 'science', 'online', 'high', 'type', ...          60   \n",
       "3                                  ['expressionism']           1   \n",
       "4  ['tree', 'word', 'poem', 'music', 'site', 'gam...         256   \n",
       "\n",
       "   TotalFreqKeyword  TotalWord  TermRatio  interval  AVGInterval  \n",
       "0                 3          7   0.428571      1598        533.0  \n",
       "1               144        188   0.765957      1568         11.0  \n",
       "2               145        219   0.662100      2063         14.0  \n",
       "3                 1          2   0.500000         0          0.0  \n",
       "4               476        677   0.703102      1608          3.0  "
      ]
     },
     "execution_count": 7,
     "metadata": {},
     "output_type": "execute_result"
    }
   ],
   "source": [
    "clean_data.head(5)"
   ]
  },
  {
   "cell_type": "code",
   "execution_count": 8,
   "metadata": {},
   "outputs": [
    {
     "data": {
      "text/plain": [
       "General    2684\n",
       "Kids       2511\n",
       "Name: Category, dtype: int64"
      ]
     },
     "execution_count": 8,
     "metadata": {},
     "output_type": "execute_result"
    }
   ],
   "source": [
    "clean_data['Category'].value_counts()"
   ]
  },
  {
   "cell_type": "code",
   "execution_count": 9,
   "metadata": {},
   "outputs": [
    {
     "data": {
      "text/plain": [
       "((5195, 5), (5195,))"
      ]
     },
     "execution_count": 9,
     "metadata": {},
     "output_type": "execute_result"
    }
   ],
   "source": [
    "# MEMBUAT DATA FRAME DENGAN ISI KOLOM YANG DIGUNAKAN SAJAA\n",
    "x_data = clean_data[[\"Data\", \"TotalFreqKeyword\", \"TotalWord\", \"TermRatio\", \"AVGInterval\"]]\n",
    "y_data = clean_data[\"CategoryIndex\"]\n",
    "x_data.shape, y_data.shape"
   ]
  },
  {
   "cell_type": "code",
   "execution_count": 10,
   "metadata": {},
   "outputs": [
    {
     "name": "stdout",
     "output_type": "stream",
     "text": [
      "(4156, 5) (4156,)\n",
      "(1039, 5) (1039,)\n"
     ]
    }
   ],
   "source": [
    "from sklearn.model_selection import train_test_split\n",
    "x_train, x_test, y_train, y_test = train_test_split(x_data, y_data, test_size=0.2, random_state=3)\n",
    "\n",
    "print (x_train.shape , y_train.shape)\n",
    "print (x_test.shape, y_test.shape)"
   ]
  },
  {
   "cell_type": "code",
   "execution_count": 11,
   "metadata": {},
   "outputs": [
    {
     "data": {
      "text/html": [
       "<div>\n",
       "<style scoped>\n",
       "    .dataframe tbody tr th:only-of-type {\n",
       "        vertical-align: middle;\n",
       "    }\n",
       "\n",
       "    .dataframe tbody tr th {\n",
       "        vertical-align: top;\n",
       "    }\n",
       "\n",
       "    .dataframe thead th {\n",
       "        text-align: right;\n",
       "    }\n",
       "</style>\n",
       "<table border=\"1\" class=\"dataframe\">\n",
       "  <thead>\n",
       "    <tr style=\"text-align: right;\">\n",
       "      <th></th>\n",
       "      <th>Data</th>\n",
       "      <th>TotalFreqKeyword</th>\n",
       "      <th>TotalWord</th>\n",
       "      <th>TermRatio</th>\n",
       "      <th>AVGInterval</th>\n",
       "    </tr>\n",
       "  </thead>\n",
       "  <tbody>\n",
       "    <tr>\n",
       "      <th>3761</th>\n",
       "      <td>sky diary kidstorm fact tornado home gallery d...</td>\n",
       "      <td>793</td>\n",
       "      <td>1014</td>\n",
       "      <td>0.782051</td>\n",
       "      <td>2.0</td>\n",
       "    </tr>\n",
       "    <tr>\n",
       "      <th>3098</th>\n",
       "      <td>color fun primarygames free online game fun pl...</td>\n",
       "      <td>58</td>\n",
       "      <td>67</td>\n",
       "      <td>0.865672</td>\n",
       "      <td>25.0</td>\n",
       "    </tr>\n",
       "    <tr>\n",
       "      <th>3420</th>\n",
       "      <td>thanksgiving history cartoon fun brownielocks ...</td>\n",
       "      <td>1627</td>\n",
       "      <td>2290</td>\n",
       "      <td>0.710480</td>\n",
       "      <td>1.0</td>\n",
       "    </tr>\n",
       "    <tr>\n",
       "      <th>4318</th>\n",
       "      <td>toe academy dance dance buffalo grove toe acad...</td>\n",
       "      <td>82</td>\n",
       "      <td>110</td>\n",
       "      <td>0.745455</td>\n",
       "      <td>25.0</td>\n",
       "    </tr>\n",
       "    <tr>\n",
       "      <th>1107</th>\n",
       "      <td>diy step step home repair guide homerepair hom...</td>\n",
       "      <td>139</td>\n",
       "      <td>183</td>\n",
       "      <td>0.759563</td>\n",
       "      <td>11.0</td>\n",
       "    </tr>\n",
       "    <tr>\n",
       "      <th>1633</th>\n",
       "      <td>internet schoolhouse site optimize browser int...</td>\n",
       "      <td>14</td>\n",
       "      <td>20</td>\n",
       "      <td>0.700000</td>\n",
       "      <td>113.0</td>\n",
       "    </tr>\n",
       "    <tr>\n",
       "      <th>5157</th>\n",
       "      <td>introduction argentina argentina home history ...</td>\n",
       "      <td>171</td>\n",
       "      <td>266</td>\n",
       "      <td>0.642857</td>\n",
       "      <td>11.0</td>\n",
       "    </tr>\n",
       "    <tr>\n",
       "      <th>4263</th>\n",
       "      <td>home ancient greek theatre browser version out...</td>\n",
       "      <td>182</td>\n",
       "      <td>331</td>\n",
       "      <td>0.549849</td>\n",
       "      <td>11.0</td>\n",
       "    </tr>\n",
       "    <tr>\n",
       "      <th>3147</th>\n",
       "      <td>basic arithmetic school kid math table practic...</td>\n",
       "      <td>188</td>\n",
       "      <td>218</td>\n",
       "      <td>0.862385</td>\n",
       "      <td>8.0</td>\n",
       "    </tr>\n",
       "    <tr>\n",
       "      <th>991</th>\n",
       "      <td>university michigan kellogg eye center michiga...</td>\n",
       "      <td>199</td>\n",
       "      <td>286</td>\n",
       "      <td>0.695804</td>\n",
       "      <td>7.0</td>\n",
       "    </tr>\n",
       "  </tbody>\n",
       "</table>\n",
       "</div>"
      ],
      "text/plain": [
       "                                                   Data  TotalFreqKeyword  \\\n",
       "3761  sky diary kidstorm fact tornado home gallery d...               793   \n",
       "3098  color fun primarygames free online game fun pl...                58   \n",
       "3420  thanksgiving history cartoon fun brownielocks ...              1627   \n",
       "4318  toe academy dance dance buffalo grove toe acad...                82   \n",
       "1107  diy step step home repair guide homerepair hom...               139   \n",
       "1633  internet schoolhouse site optimize browser int...                14   \n",
       "5157  introduction argentina argentina home history ...               171   \n",
       "4263  home ancient greek theatre browser version out...               182   \n",
       "3147  basic arithmetic school kid math table practic...               188   \n",
       "991   university michigan kellogg eye center michiga...               199   \n",
       "\n",
       "      TotalWord  TermRatio  AVGInterval  \n",
       "3761       1014   0.782051          2.0  \n",
       "3098         67   0.865672         25.0  \n",
       "3420       2290   0.710480          1.0  \n",
       "4318        110   0.745455         25.0  \n",
       "1107        183   0.759563         11.0  \n",
       "1633         20   0.700000        113.0  \n",
       "5157        266   0.642857         11.0  \n",
       "4263        331   0.549849         11.0  \n",
       "3147        218   0.862385          8.0  \n",
       "991         286   0.695804          7.0  "
      ]
     },
     "execution_count": 11,
     "metadata": {},
     "output_type": "execute_result"
    }
   ],
   "source": [
    "x_train.sample(10)"
   ]
  },
  {
   "cell_type": "code",
   "execution_count": 22,
   "metadata": {},
   "outputs": [
    {
     "name": "stdout",
     "output_type": "stream",
     "text": [
      "(4156, 4) (4156,)\n",
      "(1039, 4) (1039,)\n"
     ]
    },
    {
     "name": "stderr",
     "output_type": "stream",
     "text": [
      "C:\\Users\\User\\Anaconda3\\lib\\site-packages\\ipykernel_launcher.py:8: DataConversionWarning: Data with input dtype int64, float64 were all converted to float64 by the scale function.\n",
      "  \n",
      "C:\\Users\\User\\Anaconda3\\lib\\site-packages\\ipykernel_launcher.py:9: DataConversionWarning: Data with input dtype int64, float64 were all converted to float64 by the scale function.\n",
      "  if __name__ == '__main__':\n"
     ]
    }
   ],
   "source": [
    "# WEB PAGE FEATURE SELECTION\n",
    "\n",
    "x_train_wpfs = x_train[[\"TotalFreqKeyword\", \"TotalWord\", \"TermRatio\", \"AVGInterval\"]]\n",
    "y_train_wpfs = y_train\n",
    "x_test_wpfs = x_test[[\"TotalFreqKeyword\", \"TotalWord\", \"TermRatio\", \"AVGInterval\"]]\n",
    "y_test_wpfs = y_test\n",
    "\n",
    "x_train_wpfs = preprocessing.scale(x_train_wpfs)\n",
    "x_test_wpfs = preprocessing.scale(x_test_wpfs)\n",
    "\n",
    "print(x_train_wpfs.shape, y_train_wpfs.shape)\n",
    "print(x_test_wpfs.shape, y_test_wpfs.shape)"
   ]
  },
  {
   "cell_type": "code",
   "execution_count": 23,
   "metadata": {},
   "outputs": [
    {
     "data": {
      "text/plain": [
       "SVC(C=1.0, cache_size=200, class_weight=None, coef0=0.0,\n",
       "  decision_function_shape='ovr', degree=3, gamma=1, kernel='linear',\n",
       "  max_iter=-1, probability=True, random_state=None, shrinking=True,\n",
       "  tol=0.001, verbose=False)"
      ]
     },
     "execution_count": 23,
     "metadata": {},
     "output_type": "execute_result"
    }
   ],
   "source": [
    "svm_model_wpfs_linear = svm.SVC(kernel='linear', gamma=1, probability=True)\n",
    "svm_model_wpfs_linear.fit(x_train_wpfs, y_train) "
   ]
  },
  {
   "cell_type": "code",
   "execution_count": 24,
   "metadata": {},
   "outputs": [
    {
     "data": {
      "text/plain": [
       "SVC(C=1.0, cache_size=200, class_weight=None, coef0=0.0,\n",
       "  decision_function_shape='ovr', degree=3, gamma=1, kernel='poly',\n",
       "  max_iter=-1, probability=True, random_state=None, shrinking=True,\n",
       "  tol=0.001, verbose=False)"
      ]
     },
     "execution_count": 24,
     "metadata": {},
     "output_type": "execute_result"
    }
   ],
   "source": [
    "svm_model_wpfs_poly = svm.SVC(kernel='poly', gamma=1, probability=True)\n",
    "svm_model_wpfs_poly.fit(x_train_wpfs, y_train) "
   ]
  },
  {
   "cell_type": "code",
   "execution_count": 25,
   "metadata": {},
   "outputs": [
    {
     "data": {
      "text/plain": [
       "SVC(C=1.0, cache_size=200, class_weight=None, coef0=0.0,\n",
       "  decision_function_shape='ovr', degree=3, gamma=1, kernel='rbf',\n",
       "  max_iter=-1, probability=True, random_state=None, shrinking=True,\n",
       "  tol=0.001, verbose=False)"
      ]
     },
     "execution_count": 25,
     "metadata": {},
     "output_type": "execute_result"
    }
   ],
   "source": [
    "svm_model_wpfs_rbf = svm.SVC(kernel='rbf', gamma=1, probability=True)\n",
    "svm_model_wpfs_rbf.fit(x_train_wpfs, y_train) "
   ]
  },
  {
   "cell_type": "code",
   "execution_count": 26,
   "metadata": {},
   "outputs": [
    {
     "data": {
      "text/plain": [
       "SVC(C=1.0, cache_size=200, class_weight=None, coef0=0.0,\n",
       "  decision_function_shape='ovr', degree=3, gamma=1, kernel='sigmoid',\n",
       "  max_iter=-1, probability=True, random_state=None, shrinking=True,\n",
       "  tol=0.001, verbose=False)"
      ]
     },
     "execution_count": 26,
     "metadata": {},
     "output_type": "execute_result"
    }
   ],
   "source": [
    "svm_model_wpfs_sigmoid = svm.SVC(kernel='sigmoid', gamma=1, probability=True)\n",
    "svm_model_wpfs_sigmoid.fit(x_train_wpfs, y_train) "
   ]
  },
  {
   "cell_type": "code",
   "execution_count": 27,
   "metadata": {},
   "outputs": [],
   "source": [
    "wpfs_value_linear = svm_model_wpfs_linear.decision_function(x_test_wpfs)\n",
    "wpfs_value_poly = svm_model_wpfs_poly.decision_function(x_test_wpfs)\n",
    "wpfs_value_rbf = svm_model_wpfs_rbf.decision_function(x_test_wpfs)\n",
    "wpfs_value_sigmoid = svm_model_wpfs_sigmoid.decision_function(x_test_wpfs)\n",
    "\n",
    "wpfs_predict_linear = svm_model_wpfs_linear.predict(x_test_wpfs)\n",
    "wpfs_predict_poly = svm_model_wpfs_poly.predict(x_test_wpfs)\n",
    "wpfs_predict_rbf = svm_model_wpfs_rbf.predict(x_test_wpfs)\n",
    "wpfs_predict_sigmoid = svm_model_wpfs_sigmoid.predict(x_test_wpfs)"
   ]
  },
  {
   "cell_type": "code",
   "execution_count": 31,
   "metadata": {},
   "outputs": [
    {
     "name": "stdout",
     "output_type": "stream",
     "text": [
      "=========================LINEAR KERNEL=========================\n",
      "              precision    recall  f1-score   support\n",
      "\n",
      "        -1.0       0.73      0.73      0.73       546\n",
      "         1.0       0.70      0.70      0.70       493\n",
      "\n",
      "   micro avg       0.71      0.71      0.71      1039\n",
      "   macro avg       0.71      0.71      0.71      1039\n",
      "weighted avg       0.71      0.71      0.71      1039\n",
      "\n",
      "akurasi :  0.714148219441771\n",
      "=========================POLINOMIAL KERNEL=========================\n",
      "              precision    recall  f1-score   support\n",
      "\n",
      "        -1.0       0.54      0.97      0.69       546\n",
      "         1.0       0.72      0.08      0.14       493\n",
      "\n",
      "   micro avg       0.55      0.55      0.55      1039\n",
      "   macro avg       0.63      0.53      0.42      1039\n",
      "weighted avg       0.63      0.55      0.43      1039\n",
      "\n",
      "akurasi :  0.548604427333975\n",
      "=========================RBF KERNEL=========================\n",
      "              precision    recall  f1-score   support\n",
      "\n",
      "        -1.0       0.71      0.78      0.74       546\n",
      "         1.0       0.73      0.65      0.68       493\n",
      "\n",
      "   micro avg       0.72      0.72      0.72      1039\n",
      "   macro avg       0.72      0.71      0.71      1039\n",
      "weighted avg       0.72      0.72      0.72      1039\n",
      "\n",
      "akurasi :  0.7170356111645814\n",
      "=========================SIGMOID KERNEL=========================\n",
      "              precision    recall  f1-score   support\n",
      "\n",
      "        -1.0       0.55      0.54      0.55       546\n",
      "         1.0       0.50      0.51      0.51       493\n",
      "\n",
      "   micro avg       0.53      0.53      0.53      1039\n",
      "   macro avg       0.53      0.53      0.53      1039\n",
      "weighted avg       0.53      0.53      0.53      1039\n",
      "\n",
      "akurasi :  0.5264677574590952\n"
     ]
    }
   ],
   "source": [
    "from sklearn import metrics \n",
    "from sklearn.metrics import classification_report, confusion_matrix\n",
    "import itertools\n",
    "\n",
    "acc_lin = metrics.accuracy_score(y_test, wpfs_predict_linear)\n",
    "acc_pol = metrics.accuracy_score(y_test, wpfs_predict_poly)\n",
    "acc_rbf = metrics.accuracy_score(y_test, wpfs_predict_rbf)\n",
    "acc_sig = metrics.accuracy_score(y_test, wpfs_predict_sigmoid)\n",
    "\n",
    "print(\"=========================LINEAR KERNEL=========================\")\n",
    "print (classification_report(y_test, wpfs_predict_linear))\n",
    "print(\"akurasi : \", acc_lin)\n",
    "\n",
    "\n",
    "print(\"=========================POLINOMIAL KERNEL=========================\")\n",
    "print (classification_report(y_test, wpfs_predict_poly))\n",
    "print(\"akurasi : \", acc_pol)\n",
    "\n",
    "print(\"=========================RBF KERNEL=========================\")\n",
    "print (classification_report(y_test, wpfs_predict_rbf))\n",
    "print(\"akurasi : \", acc_rbf)\n",
    "\n",
    "print(\"=========================SIGMOID KERNEL=========================\")\n",
    "print (classification_report(y_test, wpfs_predict_sigmoid))\n",
    "print(\"akurasi : \", acc_sig)"
   ]
  }
 ],
 "metadata": {
  "kernelspec": {
   "display_name": "Python 3",
   "language": "python",
   "name": "python3"
  },
  "language_info": {
   "codemirror_mode": {
    "name": "ipython",
    "version": 3
   },
   "file_extension": ".py",
   "mimetype": "text/x-python",
   "name": "python",
   "nbconvert_exporter": "python",
   "pygments_lexer": "ipython3",
   "version": "3.7.3"
  }
 },
 "nbformat": 4,
 "nbformat_minor": 2
}
