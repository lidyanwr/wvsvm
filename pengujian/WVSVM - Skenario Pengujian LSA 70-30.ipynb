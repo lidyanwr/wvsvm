{
 "cells": [
  {
   "cell_type": "code",
   "execution_count": 1,
   "metadata": {},
   "outputs": [],
   "source": [
    "import pandas as pd\n",
    "from bs4 import BeautifulSoup\n",
    "import re\n",
    "import nltk \n",
    "import string \n",
    "import sys\n",
    "import numpy as np\n",
    "import linalg\n",
    "from sklearn import preprocessing\n",
    "from sklearn.decomposition import TruncatedSVD"
   ]
  },
  {
   "cell_type": "code",
   "execution_count": 2,
   "metadata": {},
   "outputs": [],
   "source": [
    "from sklearn.feature_extraction.text import TfidfVectorizer\n",
    "from sklearn.feature_extraction.text import CountVectorizer\n",
    "from sklearn.pipeline import make_pipeline\n",
    "from sklearn.preprocessing import Normalizer"
   ]
  },
  {
   "cell_type": "code",
   "execution_count": 3,
   "metadata": {},
   "outputs": [
    {
     "data": {
      "text/plain": [
       "(5195, 11)"
      ]
     },
     "execution_count": 3,
     "metadata": {},
     "output_type": "execute_result"
    }
   ],
   "source": [
    "all_data = pd.read_csv(\"DataReady.csv\")\n",
    "all_data.shape"
   ]
  },
  {
   "cell_type": "code",
   "execution_count": 4,
   "metadata": {},
   "outputs": [
    {
     "data": {
      "text/html": [
       "<div>\n",
       "<style scoped>\n",
       "    .dataframe tbody tr th:only-of-type {\n",
       "        vertical-align: middle;\n",
       "    }\n",
       "\n",
       "    .dataframe tbody tr th {\n",
       "        vertical-align: top;\n",
       "    }\n",
       "\n",
       "    .dataframe thead th {\n",
       "        text-align: right;\n",
       "    }\n",
       "</style>\n",
       "<table border=\"1\" class=\"dataframe\">\n",
       "  <thead>\n",
       "    <tr style=\"text-align: right;\">\n",
       "      <th></th>\n",
       "      <th>Link</th>\n",
       "      <th>Data</th>\n",
       "      <th>Category</th>\n",
       "      <th>CategoryIndex</th>\n",
       "      <th>Keyword</th>\n",
       "      <th>VarKeyword</th>\n",
       "      <th>TotalFreqKeyword</th>\n",
       "      <th>TotalWord</th>\n",
       "      <th>TermRatio</th>\n",
       "      <th>interval</th>\n",
       "      <th>AVGInterval</th>\n",
       "    </tr>\n",
       "  </thead>\n",
       "  <tbody>\n",
       "    <tr>\n",
       "      <th>3414</th>\n",
       "      <td>http://www.hoboes.com/FireBlade/Fiction/Carrol...</td>\n",
       "      <td>alice adventure grind alice adventure grind pe...</td>\n",
       "      <td>Kids</td>\n",
       "      <td>1.0</td>\n",
       "      <td>['animal', 'tree', 'page', 'word', 'site', 'ga...</td>\n",
       "      <td>98</td>\n",
       "      <td>184</td>\n",
       "      <td>227</td>\n",
       "      <td>0.810573</td>\n",
       "      <td>1369</td>\n",
       "      <td>7.0</td>\n",
       "    </tr>\n",
       "    <tr>\n",
       "      <th>824</th>\n",
       "      <td>http://www.sniff.org/sega.html</td>\n",
       "      <td>spruce sega roshambo tournament spruce roshamb...</td>\n",
       "      <td>General</td>\n",
       "      <td>-1.0</td>\n",
       "      <td>['student', 'rule', 'john', 'detail', 'play', ...</td>\n",
       "      <td>36</td>\n",
       "      <td>67</td>\n",
       "      <td>121</td>\n",
       "      <td>0.553719</td>\n",
       "      <td>1688</td>\n",
       "      <td>25.0</td>\n",
       "    </tr>\n",
       "    <tr>\n",
       "      <th>2452</th>\n",
       "      <td>http://www.planetearthfdn.org/</td>\n",
       "      <td>planet earth</td>\n",
       "      <td>General</td>\n",
       "      <td>-1.0</td>\n",
       "      <td>['planet', 'earth']</td>\n",
       "      <td>2</td>\n",
       "      <td>2</td>\n",
       "      <td>2</td>\n",
       "      <td>1.000000</td>\n",
       "      <td>589</td>\n",
       "      <td>294.0</td>\n",
       "    </tr>\n",
       "    <tr>\n",
       "      <th>763</th>\n",
       "      <td>http://www.merz-verlag-en.com/</td>\n",
       "      <td>spiel messe messe essen oct deutsch contact de...</td>\n",
       "      <td>General</td>\n",
       "      <td>-1.0</td>\n",
       "      <td>['free', 'game', 'fun', 'feel', 'gallery', 'id...</td>\n",
       "      <td>48</td>\n",
       "      <td>56</td>\n",
       "      <td>108</td>\n",
       "      <td>0.518519</td>\n",
       "      <td>2046</td>\n",
       "      <td>37.0</td>\n",
       "    </tr>\n",
       "    <tr>\n",
       "      <th>2831</th>\n",
       "      <td>http://superyo.nuxit.net/Razmoket/index-e.html</td>\n",
       "      <td>rugrats french rugrats site english version ru...</td>\n",
       "      <td>Kids</td>\n",
       "      <td>1.0</td>\n",
       "      <td>['animal', 'tree', 'color', 'page', 'free', 'm...</td>\n",
       "      <td>113</td>\n",
       "      <td>217</td>\n",
       "      <td>279</td>\n",
       "      <td>0.777778</td>\n",
       "      <td>1373</td>\n",
       "      <td>6.0</td>\n",
       "    </tr>\n",
       "    <tr>\n",
       "      <th>2854</th>\n",
       "      <td>http://www.factmonster.com/encyclopedia/people...</td>\n",
       "      <td>magritte ren factmonster toggle navigation sea...</td>\n",
       "      <td>Kids</td>\n",
       "      <td>1.0</td>\n",
       "      <td>['food', 'learn', 'parent', 'science', 'kid', ...</td>\n",
       "      <td>161</td>\n",
       "      <td>231</td>\n",
       "      <td>301</td>\n",
       "      <td>0.767442</td>\n",
       "      <td>1804</td>\n",
       "      <td>8.0</td>\n",
       "    </tr>\n",
       "    <tr>\n",
       "      <th>1717</th>\n",
       "      <td>http://www.rulesonline.com/</td>\n",
       "      <td>robert rule order online parliamentary procedu...</td>\n",
       "      <td>General</td>\n",
       "      <td>-1.0</td>\n",
       "      <td>['page', 'learn', 'site', 'book', 'publish', '...</td>\n",
       "      <td>128</td>\n",
       "      <td>239</td>\n",
       "      <td>334</td>\n",
       "      <td>0.715569</td>\n",
       "      <td>1370</td>\n",
       "      <td>6.0</td>\n",
       "    </tr>\n",
       "    <tr>\n",
       "      <th>3691</th>\n",
       "      <td>http://www.ernestina.org/</td>\n",
       "      <td>schooner ernestina morrissey search learn erne...</td>\n",
       "      <td>Kids</td>\n",
       "      <td>1.0</td>\n",
       "      <td>['sheet', 'free', 'action', 'word', 'draw', 'l...</td>\n",
       "      <td>414</td>\n",
       "      <td>1248</td>\n",
       "      <td>1974</td>\n",
       "      <td>0.632219</td>\n",
       "      <td>1098</td>\n",
       "      <td>1.0</td>\n",
       "    </tr>\n",
       "    <tr>\n",
       "      <th>3718</th>\n",
       "      <td>http://www.squirrel-rehab.org/puzzle/index.html</td>\n",
       "      <td>daily jigsaw puzzle free jigsaw puzzle game ag...</td>\n",
       "      <td>Kids</td>\n",
       "      <td>1.0</td>\n",
       "      <td>['tree', 'color', 'page', 'free', 'music', 'am...</td>\n",
       "      <td>250</td>\n",
       "      <td>589</td>\n",
       "      <td>752</td>\n",
       "      <td>0.783245</td>\n",
       "      <td>1220</td>\n",
       "      <td>2.0</td>\n",
       "    </tr>\n",
       "    <tr>\n",
       "      <th>4195</th>\n",
       "      <td>http://contemporarydanceacademy.com/</td>\n",
       "      <td>contemporary dance academy fort collins colora...</td>\n",
       "      <td>Kids</td>\n",
       "      <td>1.0</td>\n",
       "      <td>['learn', 'magic', 'kid', 'teacher', 'producti...</td>\n",
       "      <td>116</td>\n",
       "      <td>266</td>\n",
       "      <td>359</td>\n",
       "      <td>0.740947</td>\n",
       "      <td>1369</td>\n",
       "      <td>5.0</td>\n",
       "    </tr>\n",
       "  </tbody>\n",
       "</table>\n",
       "</div>"
      ],
      "text/plain": [
       "                                                   Link  \\\n",
       "3414  http://www.hoboes.com/FireBlade/Fiction/Carrol...   \n",
       "824                      http://www.sniff.org/sega.html   \n",
       "2452                     http://www.planetearthfdn.org/   \n",
       "763                      http://www.merz-verlag-en.com/   \n",
       "2831     http://superyo.nuxit.net/Razmoket/index-e.html   \n",
       "2854  http://www.factmonster.com/encyclopedia/people...   \n",
       "1717                        http://www.rulesonline.com/   \n",
       "3691                          http://www.ernestina.org/   \n",
       "3718    http://www.squirrel-rehab.org/puzzle/index.html   \n",
       "4195               http://contemporarydanceacademy.com/   \n",
       "\n",
       "                                                   Data Category  \\\n",
       "3414  alice adventure grind alice adventure grind pe...     Kids   \n",
       "824   spruce sega roshambo tournament spruce roshamb...  General   \n",
       "2452                                       planet earth  General   \n",
       "763   spiel messe messe essen oct deutsch contact de...  General   \n",
       "2831  rugrats french rugrats site english version ru...     Kids   \n",
       "2854  magritte ren factmonster toggle navigation sea...     Kids   \n",
       "1717  robert rule order online parliamentary procedu...  General   \n",
       "3691  schooner ernestina morrissey search learn erne...     Kids   \n",
       "3718  daily jigsaw puzzle free jigsaw puzzle game ag...     Kids   \n",
       "4195  contemporary dance academy fort collins colora...     Kids   \n",
       "\n",
       "      CategoryIndex                                            Keyword  \\\n",
       "3414            1.0  ['animal', 'tree', 'page', 'word', 'site', 'ga...   \n",
       "824            -1.0  ['student', 'rule', 'john', 'detail', 'play', ...   \n",
       "2452           -1.0                                ['planet', 'earth']   \n",
       "763            -1.0  ['free', 'game', 'fun', 'feel', 'gallery', 'id...   \n",
       "2831            1.0  ['animal', 'tree', 'color', 'page', 'free', 'm...   \n",
       "2854            1.0  ['food', 'learn', 'parent', 'science', 'kid', ...   \n",
       "1717           -1.0  ['page', 'learn', 'site', 'book', 'publish', '...   \n",
       "3691            1.0  ['sheet', 'free', 'action', 'word', 'draw', 'l...   \n",
       "3718            1.0  ['tree', 'color', 'page', 'free', 'music', 'am...   \n",
       "4195            1.0  ['learn', 'magic', 'kid', 'teacher', 'producti...   \n",
       "\n",
       "      VarKeyword  TotalFreqKeyword  TotalWord  TermRatio  interval  \\\n",
       "3414          98               184        227   0.810573      1369   \n",
       "824           36                67        121   0.553719      1688   \n",
       "2452           2                 2          2   1.000000       589   \n",
       "763           48                56        108   0.518519      2046   \n",
       "2831         113               217        279   0.777778      1373   \n",
       "2854         161               231        301   0.767442      1804   \n",
       "1717         128               239        334   0.715569      1370   \n",
       "3691         414              1248       1974   0.632219      1098   \n",
       "3718         250               589        752   0.783245      1220   \n",
       "4195         116               266        359   0.740947      1369   \n",
       "\n",
       "      AVGInterval  \n",
       "3414          7.0  \n",
       "824          25.0  \n",
       "2452        294.0  \n",
       "763          37.0  \n",
       "2831          6.0  \n",
       "2854          8.0  \n",
       "1717          6.0  \n",
       "3691          1.0  \n",
       "3718          2.0  \n",
       "4195          5.0  "
      ]
     },
     "execution_count": 4,
     "metadata": {},
     "output_type": "execute_result"
    }
   ],
   "source": [
    "all_data.sample(10)"
   ]
  },
  {
   "cell_type": "code",
   "execution_count": 5,
   "metadata": {},
   "outputs": [
    {
     "data": {
      "text/plain": [
       "Link                 0\n",
       "Data                 0\n",
       "Category             0\n",
       "CategoryIndex        0\n",
       "Keyword              0\n",
       "VarKeyword           0\n",
       "TotalFreqKeyword     0\n",
       "TotalWord            0\n",
       "TermRatio            0\n",
       "interval             0\n",
       "AVGInterval         48\n",
       "dtype: int64"
      ]
     },
     "execution_count": 5,
     "metadata": {},
     "output_type": "execute_result"
    }
   ],
   "source": [
    "all_data.isnull().sum()"
   ]
  },
  {
   "cell_type": "code",
   "execution_count": 6,
   "metadata": {},
   "outputs": [
    {
     "data": {
      "text/plain": [
       "Link                0\n",
       "Data                0\n",
       "Category            0\n",
       "CategoryIndex       0\n",
       "Keyword             0\n",
       "VarKeyword          0\n",
       "TotalFreqKeyword    0\n",
       "TotalWord           0\n",
       "TermRatio           0\n",
       "interval            0\n",
       "AVGInterval         0\n",
       "dtype: int64"
      ]
     },
     "execution_count": 6,
     "metadata": {},
     "output_type": "execute_result"
    }
   ],
   "source": [
    "clean_data = all_data\n",
    "clean_data[\"AVGInterval\"] = clean_data['AVGInterval'].replace(np.nan, 0)\n",
    "clean_data.isnull().sum()"
   ]
  },
  {
   "cell_type": "code",
   "execution_count": 7,
   "metadata": {},
   "outputs": [
    {
     "data": {
      "text/html": [
       "<div>\n",
       "<style scoped>\n",
       "    .dataframe tbody tr th:only-of-type {\n",
       "        vertical-align: middle;\n",
       "    }\n",
       "\n",
       "    .dataframe tbody tr th {\n",
       "        vertical-align: top;\n",
       "    }\n",
       "\n",
       "    .dataframe thead th {\n",
       "        text-align: right;\n",
       "    }\n",
       "</style>\n",
       "<table border=\"1\" class=\"dataframe\">\n",
       "  <thead>\n",
       "    <tr style=\"text-align: right;\">\n",
       "      <th></th>\n",
       "      <th>Link</th>\n",
       "      <th>Data</th>\n",
       "      <th>Category</th>\n",
       "      <th>CategoryIndex</th>\n",
       "      <th>Keyword</th>\n",
       "      <th>VarKeyword</th>\n",
       "      <th>TotalFreqKeyword</th>\n",
       "      <th>TotalWord</th>\n",
       "      <th>TermRatio</th>\n",
       "      <th>interval</th>\n",
       "      <th>AVGInterval</th>\n",
       "    </tr>\n",
       "  </thead>\n",
       "  <tbody>\n",
       "    <tr>\n",
       "      <th>0</th>\n",
       "      <td>http://benjah.free.fr/</td>\n",
       "      <td>benjah free rvb notv contrat creative common</td>\n",
       "      <td>General</td>\n",
       "      <td>-1.0</td>\n",
       "      <td>['free', 'creative', 'common']</td>\n",
       "      <td>3</td>\n",
       "      <td>3</td>\n",
       "      <td>7</td>\n",
       "      <td>0.428571</td>\n",
       "      <td>1598</td>\n",
       "      <td>533.0</td>\n",
       "    </tr>\n",
       "    <tr>\n",
       "      <th>1</th>\n",
       "      <td>http://www.paaw.com/</td>\n",
       "      <td>perform art artist worldwide perform art artis...</td>\n",
       "      <td>General</td>\n",
       "      <td>-1.0</td>\n",
       "      <td>['site', 'production', 'web', 'project', 'read...</td>\n",
       "      <td>80</td>\n",
       "      <td>144</td>\n",
       "      <td>188</td>\n",
       "      <td>0.765957</td>\n",
       "      <td>1568</td>\n",
       "      <td>11.0</td>\n",
       "    </tr>\n",
       "    <tr>\n",
       "      <th>2</th>\n",
       "      <td>http://vlib.org/Humanities</td>\n",
       "      <td>humanity humanistic study virtual library huma...</td>\n",
       "      <td>General</td>\n",
       "      <td>-1.0</td>\n",
       "      <td>['page', 'science', 'online', 'high', 'type', ...</td>\n",
       "      <td>60</td>\n",
       "      <td>145</td>\n",
       "      <td>219</td>\n",
       "      <td>0.662100</td>\n",
       "      <td>2063</td>\n",
       "      <td>14.0</td>\n",
       "    </tr>\n",
       "    <tr>\n",
       "      <th>3</th>\n",
       "      <td>http://www.berzowska.com/xy/index.html</td>\n",
       "      <td>computational expressionism</td>\n",
       "      <td>General</td>\n",
       "      <td>-1.0</td>\n",
       "      <td>['expressionism']</td>\n",
       "      <td>1</td>\n",
       "      <td>1</td>\n",
       "      <td>2</td>\n",
       "      <td>0.500000</td>\n",
       "      <td>0</td>\n",
       "      <td>0.0</td>\n",
       "    </tr>\n",
       "    <tr>\n",
       "      <th>4</th>\n",
       "      <td>http://www.chronotext.org/</td>\n",
       "      <td>chronotext org chronotext grow collection soft...</td>\n",
       "      <td>General</td>\n",
       "      <td>-1.0</td>\n",
       "      <td>['tree', 'word', 'poem', 'music', 'site', 'gam...</td>\n",
       "      <td>256</td>\n",
       "      <td>476</td>\n",
       "      <td>677</td>\n",
       "      <td>0.703102</td>\n",
       "      <td>1608</td>\n",
       "      <td>3.0</td>\n",
       "    </tr>\n",
       "  </tbody>\n",
       "</table>\n",
       "</div>"
      ],
      "text/plain": [
       "                                     Link  \\\n",
       "0                  http://benjah.free.fr/   \n",
       "1                    http://www.paaw.com/   \n",
       "2              http://vlib.org/Humanities   \n",
       "3  http://www.berzowska.com/xy/index.html   \n",
       "4              http://www.chronotext.org/   \n",
       "\n",
       "                                                Data Category  CategoryIndex  \\\n",
       "0       benjah free rvb notv contrat creative common  General           -1.0   \n",
       "1  perform art artist worldwide perform art artis...  General           -1.0   \n",
       "2  humanity humanistic study virtual library huma...  General           -1.0   \n",
       "3                        computational expressionism  General           -1.0   \n",
       "4  chronotext org chronotext grow collection soft...  General           -1.0   \n",
       "\n",
       "                                             Keyword  VarKeyword  \\\n",
       "0                     ['free', 'creative', 'common']           3   \n",
       "1  ['site', 'production', 'web', 'project', 'read...          80   \n",
       "2  ['page', 'science', 'online', 'high', 'type', ...          60   \n",
       "3                                  ['expressionism']           1   \n",
       "4  ['tree', 'word', 'poem', 'music', 'site', 'gam...         256   \n",
       "\n",
       "   TotalFreqKeyword  TotalWord  TermRatio  interval  AVGInterval  \n",
       "0                 3          7   0.428571      1598        533.0  \n",
       "1               144        188   0.765957      1568         11.0  \n",
       "2               145        219   0.662100      2063         14.0  \n",
       "3                 1          2   0.500000         0          0.0  \n",
       "4               476        677   0.703102      1608          3.0  "
      ]
     },
     "execution_count": 7,
     "metadata": {},
     "output_type": "execute_result"
    }
   ],
   "source": [
    "clean_data.head(5)"
   ]
  },
  {
   "cell_type": "code",
   "execution_count": 8,
   "metadata": {},
   "outputs": [
    {
     "data": {
      "text/plain": [
       "General    2684\n",
       "Kids       2511\n",
       "Name: Category, dtype: int64"
      ]
     },
     "execution_count": 8,
     "metadata": {},
     "output_type": "execute_result"
    }
   ],
   "source": [
    "clean_data['Category'].value_counts()"
   ]
  },
  {
   "cell_type": "code",
   "execution_count": 9,
   "metadata": {},
   "outputs": [
    {
     "data": {
      "text/plain": [
       "((5195, 5), (5195,))"
      ]
     },
     "execution_count": 9,
     "metadata": {},
     "output_type": "execute_result"
    }
   ],
   "source": [
    "# MEMBUAT DATA FRAME DENGAN ISI KOLOM YANG DIGUNAKAN SAJAA\n",
    "x_data = clean_data[[\"Data\", \"TotalFreqKeyword\", \"TotalWord\", \"TermRatio\", \"AVGInterval\"]]\n",
    "y_data = clean_data[\"CategoryIndex\"]\n",
    "x_data.shape, y_data.shape"
   ]
  },
  {
   "cell_type": "code",
   "execution_count": 10,
   "metadata": {},
   "outputs": [
    {
     "name": "stdout",
     "output_type": "stream",
     "text": [
      "(3636, 5) (3636,)\n",
      "(1559, 5) (1559,)\n"
     ]
    }
   ],
   "source": [
    "from sklearn.model_selection import train_test_split\n",
    "x_train, x_test, y_train, y_test = train_test_split(x_data, y_data, test_size=0.3, random_state=3)\n",
    "\n",
    "print (x_train.shape , y_train.shape)\n",
    "print (x_test.shape, y_test.shape)"
   ]
  },
  {
   "cell_type": "code",
   "execution_count": 11,
   "metadata": {},
   "outputs": [
    {
     "data": {
      "text/html": [
       "<div>\n",
       "<style scoped>\n",
       "    .dataframe tbody tr th:only-of-type {\n",
       "        vertical-align: middle;\n",
       "    }\n",
       "\n",
       "    .dataframe tbody tr th {\n",
       "        vertical-align: top;\n",
       "    }\n",
       "\n",
       "    .dataframe thead th {\n",
       "        text-align: right;\n",
       "    }\n",
       "</style>\n",
       "<table border=\"1\" class=\"dataframe\">\n",
       "  <thead>\n",
       "    <tr style=\"text-align: right;\">\n",
       "      <th></th>\n",
       "      <th>Data</th>\n",
       "      <th>TotalFreqKeyword</th>\n",
       "      <th>TotalWord</th>\n",
       "      <th>TermRatio</th>\n",
       "      <th>AVGInterval</th>\n",
       "    </tr>\n",
       "  </thead>\n",
       "  <tbody>\n",
       "    <tr>\n",
       "      <th>1550</th>\n",
       "      <td>poker run america home magazine event home mag...</td>\n",
       "      <td>531</td>\n",
       "      <td>701</td>\n",
       "      <td>0.757489</td>\n",
       "      <td>2.0</td>\n",
       "    </tr>\n",
       "    <tr>\n",
       "      <th>2039</th>\n",
       "      <td>pulse planet sound science nature culture puls...</td>\n",
       "      <td>174</td>\n",
       "      <td>230</td>\n",
       "      <td>0.756522</td>\n",
       "      <td>10.0</td>\n",
       "    </tr>\n",
       "    <tr>\n",
       "      <th>3442</th>\n",
       "      <td>safer online skip content video cloud game saf...</td>\n",
       "      <td>63</td>\n",
       "      <td>85</td>\n",
       "      <td>0.741176</td>\n",
       "      <td>24.0</td>\n",
       "    </tr>\n",
       "    <tr>\n",
       "      <th>1413</th>\n",
       "      <td>airliner world global airline scene airliner w...</td>\n",
       "      <td>303</td>\n",
       "      <td>478</td>\n",
       "      <td>0.633891</td>\n",
       "      <td>7.0</td>\n",
       "    </tr>\n",
       "    <tr>\n",
       "      <th>5174</th>\n",
       "      <td>terrafly geospatial big data platform solution</td>\n",
       "      <td>5</td>\n",
       "      <td>6</td>\n",
       "      <td>0.833333</td>\n",
       "      <td>202.0</td>\n",
       "    </tr>\n",
       "    <tr>\n",
       "      <th>723</th>\n",
       "      <td>domino wikipedia domino wikipedia free encyclo...</td>\n",
       "      <td>1180</td>\n",
       "      <td>1589</td>\n",
       "      <td>0.742605</td>\n",
       "      <td>1.0</td>\n",
       "    </tr>\n",
       "    <tr>\n",
       "      <th>1273</th>\n",
       "      <td>page find</td>\n",
       "      <td>2</td>\n",
       "      <td>2</td>\n",
       "      <td>1.000000</td>\n",
       "      <td>60.0</td>\n",
       "    </tr>\n",
       "    <tr>\n",
       "      <th>2172</th>\n",
       "      <td>beautiful christmas wreath corner crafter wrea...</td>\n",
       "      <td>186</td>\n",
       "      <td>231</td>\n",
       "      <td>0.805195</td>\n",
       "      <td>5.0</td>\n",
       "    </tr>\n",
       "    <tr>\n",
       "      <th>2917</th>\n",
       "      <td>internet safety elmer safety elephant elmer ph...</td>\n",
       "      <td>138</td>\n",
       "      <td>162</td>\n",
       "      <td>0.851852</td>\n",
       "      <td>11.0</td>\n",
       "    </tr>\n",
       "    <tr>\n",
       "      <th>2669</th>\n",
       "      <td>cricket sport guardian skip main content guard...</td>\n",
       "      <td>458</td>\n",
       "      <td>637</td>\n",
       "      <td>0.718995</td>\n",
       "      <td>6.0</td>\n",
       "    </tr>\n",
       "  </tbody>\n",
       "</table>\n",
       "</div>"
      ],
      "text/plain": [
       "                                                   Data  TotalFreqKeyword  \\\n",
       "1550  poker run america home magazine event home mag...               531   \n",
       "2039  pulse planet sound science nature culture puls...               174   \n",
       "3442  safer online skip content video cloud game saf...                63   \n",
       "1413  airliner world global airline scene airliner w...               303   \n",
       "5174     terrafly geospatial big data platform solution                 5   \n",
       "723   domino wikipedia domino wikipedia free encyclo...              1180   \n",
       "1273                                          page find                 2   \n",
       "2172  beautiful christmas wreath corner crafter wrea...               186   \n",
       "2917  internet safety elmer safety elephant elmer ph...               138   \n",
       "2669  cricket sport guardian skip main content guard...               458   \n",
       "\n",
       "      TotalWord  TermRatio  AVGInterval  \n",
       "1550        701   0.757489          2.0  \n",
       "2039        230   0.756522         10.0  \n",
       "3442         85   0.741176         24.0  \n",
       "1413        478   0.633891          7.0  \n",
       "5174          6   0.833333        202.0  \n",
       "723        1589   0.742605          1.0  \n",
       "1273          2   1.000000         60.0  \n",
       "2172        231   0.805195          5.0  \n",
       "2917        162   0.851852         11.0  \n",
       "2669        637   0.718995          6.0  "
      ]
     },
     "execution_count": 11,
     "metadata": {},
     "output_type": "execute_result"
    }
   ],
   "source": [
    "x_train.sample(10)"
   ]
  },
  {
   "cell_type": "code",
   "execution_count": 12,
   "metadata": {},
   "outputs": [
    {
     "name": "stdout",
     "output_type": "stream",
     "text": [
      "(3636,) (3636,)\n",
      "(1559,) (1559,)\n"
     ]
    }
   ],
   "source": [
    "#LATENT SEMANTIC ANALYSIS\n",
    "\n",
    "x_train_lsa = x_train[\"Data\"]\n",
    "y_train_lsa = y_train\n",
    "x_test_lsa = x_test[\"Data\"]\n",
    "y_test_lsa = y_test\n",
    "\n",
    "print(x_train_lsa.shape, y_train_lsa.shape)\n",
    "print(x_test_lsa.shape, y_test_lsa.shape)"
   ]
  },
  {
   "cell_type": "code",
   "execution_count": 13,
   "metadata": {},
   "outputs": [],
   "source": [
    "#vectorizer = CountVectorizer(max_df=0.9, min_df=5)\n",
    "vectorizer = TfidfVectorizer(max_df=0.9, min_df=5)\n",
    "x_train_lsa_vec = vectorizer.fit_transform(x_train_lsa).todense()\n",
    "x_test_lsa_vec = vectorizer.fit_transform(x_test_lsa).todense()\n",
    "#X_tf = tfidf.fit_transform(x_train).todense()\n",
    "#print (X_tf)"
   ]
  },
  {
   "cell_type": "code",
   "execution_count": 14,
   "metadata": {},
   "outputs": [
    {
     "data": {
      "text/plain": [
       "((3636, 16906), (1559, 10303))"
      ]
     },
     "execution_count": 14,
     "metadata": {},
     "output_type": "execute_result"
    }
   ],
   "source": [
    "x_train_lsa_vec.shape, x_test_lsa_vec.shape"
   ]
  },
  {
   "cell_type": "code",
   "execution_count": 15,
   "metadata": {},
   "outputs": [],
   "source": [
    "svd = TruncatedSVD(n_components = 100)\n",
    "lsa = make_pipeline(svd, Normalizer(copy=False))\n",
    "\n",
    "x_transform_lsa_train = lsa.fit_transform(x_train_lsa_vec)\n",
    "x_transform_lsa_test = lsa.fit_transform(x_test_lsa_vec)\n",
    "\n",
    "U_matrix_train = x_transform_lsa_train / svd.singular_values_\n",
    "S_matrix_train = np.diag(svd.singular_values_)\n",
    "VT_matrix_train = svd.components_\n",
    "\n",
    "U_matrix_test = x_transform_lsa_test / svd.singular_values_\n",
    "S_matrix_test = np.diag(svd.singular_values_)\n",
    "VT_matrix_test = svd.components_\n"
   ]
  },
  {
   "cell_type": "code",
   "execution_count": 16,
   "metadata": {},
   "outputs": [
    {
     "name": "stdout",
     "output_type": "stream",
     "text": [
      "Train Data 2:  (3636, 100) (3636, 100) (100, 100) (100, 10303)\n",
      "Test Data 2:  (1559, 100) (1559, 100) (100, 100) (100, 10303)\n"
     ]
    }
   ],
   "source": [
    "print(\"Train Data 2: \", x_transform_lsa_train.shape, U_matrix_train.shape, S_matrix_train.shape, VT_matrix_train.shape)\n",
    "print(\"Test Data 2: \", x_transform_lsa_test.shape, U_matrix_test.shape, S_matrix_test.shape, VT_matrix_test.shape)"
   ]
  },
  {
   "cell_type": "code",
   "execution_count": 17,
   "metadata": {},
   "outputs": [
    {
     "data": {
      "text/plain": [
       "((3636, 100), (1559, 100))"
      ]
     },
     "execution_count": 17,
     "metadata": {},
     "output_type": "execute_result"
    }
   ],
   "source": [
    "sem_matrix_train_2 = np.dot(U_matrix_train, S_matrix_train)\n",
    "sem_matrix_test_2 = np.dot(U_matrix_test, S_matrix_test)\n",
    "\n",
    "sem_matrix_train_2.shape , sem_matrix_test_2.shape"
   ]
  },
  {
   "cell_type": "code",
   "execution_count": 18,
   "metadata": {},
   "outputs": [
    {
     "data": {
      "text/plain": [
       "SVC(C=1.0, cache_size=200, class_weight=None, coef0=0.0,\n",
       "  decision_function_shape='ovr', degree=3, gamma=1, kernel='linear',\n",
       "  max_iter=-1, probability=True, random_state=None, shrinking=True,\n",
       "  tol=0.001, verbose=False)"
      ]
     },
     "execution_count": 18,
     "metadata": {},
     "output_type": "execute_result"
    }
   ],
   "source": [
    "from sklearn import svm\n",
    "svm_model_lsa_linear = svm.SVC(kernel='linear', gamma=1, probability=True)\n",
    "svm_model_lsa_linear.fit(sem_matrix_train_2, y_train)"
   ]
  },
  {
   "cell_type": "code",
   "execution_count": 19,
   "metadata": {},
   "outputs": [
    {
     "data": {
      "text/plain": [
       "SVC(C=1.0, cache_size=200, class_weight=None, coef0=0.0,\n",
       "  decision_function_shape='ovr', degree=3, gamma=1, kernel='poly',\n",
       "  max_iter=-1, probability=True, random_state=None, shrinking=True,\n",
       "  tol=0.001, verbose=False)"
      ]
     },
     "execution_count": 19,
     "metadata": {},
     "output_type": "execute_result"
    }
   ],
   "source": [
    "svm_model_lsa_poly = svm.SVC(kernel='poly', gamma=1, probability=True)\n",
    "svm_model_lsa_poly.fit(sem_matrix_train_2, y_train) "
   ]
  },
  {
   "cell_type": "code",
   "execution_count": 20,
   "metadata": {},
   "outputs": [
    {
     "data": {
      "text/plain": [
       "SVC(C=1.0, cache_size=200, class_weight=None, coef0=0.0,\n",
       "  decision_function_shape='ovr', degree=3, gamma=1, kernel='rbf',\n",
       "  max_iter=-1, probability=True, random_state=None, shrinking=True,\n",
       "  tol=0.001, verbose=False)"
      ]
     },
     "execution_count": 20,
     "metadata": {},
     "output_type": "execute_result"
    }
   ],
   "source": [
    "svm_model_lsa_rbf = svm.SVC(kernel='rbf', gamma=1, probability=True)\n",
    "svm_model_lsa_rbf.fit(sem_matrix_train_2, y_train)"
   ]
  },
  {
   "cell_type": "code",
   "execution_count": 21,
   "metadata": {},
   "outputs": [
    {
     "data": {
      "text/plain": [
       "SVC(C=1.0, cache_size=200, class_weight=None, coef0=0.0,\n",
       "  decision_function_shape='ovr', degree=3, gamma=1, kernel='sigmoid',\n",
       "  max_iter=-1, probability=True, random_state=None, shrinking=True,\n",
       "  tol=0.001, verbose=False)"
      ]
     },
     "execution_count": 21,
     "metadata": {},
     "output_type": "execute_result"
    }
   ],
   "source": [
    "svm_model_lsa_sigmoid = svm.SVC(kernel='sigmoid', gamma=1, probability=True)\n",
    "svm_model_lsa_sigmoid.fit(sem_matrix_train_2, y_train) "
   ]
  },
  {
   "cell_type": "code",
   "execution_count": 27,
   "metadata": {},
   "outputs": [],
   "source": [
    "lsa_value_linear = svm_model_lsa_linear.decision_function(sem_matrix_test_2)\n",
    "lsa_value_poly = svm_model_lsa_poly.decision_function(sem_matrix_test_2)\n",
    "lsa_value_rbf = svm_model_lsa_rbf.decision_function(sem_matrix_test_2)\n",
    "lsa_value_sigmoid = svm_model_lsa_sigmoid.decision_function(sem_matrix_test_2)\n",
    "\n",
    "lsa_predict_linear = svm_model_lsa_linear.predict(sem_matrix_test_2)\n",
    "lsa_predict_poly = svm_model_lsa_poly.predict(sem_matrix_test_2)\n",
    "lsa_predict_rbf = svm_model_lsa_rbf.predict(sem_matrix_test_2)\n",
    "lsa_predict_sigmoid = svm_model_lsa_sigmoid.predict(sem_matrix_test_2)"
   ]
  },
  {
   "cell_type": "code",
   "execution_count": 37,
   "metadata": {},
   "outputs": [
    {
     "name": "stdout",
     "output_type": "stream",
     "text": [
      "=========================LINEAR KERNEL=========================\n",
      "              precision    recall  f1-score   support\n",
      "\n",
      "        -1.0       0.59      0.55      0.57       820\n",
      "         1.0       0.54      0.58      0.56       739\n",
      "\n",
      "   micro avg       0.57      0.57      0.57      1559\n",
      "   macro avg       0.57      0.57      0.57      1559\n",
      "weighted avg       0.57      0.57      0.57      1559\n",
      "\n",
      "akurasi :  0.5663887107119948\n",
      "=========================POLINOMIAL KERNEL=========================\n",
      "              precision    recall  f1-score   support\n",
      "\n",
      "        -1.0       0.59      0.55      0.57       820\n",
      "         1.0       0.54      0.58      0.56       739\n",
      "\n",
      "   micro avg       0.57      0.57      0.57      1559\n",
      "   macro avg       0.57      0.57      0.57      1559\n",
      "weighted avg       0.57      0.57      0.57      1559\n",
      "\n",
      "akurasi :  0.5933290570878769\n",
      "=========================RBF KERNEL=========================\n",
      "              precision    recall  f1-score   support\n",
      "\n",
      "        -1.0       0.59      0.55      0.57       820\n",
      "         1.0       0.54      0.58      0.56       739\n",
      "\n",
      "   micro avg       0.57      0.57      0.57      1559\n",
      "   macro avg       0.57      0.57      0.57      1559\n",
      "weighted avg       0.57      0.57      0.57      1559\n",
      "\n",
      "akurasi :  0.5798588838999359\n",
      "=========================SIGMOID KERNEL=========================\n",
      "              precision    recall  f1-score   support\n",
      "\n",
      "        -1.0       0.59      0.55      0.57       820\n",
      "         1.0       0.54      0.58      0.56       739\n",
      "\n",
      "   micro avg       0.57      0.57      0.57      1559\n",
      "   macro avg       0.57      0.57      0.57      1559\n",
      "weighted avg       0.57      0.57      0.57      1559\n",
      "\n",
      "akurasi :  0.5657472738935215\n"
     ]
    }
   ],
   "source": [
    "from sklearn import metrics \n",
    "from sklearn.metrics import classification_report, confusion_matrix\n",
    "import itertools\n",
    "\n",
    "acc_lin = metrics.accuracy_score(y_test, lsa_predict_linear)\n",
    "acc_pol = metrics.accuracy_score(y_test, lsa_predict_poly)\n",
    "acc_rbf = metrics.accuracy_score(y_test, lsa_predict_rbf)\n",
    "acc_sig = metrics.accuracy_score(y_test, lsa_predict_sigmoid)\n",
    "\n",
    "print(\"=========================LINEAR KERNEL=========================\")\n",
    "print (classification_report(y_test, lsa_predict_linear))\n",
    "print(\"akurasi : \", acc_lin)\n",
    "\n",
    "\n",
    "print(\"=========================POLINOMIAL KERNEL=========================\")\n",
    "print (classification_report(y_test, lsa_predict_linear))\n",
    "print(\"akurasi : \", acc_pol)\n",
    "\n",
    "print(\"=========================RBF KERNEL=========================\")\n",
    "print (classification_report(y_test, lsa_predict_linear))\n",
    "print(\"akurasi : \", acc_rbf)\n",
    "\n",
    "print(\"=========================SIGMOID KERNEL=========================\")\n",
    "print (classification_report(y_test, lsa_predict_linear))\n",
    "print(\"akurasi : \", acc_sig)"
   ]
  },
  {
   "cell_type": "code",
   "execution_count": 48,
   "metadata": {},
   "outputs": [],
   "source": [
    "def plot_confusion_matrix(cm, classes,\n",
    "                          normalize=False,\n",
    "                          title='Confusion matrix',\n",
    "                          cmap=plt.cm.PuBu):\n",
    "    \"\"\"\n",
    "    This function prints and plots the confusion matrix.\n",
    "    Normalization can be applied by setting `normalize=True`.\n",
    "    \"\"\"\n",
    "    if normalize:\n",
    "        cm = cm.astype('float') / cm.sum(axis=1)[:, np.newaxis]\n",
    "        print(\"Normalized confusion matrix\")\n",
    "    else:\n",
    "        print('Confusion matrix, without normalization')\n",
    "\n",
    "    print(cm)\n",
    "\n",
    "    plt.imshow(cm, interpolation='nearest', cmap=cmap)\n",
    "    plt.title(title)\n",
    "    plt.colorbar()\n",
    "    tick_marks = np.arange(len(classes))\n",
    "    plt.xticks(tick_marks, classes, rotation=45)\n",
    "    plt.yticks(tick_marks, classes)\n",
    "\n",
    "    fmt = '.2f' if normalize else 'd'\n",
    "    thresh = cm.max() / 2.\n",
    "    for i, j in itertools.product(range(cm.shape[0]), range(cm.shape[1])):\n",
    "        plt.text(j, i, format(cm[i, j], fmt),\n",
    "                 horizontalalignment=\"center\",\n",
    "                 color=\"white\" if cm[i, j] > thresh else \"black\")\n",
    "\n",
    "    plt.tight_layout()\n",
    "    plt.ylabel('True label')\n",
    "    plt.xlabel('Predicted label')"
   ]
  },
  {
   "cell_type": "code",
   "execution_count": 63,
   "metadata": {},
   "outputs": [
    {
     "name": "stdout",
     "output_type": "stream",
     "text": [
      "              precision    recall  f1-score   support\n",
      "\n",
      "        -1.0       0.59      0.55      0.57       820\n",
      "         1.0       0.54      0.58      0.56       739\n",
      "\n",
      "   micro avg       0.57      0.57      0.57      1559\n",
      "   macro avg       0.57      0.57      0.57      1559\n",
      "weighted avg       0.57      0.57      0.57      1559\n",
      "\n",
      "Confusion matrix, without normalization\n",
      "[[428 311]\n",
      " [365 455]]\n"
     ]
    },
    {
     "data": {
      "image/png": "[encoded data removed]",
      "text/plain": [
       "<Figure size 432x288 with 2 Axes>"
      ]
     },
     "metadata": {
      "needs_background": "light"
     },
     "output_type": "display_data"
    }
   ],
   "source": [
    "# Compute confusion matrix\n",
    "cnf_matrix = confusion_matrix(y_test, lsa_predict_linear, labels=[1,-1])\n",
    "np.set_printoptions(precision=2)\n",
    "\n",
    "print (classification_report(y_test, lsa_predict_linear))\n",
    "\n",
    "# Plot non-normalized confusion matrix\n",
    "plt.figure()\n",
    "plot_confusion_matrix(cnf_matrix, classes=['Kids(1)','General()'],normalize= False,  title='Confusion matrix')"
   ]
  },
  {
   "cell_type": "code",
   "execution_count": 41,
   "metadata": {},
   "outputs": [
    {
     "name": "stdout",
     "output_type": "stream",
     "text": [
      "=========================RBF KERNEL=========================\n",
      "              precision    recall  f1-score   support\n",
      "\n",
      "        -1.0       0.60      0.59      0.60       820\n",
      "         1.0       0.56      0.57      0.56       739\n",
      "\n",
      "   micro avg       0.58      0.58      0.58      1559\n",
      "   macro avg       0.58      0.58      0.58      1559\n",
      "weighted avg       0.58      0.58      0.58      1559\n",
      "\n",
      "akurasi :  0.5798588838999359\n"
     ]
    }
   ],
   "source": [
    "acc_rbf = metrics.accuracy_score(y_test, lsa_predict_rbf)\n",
    "print(\"=========================RBF KERNEL=========================\")\n",
    "print (classification_report(y_test, lsa_predict_rbf))\n",
    "print(\"akurasi : \", acc_rbf)"
   ]
  },
  {
   "cell_type": "code",
   "execution_count": 62,
   "metadata": {},
   "outputs": [
    {
     "data": {
      "text/plain": [
       "739"
      ]
     },
     "execution_count": 62,
     "metadata": {},
     "output_type": "execute_result"
    }
   ],
   "source": [
    "hitungy = y_test.to_list()\n",
    "hitungy.count(1)"
   ]
  }
 ],
 "metadata": {
  "kernelspec": {
   "display_name": "Python 3",
   "language": "python",
   "name": "python3"
  },
  "language_info": {
   "codemirror_mode": {
    "name": "ipython",
    "version": 3
   },
   "file_extension": ".py",
   "mimetype": "text/x-python",
   "name": "python",
   "nbconvert_exporter": "python",
   "pygments_lexer": "ipython3",
   "version": "3.7.3"
  }
 },
 "nbformat": 4,
 "nbformat_minor": 2
}
